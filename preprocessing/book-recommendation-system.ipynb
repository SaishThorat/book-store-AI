{
  "cells": [
    {
      "cell_type": "markdown",
      "id": "0oCmlqk-hEDB",
      "metadata": {
        "id": "0oCmlqk-hEDB"
      },
      "source": [
        "# Importing the required Libraries"
      ]
    },
    {
      "cell_type": "code",
      "execution_count": 1,
      "id": "aSiUBcpXPf_d",
      "metadata": {
        "colab": {
          "base_uri": "https://localhost:8080/"
        },
        "id": "aSiUBcpXPf_d",
        "outputId": "10a3d8d9-569b-4ab8-facc-0ab1e28fc346"
      },
      "outputs": [],
      "source": [
        "# from google.colab import drive\n",
        "# drive.mount('/content/drive')"
      ]
    },
    {
      "cell_type": "code",
      "execution_count": 2,
      "id": "9-8GfeAHRthc",
      "metadata": {
        "id": "9-8GfeAHRthc"
      },
      "outputs": [],
      "source": [
        "base_path = r\"D:/Work/Hackathon/AI_ML/Dev/Dataset/D_new/\"\n",
        "model_route = r\"D:/Work/Hackathon/AI_ML/Dev/Models/\""
      ]
    },
    {
      "cell_type": "code",
      "execution_count": 3,
      "id": "5fc3eafd",
      "metadata": {
        "_cell_guid": "b1076dfc-b9ad-4769-8c92-a6c4dae69d19",
        "_uuid": "8f2839f25d086af736a60e9eeb907d3b93b6e0e5",
        "colab": {
          "base_uri": "https://localhost:8080/"
        },
        "execution": {
          "iopub.execute_input": "2024-03-08T00:30:18.265166Z",
          "iopub.status.busy": "2024-03-08T00:30:18.264860Z",
          "iopub.status.idle": "2024-03-08T00:30:23.930036Z",
          "shell.execute_reply": "2024-03-08T00:30:23.929093Z"
        },
        "id": "5fc3eafd",
        "outputId": "cf9562f3-293e-4541-e9d5-4c2a106b3ea8",
        "papermill": {
          "duration": 5.689812,
          "end_time": "2024-03-08T00:30:23.932501",
          "exception": false,
          "start_time": "2024-03-08T00:30:18.242689",
          "status": "completed"
        },
        "tags": []
      },
      "outputs": [
        {
          "data": {
            "text/plain": [
              "device(type='cpu')"
            ]
          },
          "execution_count": 3,
          "metadata": {},
          "output_type": "execute_result"
        }
      ],
      "source": [
        "import os\n",
        "os.environ['CUDA_LAUNCH_BLOCKING'] = '1'\n",
        "os.environ['TORCH_USE_CUDA_DSA'] = '1'\n",
        "\n",
        "import torch\n",
        "import torch.nn as nn\n",
        "import torch.optim as optim\n",
        "import torch.nn.functional as F\n",
        "from torch.utils.data import DataLoader, TensorDataset\n",
        "from sklearn.model_selection import train_test_split\n",
        "from sklearn.metrics import accuracy_score\n",
        "import pandas as pd\n",
        "from tqdm.notebook import tqdm\n",
        "import re\n",
        "import numpy as np\n",
        "import random\n",
        "\n",
        "\n",
        "device = torch.device(\"cuda\" if torch.cuda.is_available() else \"cpu\")\n",
        "device"
      ]
    },
    {
      "cell_type": "markdown",
      "id": "dd169fa6",
      "metadata": {
        "id": "dd169fa6",
        "papermill": {
          "duration": 0.021038,
          "end_time": "2024-03-08T00:30:23.979083",
          "exception": false,
          "start_time": "2024-03-08T00:30:23.958045",
          "status": "completed"
        },
        "tags": []
      },
      "source": [
        "# Preparing Dataset"
      ]
    },
    {
      "cell_type": "markdown",
      "id": "6e808019",
      "metadata": {
        "id": "6e808019",
        "papermill": {
          "duration": 0.020952,
          "end_time": "2024-03-08T00:30:24.021285",
          "exception": false,
          "start_time": "2024-03-08T00:30:24.000333",
          "status": "completed"
        },
        "tags": []
      },
      "source": [
        "Using Amazon Books Reviews Dataset - [link](https://www.kaggle.com/datasets/mohamedbakhet/amazon-books-reviews)"
      ]
    },
    {
      "cell_type": "code",
      "execution_count": 3,
      "id": "4ed36604",
      "metadata": {
        "execution": {
          "iopub.execute_input": "2024-03-08T00:30:24.066601Z",
          "iopub.status.busy": "2024-03-08T00:30:24.065424Z",
          "iopub.status.idle": "2024-03-08T00:31:24.142819Z",
          "shell.execute_reply": "2024-03-08T00:31:24.141933Z"
        },
        "id": "4ed36604",
        "papermill": {
          "duration": 60.103014,
          "end_time": "2024-03-08T00:31:24.145289",
          "exception": false,
          "start_time": "2024-03-08T00:30:24.042275",
          "status": "completed"
        },
        "tags": []
      },
      "outputs": [],
      "source": [
        "books_details_file_path = base_path + \"books_data.csv\"\n",
        "reviews_file_path = base_path + \"Books_rating.csv\""
      ]
    },
    {
      "cell_type": "code",
      "execution_count": 4,
      "id": "e6Y_YkgRdKR4",
      "metadata": {
        "id": "e6Y_YkgRdKR4"
      },
      "outputs": [],
      "source": [
        "# Load the reviews file\n",
        "# Actual number of rows are of around 3000000\n",
        "n = 3000000 - 1 #number of records in file (excludes header)\n",
        "s = 400000 #desired sample size\n",
        "skip = sorted(random.sample(range(1,n+1),n-s)) #the 0-indexed header will not be included in the skip list\n",
        "reviews_df = pd.read_csv(reviews_file_path, skiprows=skip)"
      ]
    },
    {
      "cell_type": "code",
      "execution_count": 5,
      "id": "qTlVBoFlbqMz",
      "metadata": {
        "id": "qTlVBoFlbqMz"
      },
      "outputs": [],
      "source": [
        "# Load the Books Details file\n",
        "# Actual number of rows are of around 212404\n",
        "n = 212404 - 1 #number of records in file (excludes header)\n",
        "s = 150000 #desired sample size\n",
        "skip = sorted(random.sample(range(1,n+1),n-s)) #the 0-indexed header will not be included in the skip list\n",
        "# df = pd.read_csv(filename, skiprows=skip)\n",
        "books_details_df = pd.read_csv(books_details_file_path, skiprows=skip)"
      ]
    },
    {
      "cell_type": "code",
      "execution_count": 6,
      "id": "aELJc13SU4Ye",
      "metadata": {
        "colab": {
          "base_uri": "https://localhost:8080/",
          "height": 590
        },
        "id": "aELJc13SU4Ye",
        "outputId": "c158c87b-d1a9-44ba-89c5-d3fa38363b9e"
      },
      "outputs": [
        {
          "data": {
            "text/html": [
              "<div>\n",
              "<style scoped>\n",
              "    .dataframe tbody tr th:only-of-type {\n",
              "        vertical-align: middle;\n",
              "    }\n",
              "\n",
              "    .dataframe tbody tr th {\n",
              "        vertical-align: top;\n",
              "    }\n",
              "\n",
              "    .dataframe thead th {\n",
              "        text-align: right;\n",
              "    }\n",
              "</style>\n",
              "<table border=\"1\" class=\"dataframe\">\n",
              "  <thead>\n",
              "    <tr style=\"text-align: right;\">\n",
              "      <th></th>\n",
              "      <th>Title</th>\n",
              "      <th>description</th>\n",
              "      <th>authors</th>\n",
              "      <th>image</th>\n",
              "      <th>previewLink</th>\n",
              "      <th>publisher</th>\n",
              "      <th>publishedDate</th>\n",
              "      <th>infoLink</th>\n",
              "      <th>categories</th>\n",
              "      <th>ratingsCount</th>\n",
              "    </tr>\n",
              "  </thead>\n",
              "  <tbody>\n",
              "    <tr>\n",
              "      <th>0</th>\n",
              "      <td>Its Only Art If Its Well Hung!</td>\n",
              "      <td>NaN</td>\n",
              "      <td>['Julie Strain']</td>\n",
              "      <td>http://books.google.com/books/content?id=DykPA...</td>\n",
              "      <td>http://books.google.nl/books?id=DykPAAAACAAJ&amp;d...</td>\n",
              "      <td>NaN</td>\n",
              "      <td>1996</td>\n",
              "      <td>http://books.google.nl/books?id=DykPAAAACAAJ&amp;d...</td>\n",
              "      <td>['Comics &amp; Graphic Novels']</td>\n",
              "      <td>NaN</td>\n",
              "    </tr>\n",
              "    <tr>\n",
              "      <th>1</th>\n",
              "      <td>Dr. Seuss: American Icon</td>\n",
              "      <td>Philip Nel takes a fascinating look into the k...</td>\n",
              "      <td>['Philip Nel']</td>\n",
              "      <td>http://books.google.com/books/content?id=IjvHQ...</td>\n",
              "      <td>http://books.google.nl/books?id=IjvHQsCn_pgC&amp;p...</td>\n",
              "      <td>A&amp;C Black</td>\n",
              "      <td>2005-01-01</td>\n",
              "      <td>http://books.google.nl/books?id=IjvHQsCn_pgC&amp;d...</td>\n",
              "      <td>['Biography &amp; Autobiography']</td>\n",
              "      <td>NaN</td>\n",
              "    </tr>\n",
              "    <tr>\n",
              "      <th>2</th>\n",
              "      <td>Wonderful Worship in Smaller Churches</td>\n",
              "      <td>This resource includes twelve principles in un...</td>\n",
              "      <td>['David R. Ray']</td>\n",
              "      <td>http://books.google.com/books/content?id=2tsDA...</td>\n",
              "      <td>http://books.google.nl/books?id=2tsDAAAACAAJ&amp;d...</td>\n",
              "      <td>NaN</td>\n",
              "      <td>2000</td>\n",
              "      <td>http://books.google.nl/books?id=2tsDAAAACAAJ&amp;d...</td>\n",
              "      <td>['Religion']</td>\n",
              "      <td>NaN</td>\n",
              "    </tr>\n",
              "    <tr>\n",
              "      <th>3</th>\n",
              "      <td>Nation Dance: Religion, Identity and Cultural ...</td>\n",
              "      <td>NaN</td>\n",
              "      <td>['Edward Long']</td>\n",
              "      <td>NaN</td>\n",
              "      <td>http://books.google.nl/books?id=399SPgAACAAJ&amp;d...</td>\n",
              "      <td>NaN</td>\n",
              "      <td>2003-03-01</td>\n",
              "      <td>http://books.google.nl/books?id=399SPgAACAAJ&amp;d...</td>\n",
              "      <td>NaN</td>\n",
              "      <td>NaN</td>\n",
              "    </tr>\n",
              "    <tr>\n",
              "      <th>4</th>\n",
              "      <td>The Church of Christ: A Biblical Ecclesiology ...</td>\n",
              "      <td>In The Church of Christ: A Biblical Ecclesiolo...</td>\n",
              "      <td>['Everett Ferguson']</td>\n",
              "      <td>http://books.google.com/books/content?id=kVqRa...</td>\n",
              "      <td>http://books.google.nl/books?id=kVqRaiPlx88C&amp;p...</td>\n",
              "      <td>Wm. B. Eerdmans Publishing</td>\n",
              "      <td>1996</td>\n",
              "      <td>http://books.google.nl/books?id=kVqRaiPlx88C&amp;d...</td>\n",
              "      <td>['Religion']</td>\n",
              "      <td>5.0</td>\n",
              "    </tr>\n",
              "  </tbody>\n",
              "</table>\n",
              "</div>"
            ],
            "text/plain": [
              "                                               Title  \\\n",
              "0                     Its Only Art If Its Well Hung!   \n",
              "1                           Dr. Seuss: American Icon   \n",
              "2              Wonderful Worship in Smaller Churches   \n",
              "3  Nation Dance: Religion, Identity and Cultural ...   \n",
              "4  The Church of Christ: A Biblical Ecclesiology ...   \n",
              "\n",
              "                                         description               authors  \\\n",
              "0                                                NaN      ['Julie Strain']   \n",
              "1  Philip Nel takes a fascinating look into the k...        ['Philip Nel']   \n",
              "2  This resource includes twelve principles in un...      ['David R. Ray']   \n",
              "3                                                NaN       ['Edward Long']   \n",
              "4  In The Church of Christ: A Biblical Ecclesiolo...  ['Everett Ferguson']   \n",
              "\n",
              "                                               image  \\\n",
              "0  http://books.google.com/books/content?id=DykPA...   \n",
              "1  http://books.google.com/books/content?id=IjvHQ...   \n",
              "2  http://books.google.com/books/content?id=2tsDA...   \n",
              "3                                                NaN   \n",
              "4  http://books.google.com/books/content?id=kVqRa...   \n",
              "\n",
              "                                         previewLink  \\\n",
              "0  http://books.google.nl/books?id=DykPAAAACAAJ&d...   \n",
              "1  http://books.google.nl/books?id=IjvHQsCn_pgC&p...   \n",
              "2  http://books.google.nl/books?id=2tsDAAAACAAJ&d...   \n",
              "3  http://books.google.nl/books?id=399SPgAACAAJ&d...   \n",
              "4  http://books.google.nl/books?id=kVqRaiPlx88C&p...   \n",
              "\n",
              "                    publisher publishedDate  \\\n",
              "0                         NaN          1996   \n",
              "1                   A&C Black    2005-01-01   \n",
              "2                         NaN          2000   \n",
              "3                         NaN    2003-03-01   \n",
              "4  Wm. B. Eerdmans Publishing          1996   \n",
              "\n",
              "                                            infoLink  \\\n",
              "0  http://books.google.nl/books?id=DykPAAAACAAJ&d...   \n",
              "1  http://books.google.nl/books?id=IjvHQsCn_pgC&d...   \n",
              "2  http://books.google.nl/books?id=2tsDAAAACAAJ&d...   \n",
              "3  http://books.google.nl/books?id=399SPgAACAAJ&d...   \n",
              "4  http://books.google.nl/books?id=kVqRaiPlx88C&d...   \n",
              "\n",
              "                      categories  ratingsCount  \n",
              "0    ['Comics & Graphic Novels']           NaN  \n",
              "1  ['Biography & Autobiography']           NaN  \n",
              "2                   ['Religion']           NaN  \n",
              "3                            NaN           NaN  \n",
              "4                   ['Religion']           5.0  "
            ]
          },
          "execution_count": 6,
          "metadata": {},
          "output_type": "execute_result"
        }
      ],
      "source": [
        "books_details_df.head()"
      ]
    },
    {
      "cell_type": "code",
      "execution_count": 7,
      "id": "I-NqgByzVDcB",
      "metadata": {
        "colab": {
          "base_uri": "https://localhost:8080/",
          "height": 538
        },
        "id": "I-NqgByzVDcB",
        "outputId": "10c3ad8d-c8ec-46e8-b3ed-3bb2c505d78a"
      },
      "outputs": [
        {
          "data": {
            "text/html": [
              "<div>\n",
              "<style scoped>\n",
              "    .dataframe tbody tr th:only-of-type {\n",
              "        vertical-align: middle;\n",
              "    }\n",
              "\n",
              "    .dataframe tbody tr th {\n",
              "        vertical-align: top;\n",
              "    }\n",
              "\n",
              "    .dataframe thead th {\n",
              "        text-align: right;\n",
              "    }\n",
              "</style>\n",
              "<table border=\"1\" class=\"dataframe\">\n",
              "  <thead>\n",
              "    <tr style=\"text-align: right;\">\n",
              "      <th></th>\n",
              "      <th>Id</th>\n",
              "      <th>Title</th>\n",
              "      <th>Price</th>\n",
              "      <th>User_id</th>\n",
              "      <th>profileName</th>\n",
              "      <th>review/helpfulness</th>\n",
              "      <th>review/score</th>\n",
              "      <th>review/time</th>\n",
              "      <th>review/summary</th>\n",
              "      <th>review/text</th>\n",
              "    </tr>\n",
              "  </thead>\n",
              "  <tbody>\n",
              "    <tr>\n",
              "      <th>0</th>\n",
              "      <td>0826414346</td>\n",
              "      <td>Dr. Seuss: American Icon</td>\n",
              "      <td>NaN</td>\n",
              "      <td>A2F6NONFUDB6UK</td>\n",
              "      <td>Malvin</td>\n",
              "      <td>2/2</td>\n",
              "      <td>4.0</td>\n",
              "      <td>1127174400</td>\n",
              "      <td>One of America's greatest creative talents</td>\n",
              "      <td>\"Dr. Seuss: American Icon\" by Philip Nel is a ...</td>\n",
              "    </tr>\n",
              "    <tr>\n",
              "      <th>1</th>\n",
              "      <td>0829814000</td>\n",
              "      <td>Wonderful Worship in Smaller Churches</td>\n",
              "      <td>19.40</td>\n",
              "      <td>A3OQWLU31BU1Y</td>\n",
              "      <td>Maxwell Grant</td>\n",
              "      <td>1/1</td>\n",
              "      <td>5.0</td>\n",
              "      <td>1222560000</td>\n",
              "      <td>Small church pastor? This is the book on worship</td>\n",
              "      <td>I hadn't been a small church pastor very long ...</td>\n",
              "    </tr>\n",
              "    <tr>\n",
              "      <th>2</th>\n",
              "      <td>0595344550</td>\n",
              "      <td>Whispers of the Wicked Saints</td>\n",
              "      <td>10.95</td>\n",
              "      <td>AE5JROER4ERSO</td>\n",
              "      <td>carrie</td>\n",
              "      <td>0/0</td>\n",
              "      <td>5.0</td>\n",
              "      <td>1119484800</td>\n",
              "      <td>The truth about WOTWS</td>\n",
              "      <td>I have to say that my friends at work all read...</td>\n",
              "    </tr>\n",
              "    <tr>\n",
              "      <th>3</th>\n",
              "      <td>0595344550</td>\n",
              "      <td>Whispers of the Wicked Saints</td>\n",
              "      <td>10.95</td>\n",
              "      <td>A3U1XS6XK6YUU4</td>\n",
              "      <td>kassie</td>\n",
              "      <td>1/1</td>\n",
              "      <td>5.0</td>\n",
              "      <td>1115078400</td>\n",
              "      <td>You have to read this book</td>\n",
              "      <td>I can not talk this book up enough. It was wel...</td>\n",
              "    </tr>\n",
              "    <tr>\n",
              "      <th>4</th>\n",
              "      <td>0802841899</td>\n",
              "      <td>The Church of Christ: A Biblical Ecclesiology ...</td>\n",
              "      <td>25.97</td>\n",
              "      <td>ARI272XF8TOL4</td>\n",
              "      <td>Christopher J. Bray</td>\n",
              "      <td>74/81</td>\n",
              "      <td>5.0</td>\n",
              "      <td>955411200</td>\n",
              "      <td>Ecclesiological Milestone</td>\n",
              "      <td>With the publication of Everett Ferguson's boo...</td>\n",
              "    </tr>\n",
              "  </tbody>\n",
              "</table>\n",
              "</div>"
            ],
            "text/plain": [
              "           Id                                              Title  Price  \\\n",
              "0  0826414346                           Dr. Seuss: American Icon    NaN   \n",
              "1  0829814000              Wonderful Worship in Smaller Churches  19.40   \n",
              "2  0595344550                      Whispers of the Wicked Saints  10.95   \n",
              "3  0595344550                      Whispers of the Wicked Saints  10.95   \n",
              "4  0802841899  The Church of Christ: A Biblical Ecclesiology ...  25.97   \n",
              "\n",
              "          User_id          profileName review/helpfulness  review/score  \\\n",
              "0  A2F6NONFUDB6UK               Malvin                2/2           4.0   \n",
              "1   A3OQWLU31BU1Y        Maxwell Grant                1/1           5.0   \n",
              "2   AE5JROER4ERSO               carrie                0/0           5.0   \n",
              "3  A3U1XS6XK6YUU4               kassie                1/1           5.0   \n",
              "4   ARI272XF8TOL4  Christopher J. Bray              74/81           5.0   \n",
              "\n",
              "   review/time                                    review/summary  \\\n",
              "0   1127174400        One of America's greatest creative talents   \n",
              "1   1222560000  Small church pastor? This is the book on worship   \n",
              "2   1119484800                             The truth about WOTWS   \n",
              "3   1115078400                        You have to read this book   \n",
              "4    955411200                         Ecclesiological Milestone   \n",
              "\n",
              "                                         review/text  \n",
              "0  \"Dr. Seuss: American Icon\" by Philip Nel is a ...  \n",
              "1  I hadn't been a small church pastor very long ...  \n",
              "2  I have to say that my friends at work all read...  \n",
              "3  I can not talk this book up enough. It was wel...  \n",
              "4  With the publication of Everett Ferguson's boo...  "
            ]
          },
          "execution_count": 7,
          "metadata": {},
          "output_type": "execute_result"
        }
      ],
      "source": [
        "reviews_df.head()"
      ]
    },
    {
      "cell_type": "code",
      "execution_count": 8,
      "id": "41d22f56",
      "metadata": {
        "colab": {
          "base_uri": "https://localhost:8080/"
        },
        "execution": {
          "iopub.execute_input": "2024-03-08T00:31:24.190312Z",
          "iopub.status.busy": "2024-03-08T00:31:24.189696Z",
          "iopub.status.idle": "2024-03-08T00:31:24.400991Z",
          "shell.execute_reply": "2024-03-08T00:31:24.399953Z"
        },
        "id": "41d22f56",
        "outputId": "6aabfced-27d5-42a9-ad61-9d3070af55c8",
        "papermill": {
          "duration": 0.235913,
          "end_time": "2024-03-08T00:31:24.403565",
          "exception": false,
          "start_time": "2024-03-08T00:31:24.167652",
          "status": "completed"
        },
        "tags": []
      },
      "outputs": [
        {
          "name": "stdout",
          "output_type": "stream",
          "text": [
            "Reviews Dataset:\n",
            "<class 'pandas.core.frame.DataFrame'>\n",
            "RangeIndex: 400001 entries, 0 to 400000\n",
            "Data columns (total 10 columns):\n",
            " #   Column              Non-Null Count   Dtype  \n",
            "---  ------              --------------   -----  \n",
            " 0   Id                  400001 non-null  object \n",
            " 1   Title               399969 non-null  object \n",
            " 2   Price               64114 non-null   float64\n",
            " 3   User_id             325376 non-null  object \n",
            " 4   profileName         325358 non-null  object \n",
            " 5   review/helpfulness  400001 non-null  object \n",
            " 6   review/score        400001 non-null  float64\n",
            " 7   review/time         400001 non-null  int64  \n",
            " 8   review/summary      399939 non-null  object \n",
            " 9   review/text         400001 non-null  object \n",
            "dtypes: float64(2), int64(1), object(7)\n",
            "memory usage: 30.5+ MB\n",
            "None\n",
            "\n",
            "Books Details Dataset:\n",
            "<class 'pandas.core.frame.DataFrame'>\n",
            "RangeIndex: 150001 entries, 0 to 150000\n",
            "Data columns (total 10 columns):\n",
            " #   Column         Non-Null Count   Dtype  \n",
            "---  ------         --------------   -----  \n",
            " 0   Title          150000 non-null  object \n",
            " 1   description    101651 non-null  object \n",
            " 2   authors        127744 non-null  object \n",
            " 3   image          113206 non-null  object \n",
            " 4   previewLink    133159 non-null  object \n",
            " 5   publisher      96334 non-null   object \n",
            " 6   publishedDate  132119 non-null  object \n",
            " 7   infoLink       133159 non-null  object \n",
            " 8   categories     120869 non-null  object \n",
            " 9   ratingsCount   35164 non-null   float64\n",
            "dtypes: float64(1), object(9)\n",
            "memory usage: 11.4+ MB\n",
            "None\n"
          ]
        }
      ],
      "source": [
        "# Explore the reviews dataset\n",
        "print(\"Reviews Dataset:\")\n",
        "print(reviews_df.info())\n",
        "\n",
        "# Explore the Books Details dataset\n",
        "print(\"\\nBooks Details Dataset:\")\n",
        "print(books_details_df.info())"
      ]
    },
    {
      "cell_type": "code",
      "execution_count": 9,
      "id": "576c810e",
      "metadata": {
        "colab": {
          "base_uri": "https://localhost:8080/"
        },
        "execution": {
          "iopub.execute_input": "2024-03-08T00:31:24.449695Z",
          "iopub.status.busy": "2024-03-08T00:31:24.449389Z",
          "iopub.status.idle": "2024-03-08T00:31:26.720799Z",
          "shell.execute_reply": "2024-03-08T00:31:26.719342Z"
        },
        "id": "576c810e",
        "outputId": "030fa727-edd5-453c-e0e1-24cd9c2453d9",
        "papermill": {
          "duration": 2.297012,
          "end_time": "2024-03-08T00:31:26.723049",
          "exception": false,
          "start_time": "2024-03-08T00:31:24.426037",
          "status": "completed"
        },
        "tags": []
      },
      "outputs": [
        {
          "name": "stdout",
          "output_type": "stream",
          "text": [
            "Reviews Missing Values:\n",
            "Id                         0\n",
            "Title                     32\n",
            "Price                 335887\n",
            "User_id                74625\n",
            "profileName            74643\n",
            "review/helpfulness         0\n",
            "review/score               0\n",
            "review/time                0\n",
            "review/summary            62\n",
            "review/text                0\n",
            "dtype: int64\n",
            "\n",
            "Books Details Missing Values:\n",
            "Title                 1\n",
            "description       48350\n",
            "authors           22257\n",
            "image             36795\n",
            "previewLink       16842\n",
            "publisher         53667\n",
            "publishedDate     17882\n",
            "infoLink          16842\n",
            "categories        29132\n",
            "ratingsCount     114837\n",
            "dtype: int64\n"
          ]
        }
      ],
      "source": [
        "# Check for missing values in Reviews dataset\n",
        "reviews_missing = reviews_df.isnull().sum()\n",
        "\n",
        "# Check for missing values in Books Details dataset\n",
        "books_missing = books_details_df.isnull().sum()\n",
        "\n",
        "# Display missing values\n",
        "print(\"Reviews Missing Values:\")\n",
        "print(reviews_missing)\n",
        "\n",
        "print(\"\\nBooks Details Missing Values:\")\n",
        "print(books_missing)"
      ]
    },
    {
      "cell_type": "markdown",
      "id": "59cf6e4d",
      "metadata": {
        "id": "59cf6e4d",
        "papermill": {
          "duration": 0.021073,
          "end_time": "2024-03-08T00:31:26.767357",
          "exception": false,
          "start_time": "2024-03-08T00:31:26.746284",
          "status": "completed"
        },
        "tags": []
      },
      "source": [
        "## Dealing with Missing Values"
      ]
    },
    {
      "cell_type": "code",
      "execution_count": 10,
      "id": "4664b8c8",
      "metadata": {
        "colab": {
          "base_uri": "https://localhost:8080/"
        },
        "id": "4664b8c8",
        "outputId": "2c312203-cad2-44eb-bb81-21cde1db68ee"
      },
      "outputs": [
        {
          "data": {
            "text/plain": [
              "(Index(['Id', 'Title', 'Price', 'User_id', 'profileName', 'review/helpfulness',\n",
              "        'review/score', 'review/time', 'review/summary', 'review/text'],\n",
              "       dtype='object'),\n",
              " Index(['Title', 'description', 'authors', 'image', 'previewLink', 'publisher',\n",
              "        'publishedDate', 'infoLink', 'categories', 'ratingsCount'],\n",
              "       dtype='object'))"
            ]
          },
          "execution_count": 10,
          "metadata": {},
          "output_type": "execute_result"
        }
      ],
      "source": [
        "reviews_df.columns, books_details_df.columns"
      ]
    },
    {
      "cell_type": "code",
      "execution_count": 11,
      "id": "T75W0wLmevxn",
      "metadata": {
        "id": "T75W0wLmevxn"
      },
      "outputs": [],
      "source": [
        "# Drop rows with missing 'Title' and 'User_id'\n",
        "reviews_df = reviews_df.dropna(subset=['Title', 'User_id'])\n",
        "\n",
        "# Drop 'profileName' column, we won't be using it\n",
        "reviews_df = reviews_df.drop(columns=['profileName'])"
      ]
    },
    {
      "cell_type": "code",
      "execution_count": 12,
      "id": "TvLBMEZcezAN",
      "metadata": {
        "colab": {
          "base_uri": "https://localhost:8080/"
        },
        "id": "TvLBMEZcezAN",
        "outputId": "d7ba4a67-5b16-4742-8419-bbec551065ca"
      },
      "outputs": [
        {
          "name": "stderr",
          "output_type": "stream",
          "text": [
            "C:\\Users\\Sanat.Tudu\\AppData\\Local\\Temp\\ipykernel_22744\\1250745246.py:11: SettingWithCopyWarning: \n",
            "A value is trying to be set on a copy of a slice from a DataFrame\n",
            "\n",
            "See the caveats in the documentation: https://pandas.pydata.org/pandas-docs/stable/user_guide/indexing.html#returning-a-view-versus-a-copy\n",
            "  series.loc[series.isna()] = random_values\n"
          ]
        }
      ],
      "source": [
        "# Drop 'Price' column, we won't be using it ---------------------------------------------------------------------------------------------------------------\n",
        "# reviews_df = reviews_df.drop(columns=['Price'])\n",
        "\n",
        "# Calculate the 25th and 75th percentiles\n",
        "q25 = reviews_df['Price'].quantile(0.75)\n",
        "q75 = reviews_df['Price'].quantile(0.90)\n",
        "\n",
        "# Generate random values within the 25th and 75th percentile range\n",
        "def fill_random_between_quartiles(series):\n",
        "    random_values = np.random.uniform(q25, q75, series.isna().sum())\n",
        "    series.loc[series.isna()] = random_values\n",
        "    return series\n",
        "\n",
        "# Fill the null values with random values between the 25th and 75th percentile\n",
        "reviews_df['Price'] = fill_random_between_quartiles(reviews_df['Price'])"
      ]
    },
    {
      "cell_type": "code",
      "execution_count": 13,
      "id": "7da913c7",
      "metadata": {
        "colab": {
          "base_uri": "https://localhost:8080/"
        },
        "execution": {
          "iopub.execute_input": "2024-03-08T00:31:26.813109Z",
          "iopub.status.busy": "2024-03-08T00:31:26.812326Z",
          "iopub.status.idle": "2024-03-08T00:31:31.158333Z",
          "shell.execute_reply": "2024-03-08T00:31:31.157448Z"
        },
        "id": "7da913c7",
        "outputId": "91f01eea-e910-4f12-d771-cbcad69605eb",
        "papermill": {
          "duration": 4.37065,
          "end_time": "2024-03-08T00:31:31.160803",
          "exception": false,
          "start_time": "2024-03-08T00:31:26.790153",
          "status": "completed"
        },
        "tags": []
      },
      "outputs": [
        {
          "name": "stdout",
          "output_type": "stream",
          "text": [
            "Reviews Missing Values After Handling:\n",
            "Id                    0\n",
            "Title                 0\n",
            "Price                 0\n",
            "User_id               0\n",
            "review/helpfulness    0\n",
            "review/score          0\n",
            "review/time           0\n",
            "review/summary        0\n",
            "review/text           0\n",
            "dtype: int64\n"
          ]
        }
      ],
      "source": [
        "# Fill missing values in 'review/summary' and 'review/text' with empty strings\n",
        "# reviews_df['review/summary'] = reviews_df['review/summary'].fillna('')\n",
        "# reviews_df['review/text'] = reviews_df['review/text'].fillna('')\n",
        "# instead of filling with empty string we will drop\n",
        "\n",
        "reviews_df = reviews_df.dropna()\n",
        "\n",
        "# Display updated information about missing values\n",
        "reviews_missing_values = reviews_df.isnull().sum()\n",
        "print(\"Reviews Missing Values After Handling:\")\n",
        "print(reviews_missing_values)"
      ]
    },
    {
      "cell_type": "code",
      "execution_count": 14,
      "id": "8nvTW_QhfFAt",
      "metadata": {
        "colab": {
          "base_uri": "https://localhost:8080/"
        },
        "id": "8nvTW_QhfFAt",
        "outputId": "9e9ef143-7aef-4d8c-de22-12d6e14531f5"
      },
      "outputs": [
        {
          "data": {
            "text/plain": [
              "(325284, 9)"
            ]
          },
          "execution_count": 14,
          "metadata": {},
          "output_type": "execute_result"
        }
      ],
      "source": [
        "reviews_df.shape"
      ]
    },
    {
      "cell_type": "code",
      "execution_count": 15,
      "id": "9vfCDikFf3b7",
      "metadata": {
        "colab": {
          "base_uri": "https://localhost:8080/"
        },
        "id": "9vfCDikFf3b7",
        "outputId": "48a0348d-d0e7-4604-ef33-a0ae9e04db0e"
      },
      "outputs": [
        {
          "data": {
            "text/plain": [
              "0         25.600963\n",
              "1         19.400000\n",
              "2         10.950000\n",
              "3         10.950000\n",
              "4         25.970000\n",
              "            ...    \n",
              "399994    31.098322\n",
              "399995    30.163728\n",
              "399996    26.119960\n",
              "399997    36.527767\n",
              "399999    31.023921\n",
              "Name: Price, Length: 325284, dtype: float64"
            ]
          },
          "execution_count": 15,
          "metadata": {},
          "output_type": "execute_result"
        }
      ],
      "source": [
        "reviews_df.Price"
      ]
    },
    {
      "cell_type": "code",
      "execution_count": 16,
      "id": "zlMgRWoXfnfT",
      "metadata": {
        "colab": {
          "base_uri": "https://localhost:8080/",
          "height": 496
        },
        "id": "zlMgRWoXfnfT",
        "outputId": "8076fb8a-2734-4a26-b421-0a311e5f2ab8"
      },
      "outputs": [
        {
          "data": {
            "image/png": "[encoded data removed]",
            "text/plain": [
              "<Figure size 1200x600 with 2 Axes>"
            ]
          },
          "metadata": {},
          "output_type": "display_data"
        }
      ],
      "source": [
        "import pandas as pd\n",
        "import numpy as np\n",
        "import matplotlib.pyplot as plt\n",
        "import seaborn as sns\n",
        "\n",
        "plt.figure(figsize=(12, 6))\n",
        "\n",
        "# Histogram\n",
        "plt.subplot(1, 2, 1)\n",
        "plt.hist(reviews_df['Price'], bins=30, edgecolor='black')\n",
        "plt.title('Histogram of Price')\n",
        "plt.xlabel('Price')\n",
        "plt.ylabel('Frequency')\n",
        "\n",
        "# Box Plot\n",
        "plt.subplot(1, 2, 2)\n",
        "sns.boxplot(y=reviews_df['Price'])\n",
        "plt.title('Box Plot of Price')\n",
        "\n",
        "plt.tight_layout()\n",
        "plt.show()\n"
      ]
    },
    {
      "cell_type": "code",
      "execution_count": 17,
      "id": "cf665ebd",
      "metadata": {
        "colab": {
          "base_uri": "https://localhost:8080/"
        },
        "execution": {
          "iopub.execute_input": "2024-03-08T00:31:31.206104Z",
          "iopub.status.busy": "2024-03-08T00:31:31.205818Z",
          "iopub.status.idle": "2024-03-08T00:31:31.654489Z",
          "shell.execute_reply": "2024-03-08T00:31:31.653239Z"
        },
        "id": "cf665ebd",
        "outputId": "76bb306e-65ce-4172-ec8a-1e9201798a15",
        "papermill": {
          "duration": 0.47391,
          "end_time": "2024-03-08T00:31:31.657428",
          "exception": false,
          "start_time": "2024-03-08T00:31:31.183518",
          "status": "completed"
        },
        "tags": []
      },
      "outputs": [
        {
          "name": "stdout",
          "output_type": "stream",
          "text": [
            "Books Details Missing Values After Handling:\n",
            "Title            0\n",
            "description      0\n",
            "authors          0\n",
            "image            0\n",
            "publisher        0\n",
            "publishedDate    0\n",
            "categories       0\n",
            "ratingsCount     0\n",
            "dtype: int64\n"
          ]
        }
      ],
      "source": [
        "# Drop rows with missing 'Title'\n",
        "books_details_df = books_details_df.dropna(subset=['Title'])\n",
        "\n",
        "# Impute missing values in 'ratingsCount' with the median\n",
        "books_details_df['ratingsCount'] = books_details_df['ratingsCount'].fillna(books_details_df['ratingsCount'].median())\n",
        "\n",
        "# Fill missing values in textual columns with empty strings\n",
        "textual_columns = ['description', 'authors', 'publisher', 'publishedDate', 'categories']\n",
        "# books_details_df[textual_columns] = books_details_df[textual_columns].fillna('')\n",
        "# instead of filling with empty strings we will drop those rows\n",
        "books_details_df = books_details_df.dropna()\n",
        "\n",
        "# Dropping columns we are not going to use ----------------------------------------------------------------------------------------------------------------\n",
        "columns_to_drop = ['previewLink', 'infoLink']\n",
        "books_details_df = books_details_df.drop(columns=columns_to_drop)\n",
        "books_details_df = books_details_df.dropna() # to get rid of null images link\n",
        "\n",
        "# Display updated information about missing values\n",
        "books_details_missing_values = books_details_df.isnull().sum()\n",
        "print(\"Books Details Missing Values After Handling:\")\n",
        "print(books_details_missing_values)\n"
      ]
    },
    {
      "cell_type": "code",
      "execution_count": 18,
      "id": "2o_WPBQBgj1t",
      "metadata": {
        "colab": {
          "base_uri": "https://localhost:8080/"
        },
        "id": "2o_WPBQBgj1t",
        "outputId": "e26c5079-800e-4028-bc73-4a1e4d320dfa"
      },
      "outputs": [
        {
          "data": {
            "text/plain": [
              "(83241, 8)"
            ]
          },
          "execution_count": 18,
          "metadata": {},
          "output_type": "execute_result"
        }
      ],
      "source": [
        "books_details_df.shape"
      ]
    },
    {
      "cell_type": "markdown",
      "id": "f2a8af75",
      "metadata": {
        "id": "f2a8af75",
        "papermill": {
          "duration": 0.066379,
          "end_time": "2024-03-08T00:31:31.752725",
          "exception": false,
          "start_time": "2024-03-08T00:31:31.686346",
          "status": "completed"
        },
        "tags": []
      },
      "source": [
        "## Merging Datasets"
      ]
    },
    {
      "cell_type": "code",
      "execution_count": 19,
      "id": "f55bfe7f",
      "metadata": {
        "execution": {
          "iopub.execute_input": "2024-03-08T00:31:31.799327Z",
          "iopub.status.busy": "2024-03-08T00:31:31.798660Z",
          "iopub.status.idle": "2024-03-08T00:31:33.978242Z",
          "shell.execute_reply": "2024-03-08T00:31:33.977482Z"
        },
        "id": "f55bfe7f",
        "papermill": {
          "duration": 2.205959,
          "end_time": "2024-03-08T00:31:33.980569",
          "exception": false,
          "start_time": "2024-03-08T00:31:31.774610",
          "status": "completed"
        },
        "tags": []
      },
      "outputs": [],
      "source": [
        "#Merge DataFrame or named Series objects with a database-style join.\n",
        "#here i want to get all user id from left dataframe so, using left join\n",
        "merged_df = pd.merge(reviews_df, books_details_df, on='Title', how='left')"
      ]
    },
    {
      "cell_type": "code",
      "execution_count": 20,
      "id": "9788ec63",
      "metadata": {
        "colab": {
          "base_uri": "https://localhost:8080/"
        },
        "execution": {
          "iopub.execute_input": "2024-03-08T00:31:34.025349Z",
          "iopub.status.busy": "2024-03-08T00:31:34.025088Z",
          "iopub.status.idle": "2024-03-08T00:31:36.598009Z",
          "shell.execute_reply": "2024-03-08T00:31:36.597026Z"
        },
        "id": "9788ec63",
        "outputId": "c20e131f-8507-469f-8d49-b13eac1b2edb",
        "papermill": {
          "duration": 2.598193,
          "end_time": "2024-03-08T00:31:36.600806",
          "exception": false,
          "start_time": "2024-03-08T00:31:34.002613",
          "status": "completed"
        },
        "tags": []
      },
      "outputs": [
        {
          "name": "stdout",
          "output_type": "stream",
          "text": [
            "Merged Dataframe Missing Values:\n",
            "Id                         0\n",
            "Title                      0\n",
            "Price                      0\n",
            "User_id                    0\n",
            "review/helpfulness         0\n",
            "review/score               0\n",
            "review/time                0\n",
            "review/summary             0\n",
            "review/text                0\n",
            "description           168020\n",
            "authors               168020\n",
            "image                 168020\n",
            "publisher             168020\n",
            "publishedDate         168020\n",
            "categories            168020\n",
            "ratingsCount          168020\n",
            "dtype: int64\n"
          ]
        }
      ],
      "source": [
        "#analyzing merged dataframe\n",
        "merged_df_missing_values = merged_df.isnull().sum()\n",
        "print(\"Merged Dataframe Missing Values:\")\n",
        "print(merged_df_missing_values)"
      ]
    },
    {
      "cell_type": "code",
      "execution_count": 21,
      "id": "grcPH053g2P1",
      "metadata": {
        "id": "grcPH053g2P1"
      },
      "outputs": [],
      "source": [
        "merged_df = merged_df.dropna()"
      ]
    },
    {
      "cell_type": "code",
      "execution_count": 22,
      "id": "e6777075",
      "metadata": {
        "colab": {
          "base_uri": "https://localhost:8080/",
          "height": 573
        },
        "execution": {
          "iopub.execute_input": "2024-03-08T00:31:36.646157Z",
          "iopub.status.busy": "2024-03-08T00:31:36.645835Z",
          "iopub.status.idle": "2024-03-08T00:31:36.666243Z",
          "shell.execute_reply": "2024-03-08T00:31:36.665400Z"
        },
        "id": "e6777075",
        "outputId": "2c58631e-7a2b-43e1-be33-a77c7b9a0945",
        "papermill": {
          "duration": 0.045198,
          "end_time": "2024-03-08T00:31:36.668224",
          "exception": false,
          "start_time": "2024-03-08T00:31:36.623026",
          "status": "completed"
        },
        "tags": []
      },
      "outputs": [
        {
          "data": {
            "text/html": [
              "<div>\n",
              "<style scoped>\n",
              "    .dataframe tbody tr th:only-of-type {\n",
              "        vertical-align: middle;\n",
              "    }\n",
              "\n",
              "    .dataframe tbody tr th {\n",
              "        vertical-align: top;\n",
              "    }\n",
              "\n",
              "    .dataframe thead th {\n",
              "        text-align: right;\n",
              "    }\n",
              "</style>\n",
              "<table border=\"1\" class=\"dataframe\">\n",
              "  <thead>\n",
              "    <tr style=\"text-align: right;\">\n",
              "      <th></th>\n",
              "      <th>Id</th>\n",
              "      <th>Title</th>\n",
              "      <th>Price</th>\n",
              "      <th>User_id</th>\n",
              "      <th>review/helpfulness</th>\n",
              "      <th>review/score</th>\n",
              "      <th>review/time</th>\n",
              "      <th>review/summary</th>\n",
              "      <th>review/text</th>\n",
              "      <th>description</th>\n",
              "      <th>authors</th>\n",
              "      <th>image</th>\n",
              "      <th>publisher</th>\n",
              "      <th>publishedDate</th>\n",
              "      <th>categories</th>\n",
              "      <th>ratingsCount</th>\n",
              "    </tr>\n",
              "  </thead>\n",
              "  <tbody>\n",
              "    <tr>\n",
              "      <th>0</th>\n",
              "      <td>0826414346</td>\n",
              "      <td>Dr. Seuss: American Icon</td>\n",
              "      <td>25.600963</td>\n",
              "      <td>A2F6NONFUDB6UK</td>\n",
              "      <td>2/2</td>\n",
              "      <td>4.0</td>\n",
              "      <td>1127174400</td>\n",
              "      <td>One of America's greatest creative talents</td>\n",
              "      <td>\"Dr. Seuss: American Icon\" by Philip Nel is a ...</td>\n",
              "      <td>Philip Nel takes a fascinating look into the k...</td>\n",
              "      <td>['Philip Nel']</td>\n",
              "      <td>http://books.google.com/books/content?id=IjvHQ...</td>\n",
              "      <td>A&amp;C Black</td>\n",
              "      <td>2005-01-01</td>\n",
              "      <td>['Biography &amp; Autobiography']</td>\n",
              "      <td>2.0</td>\n",
              "    </tr>\n",
              "    <tr>\n",
              "      <th>4</th>\n",
              "      <td>0802841899</td>\n",
              "      <td>The Church of Christ: A Biblical Ecclesiology ...</td>\n",
              "      <td>25.970000</td>\n",
              "      <td>ARI272XF8TOL4</td>\n",
              "      <td>74/81</td>\n",
              "      <td>5.0</td>\n",
              "      <td>955411200</td>\n",
              "      <td>Ecclesiological Milestone</td>\n",
              "      <td>With the publication of Everett Ferguson's boo...</td>\n",
              "      <td>In The Church of Christ: A Biblical Ecclesiolo...</td>\n",
              "      <td>['Everett Ferguson']</td>\n",
              "      <td>http://books.google.com/books/content?id=kVqRa...</td>\n",
              "      <td>Wm. B. Eerdmans Publishing</td>\n",
              "      <td>1996</td>\n",
              "      <td>['Religion']</td>\n",
              "      <td>5.0</td>\n",
              "    </tr>\n",
              "    <tr>\n",
              "      <th>5</th>\n",
              "      <td>0854968350</td>\n",
              "      <td>Muslim Women's Choices: Religious Belief and S...</td>\n",
              "      <td>27.034668</td>\n",
              "      <td>A2OP3N8OXCQEZB</td>\n",
              "      <td>6/8</td>\n",
              "      <td>5.0</td>\n",
              "      <td>1121385600</td>\n",
              "      <td>Excellent</td>\n",
              "      <td>This is an excellent book. It offers the opini...</td>\n",
              "      <td>Counters the Western views and stereotypes of ...</td>\n",
              "      <td>['Camillia Fawzi El-Solh', 'Judy Mabro']</td>\n",
              "      <td>http://books.google.com/books/content?id=o7izA...</td>\n",
              "      <td>Berg Pub Limited</td>\n",
              "      <td>1994-02-17</td>\n",
              "      <td>['Religion']</td>\n",
              "      <td>2.0</td>\n",
              "    </tr>\n",
              "    <tr>\n",
              "      <th>13</th>\n",
              "      <td>0517150328</td>\n",
              "      <td>History of Magic and the Occult</td>\n",
              "      <td>31.038181</td>\n",
              "      <td>A37QRFQTGTJH7K</td>\n",
              "      <td>6/6</td>\n",
              "      <td>4.0</td>\n",
              "      <td>1073606400</td>\n",
              "      <td>Informative but dry...</td>\n",
              "      <td>I have the older version of the book, but I un...</td>\n",
              "      <td>See the history of witchcraft, magic and super...</td>\n",
              "      <td>['DK']</td>\n",
              "      <td>http://books.google.com/books/content?id=PSnkD...</td>\n",
              "      <td>Dorling Kindersley Ltd</td>\n",
              "      <td>2020-08-06</td>\n",
              "      <td>['Body, Mind &amp; Spirit']</td>\n",
              "      <td>2.0</td>\n",
              "    </tr>\n",
              "    <tr>\n",
              "      <th>14</th>\n",
              "      <td>158322047X</td>\n",
              "      <td>The Forbidden Stories of Marta Veneranda</td>\n",
              "      <td>21.950000</td>\n",
              "      <td>A2NI0TUDXKM2FP</td>\n",
              "      <td>1/1</td>\n",
              "      <td>5.0</td>\n",
              "      <td>1106524800</td>\n",
              "      <td>The Little Book that Could, and Did.</td>\n",
              "      <td>An incredible collection of stories that will ...</td>\n",
              "      <td>Marta Veneranda, a Latina neoyorkina, finds th...</td>\n",
              "      <td>['Sonia Rivera-Valdes']</td>\n",
              "      <td>http://books.google.com/books/content?id=A7aYb...</td>\n",
              "      <td>Seven Stories Press</td>\n",
              "      <td>2001-03-06</td>\n",
              "      <td>['Fiction']</td>\n",
              "      <td>2.0</td>\n",
              "    </tr>\n",
              "  </tbody>\n",
              "</table>\n",
              "</div>"
            ],
            "text/plain": [
              "            Id                                              Title      Price  \\\n",
              "0   0826414346                           Dr. Seuss: American Icon  25.600963   \n",
              "4   0802841899  The Church of Christ: A Biblical Ecclesiology ...  25.970000   \n",
              "5   0854968350  Muslim Women's Choices: Religious Belief and S...  27.034668   \n",
              "13  0517150328                    History of Magic and the Occult  31.038181   \n",
              "14  158322047X           The Forbidden Stories of Marta Veneranda  21.950000   \n",
              "\n",
              "           User_id review/helpfulness  review/score  review/time  \\\n",
              "0   A2F6NONFUDB6UK                2/2           4.0   1127174400   \n",
              "4    ARI272XF8TOL4              74/81           5.0    955411200   \n",
              "5   A2OP3N8OXCQEZB                6/8           5.0   1121385600   \n",
              "13  A37QRFQTGTJH7K                6/6           4.0   1073606400   \n",
              "14  A2NI0TUDXKM2FP                1/1           5.0   1106524800   \n",
              "\n",
              "                                review/summary  \\\n",
              "0   One of America's greatest creative talents   \n",
              "4                    Ecclesiological Milestone   \n",
              "5                                    Excellent   \n",
              "13                      Informative but dry...   \n",
              "14        The Little Book that Could, and Did.   \n",
              "\n",
              "                                          review/text  \\\n",
              "0   \"Dr. Seuss: American Icon\" by Philip Nel is a ...   \n",
              "4   With the publication of Everett Ferguson's boo...   \n",
              "5   This is an excellent book. It offers the opini...   \n",
              "13  I have the older version of the book, but I un...   \n",
              "14  An incredible collection of stories that will ...   \n",
              "\n",
              "                                          description  \\\n",
              "0   Philip Nel takes a fascinating look into the k...   \n",
              "4   In The Church of Christ: A Biblical Ecclesiolo...   \n",
              "5   Counters the Western views and stereotypes of ...   \n",
              "13  See the history of witchcraft, magic and super...   \n",
              "14  Marta Veneranda, a Latina neoyorkina, finds th...   \n",
              "\n",
              "                                     authors  \\\n",
              "0                             ['Philip Nel']   \n",
              "4                       ['Everett Ferguson']   \n",
              "5   ['Camillia Fawzi El-Solh', 'Judy Mabro']   \n",
              "13                                    ['DK']   \n",
              "14                   ['Sonia Rivera-Valdes']   \n",
              "\n",
              "                                                image  \\\n",
              "0   http://books.google.com/books/content?id=IjvHQ...   \n",
              "4   http://books.google.com/books/content?id=kVqRa...   \n",
              "5   http://books.google.com/books/content?id=o7izA...   \n",
              "13  http://books.google.com/books/content?id=PSnkD...   \n",
              "14  http://books.google.com/books/content?id=A7aYb...   \n",
              "\n",
              "                     publisher publishedDate                     categories  \\\n",
              "0                    A&C Black    2005-01-01  ['Biography & Autobiography']   \n",
              "4   Wm. B. Eerdmans Publishing          1996                   ['Religion']   \n",
              "5             Berg Pub Limited    1994-02-17                   ['Religion']   \n",
              "13      Dorling Kindersley Ltd    2020-08-06        ['Body, Mind & Spirit']   \n",
              "14         Seven Stories Press    2001-03-06                    ['Fiction']   \n",
              "\n",
              "    ratingsCount  \n",
              "0            2.0  \n",
              "4            5.0  \n",
              "5            2.0  \n",
              "13           2.0  \n",
              "14           2.0  "
            ]
          },
          "execution_count": 22,
          "metadata": {},
          "output_type": "execute_result"
        }
      ],
      "source": [
        "merged_df.head()"
      ]
    },
    {
      "cell_type": "code",
      "execution_count": 23,
      "id": "2292faf0",
      "metadata": {
        "colab": {
          "base_uri": "https://localhost:8080/"
        },
        "id": "2292faf0",
        "outputId": "61c7e535-d9b1-4d8f-a48f-81a678745b60"
      },
      "outputs": [
        {
          "data": {
            "text/plain": [
              "(157264, 16)"
            ]
          },
          "execution_count": 23,
          "metadata": {},
          "output_type": "execute_result"
        }
      ],
      "source": [
        "merged_df.shape"
      ]
    },
    {
      "cell_type": "code",
      "execution_count": 24,
      "id": "l5Ekf9NqiHLj",
      "metadata": {
        "id": "l5Ekf9NqiHLj"
      },
      "outputs": [],
      "source": [
        "# Reset the index\n",
        "merged_df.reset_index(drop=True, inplace=True)"
      ]
    },
    {
      "cell_type": "markdown",
      "id": "ab5563f6",
      "metadata": {
        "id": "ab5563f6",
        "papermill": {
          "duration": 0.021762,
          "end_time": "2024-03-08T00:31:36.711914",
          "exception": false,
          "start_time": "2024-03-08T00:31:36.690152",
          "status": "completed"
        },
        "tags": []
      },
      "source": [
        "# Importing Sentiment Analysis Model\n",
        "Trained in previous notebook- [kaggle notebook](https://www.kaggle.com/code/anshkgoyal/sentiment-analysis-model/edit)"
      ]
    },
    {
      "cell_type": "code",
      "execution_count": 25,
      "id": "6dcc3408",
      "metadata": {},
      "outputs": [],
      "source": []
    },
    {
      "cell_type": "code",
      "execution_count": 26,
      "id": "7e477cf0",
      "metadata": {
        "colab": {
          "base_uri": "https://localhost:8080/"
        },
        "execution": {
          "iopub.execute_input": "2024-03-08T00:31:36.757494Z",
          "iopub.status.busy": "2024-03-08T00:31:36.757099Z",
          "iopub.status.idle": "2024-03-08T00:31:36.978324Z",
          "shell.execute_reply": "2024-03-08T00:31:36.977474Z"
        },
        "id": "7e477cf0",
        "outputId": "b49899ff-2528-4179-a6f4-71ef0f789451",
        "papermill": {
          "duration": 0.246201,
          "end_time": "2024-03-08T00:31:36.980416",
          "exception": false,
          "start_time": "2024-03-08T00:31:36.734215",
          "status": "completed"
        },
        "tags": []
      },
      "outputs": [
        {
          "data": {
            "text/plain": [
              "SentimentModel(\n",
              "  (sequential): Sequential(\n",
              "    (0): Linear(in_features=12000, out_features=32, bias=True)\n",
              "    (1): ReLU()\n",
              "    (2): Dropout(p=0.4, inplace=False)\n",
              "    (3): Linear(in_features=32, out_features=64, bias=True)\n",
              "    (4): ReLU()\n",
              "    (5): Dropout(p=0.4, inplace=False)\n",
              "    (6): Linear(in_features=64, out_features=128, bias=True)\n",
              "    (7): ReLU()\n",
              "    (8): Dropout(p=0.4, inplace=False)\n",
              "    (9): Linear(in_features=128, out_features=256, bias=True)\n",
              "    (10): ReLU()\n",
              "    (11): Dropout(p=0.4, inplace=False)\n",
              "    (12): Linear(in_features=256, out_features=1, bias=True)\n",
              "    (13): Sigmoid()\n",
              "  )\n",
              ")"
            ]
          },
          "execution_count": 26,
          "metadata": {},
          "output_type": "execute_result"
        }
      ],
      "source": [
        "model_path = model_route + 'sentiment_model.pth'\n",
        "\n",
        "class SentimentModel(nn.Module):\n",
        "    def __init__(self, input_size, hidden_size=32,dropout_rate=0.4):\n",
        "        super().__init__()\n",
        "        self.sequential = nn.Sequential(\n",
        "            nn.Linear(input_size, hidden_size),\n",
        "            nn.ReLU(),\n",
        "            nn.Dropout(dropout_rate), #Dropout is a regularization technique commonly used in neural networks during training to prevent overfitting\n",
        "            nn.Linear(hidden_size, hidden_size*2), #  linear layer (y=mx+c)\n",
        "            nn.ReLU(), # max(0,x) , basically adds non-linearity\n",
        "            nn.Dropout(dropout_rate),\n",
        "            nn.Linear(hidden_size*2, hidden_size*4),\n",
        "            nn.ReLU(),\n",
        "            nn.Dropout(dropout_rate),\n",
        "            nn.Linear(hidden_size*4, hidden_size*8),\n",
        "            nn.ReLU(),\n",
        "            nn.Dropout(dropout_rate),\n",
        "            nn.Linear(hidden_size*8, 1),\n",
        "            nn.Sigmoid()\n",
        "        )\n",
        "\n",
        "    def forward(self, x):\n",
        "        return self.sequential(x)\n",
        "\n",
        "\n",
        "# Load the entire model\n",
        "sentiment_model=torch.load(model_path)\n",
        "sentiment_model.to(device)"
      ]
    },
    {
      "cell_type": "markdown",
      "id": "ad7deb05",
      "metadata": {
        "id": "ad7deb05",
        "papermill": {
          "duration": 0.022006,
          "end_time": "2024-03-08T00:31:37.025466",
          "exception": false,
          "start_time": "2024-03-08T00:31:37.003460",
          "status": "completed"
        },
        "tags": []
      },
      "source": [
        "## Preprocessing Text\n",
        "Processing sentiment analysis in batches using PyTorch's DataLoader, the code assigns sentiment scores to a DataFrame (merged_df) by making predictions based on the 'review/text' column. Each batch of text is preprocessed, tokenized, and converted into a dense tensor for inference, and the resulting sentiment scores are added to the corresponding rows in the DataFrame."
      ]
    },
    {
      "cell_type": "markdown",
      "id": "899c48a4",
      "metadata": {
        "id": "899c48a4",
        "papermill": {
          "duration": 0.02203,
          "end_time": "2024-03-08T00:31:37.069501",
          "exception": false,
          "start_time": "2024-03-08T00:31:37.047471",
          "status": "completed"
        },
        "tags": []
      },
      "source": [
        "\n",
        ">Countvectorizer stores vocabulary(basically list of words) as a sparse matrix which only stores non-zero elements along with their positions(index value)\n",
        ">\n",
        ">When a sparse matrix is converted to a dense matrix (ND array), it becomes memory intensive because all the zero values in the sparse matrix, which were not stored due to their sparsity, need to be explicitly represented in the dense matrix.\n",
        ">\n",
        ">In a sparse matrix, only the non-zero elements are stored along with their positions. So, if you have a large matrix where most of the elements are zero, a sparse matrix representation will save a lot of memory. But when you convert this sparse matrix to a dense matrix, you need to allocate memory for all elements of the matrix, including the zeros. This leads to a significant increase in memory usage\n",
        ">\n",
        ">sparse matrices can be considered as a form of Embeddings, particularly in the context of representing high-dimensional and sparse data.Embeddings make it easier to do machine learning on large inputs like sparse vectors representing words. Ideally, an embedding captures some of the semantics of the input by placing semantically similar inputs close together in the embedding space. An embedding can be learned and reused across models.\n",
        "\n",
        "Sparse Matrices Example:\n",
        "\n",
        ">(0, 0) -> 1\n",
        ">\n",
        ">(0, 2) -> 2\n",
        ">\n",
        ">(0, 4) -> 1\n",
        ">\n",
        ">(1, 1) -> 1\n",
        ">\n",
        ">(1, 3) -> 1\n",
        ">\n",
        ">(2, 0) -> 1\n",
        ">\n",
        ">(2, 1) -> 1\n",
        "\n",
        "Dense Matrices Example:\n",
        "\n",
        "|      | \"cat\" | \"dog\" | \"apple\" | \"banana\" | \"orange\" |\n",
        "|------|-------|-------|---------|----------|----------|\n",
        "| Doc1 |   1   |   0   |    2    |    0     |    1     |\n",
        "| Doc2 |   0   |   1   |    0    |    1     |    0     |\n",
        "| Doc3 |   1   |   1   |    0    |    0     |    0     |\n",
        "\n"
      ]
    },
    {
      "cell_type": "markdown",
      "id": "39284a29",
      "metadata": {
        "id": "39284a29",
        "papermill": {
          "duration": 0.021781,
          "end_time": "2024-03-08T00:31:37.113159",
          "exception": false,
          "start_time": "2024-03-08T00:31:37.091378",
          "status": "completed"
        },
        "tags": []
      },
      "source": [
        "The basic dataset class in PyTorch is often used for handling custom datasets. It requires you to override the `__len__` and `__getitem__` methods. This class is suitable for scenarios where your data can be loaded on-the-fly or is not stored in memory as tensors.\n",
        "\n",
        "- `__init__`: Initializes the dataset with the texts to be analyzed, the vectorizer used to convert text into numerical vectors, the sentiment model used for scoring, and the device on which computations should be performed.\n",
        "- `__len__`: Returns the number of texts in the dataset.\n",
        "- `__getitem__`: Retrieves a particular item from the dataset. This function also performs preprocessing on the text, including converting to lowercase, removing HTML line breaks, removing special characters, tokenizing the text, removing non-alphabetic tokens, and removing English stopwords. The processed text is then transformed into a numerical vector using the provided vectorizer and passed through the sentiment model to generate a sentiment score. The score is returned as a PyTorch tensor and moved to the specified device.\n",
        "\n",
        "When you convert a sparse matrix to a dense tensor using torch.tensor(vectorized_text.toarray(), dtype=torch.float32), you are indeed creating a dense representation of the data. In theory, increasing the batch size would lead to more data being loaded into memory, potentially increasing memory consumption. However, PyTorch has optimizations to handle this more efficiently.\n",
        "\n",
        "PyTorch's memory management is designed to optimize GPU usage, and it often performs operations in-place or uses memory pooling to minimize unnecessary memory allocations. When you use the DataLoader to load batches, PyTorch handles the memory allocation and deallocation efficiently."
      ]
    },
    {
      "cell_type": "code",
      "execution_count": 27,
      "id": "a3107a99",
      "metadata": {
        "colab": {
          "base_uri": "https://localhost:8080/",
          "height": 173,
          "referenced_widgets": [
            "3ed683eaf35b4e3398ed529ca9252fe1",
            "5b78bacd19284db59e6c40f5a5057104",
            "45b62267e6564ce48eee647418219edd",
            "8c4df880f1fc43058be1c933c5bbcc67",
            "8cd698106ec1482d820d608b0fb36ec4",
            "be20f853d6fe472eb91b470003ae9507",
            "f5f8fbb6597c4c7db0a7ac6b6a217811",
            "32e5770a0214437ea5cc274a7ef597dd",
            "5dec3787cd3d4d60847804390ad8dd80",
            "738b7635fb474257a9317ed4a35fe054",
            "53e26f24fc264dcaab1cbbd801245b4c"
          ]
        },
        "execution": {
          "iopub.execute_input": "2024-03-08T00:31:37.158652Z",
          "iopub.status.busy": "2024-03-08T00:31:37.158345Z",
          "iopub.status.idle": "2024-03-08T01:25:57.651292Z",
          "shell.execute_reply": "2024-03-08T01:25:57.650258Z"
        },
        "id": "a3107a99",
        "outputId": "20fb0c4d-9057-474e-fc17-5f84a3549f66",
        "papermill": {
          "duration": 3260.518217,
          "end_time": "2024-03-08T01:25:57.653329",
          "exception": false,
          "start_time": "2024-03-08T00:31:37.135112",
          "status": "completed"
        },
        "tags": []
      },
      "outputs": [
        {
          "name": "stderr",
          "output_type": "stream",
          "text": [
            "d:\\Work\\Hackathon\\AI_ML\\Dev\\.venv\\Lib\\site-packages\\torchtext\\data\\__init__.py:4: UserWarning: \n",
            "/!\\ IMPORTANT WARNING ABOUT TORCHTEXT STATUS /!\\ \n",
            "Torchtext is deprecated and the last released version will be 0.18 (this one). You can silence this warning by calling the following at the beginnign of your scripts: `import torchtext; torchtext.disable_torchtext_deprecation_warning()`\n",
            "  warnings.warn(torchtext._TORCHTEXT_DEPRECATION_MSG)\n",
            "[nltk_data] Downloading package stopwords to\n",
            "[nltk_data]     C:\\Users\\Sanat.Tudu\\AppData\\Roaming\\nltk_data...\n",
            "[nltk_data]   Package stopwords is already up-to-date!\n",
            "d:\\Work\\Hackathon\\AI_ML\\Dev\\.venv\\Lib\\site-packages\\sklearn\\base.py:376: InconsistentVersionWarning: Trying to unpickle estimator CountVectorizer from version 1.2.2 when using version 1.5.1. This might lead to breaking code or invalid results. Use at your own risk. For more info please refer to:\n",
            "https://scikit-learn.org/stable/model_persistence.html#security-maintainability-limitations\n",
            "  warnings.warn(\n"
          ]
        },
        {
          "data": {
            "application/vnd.jupyter.widget-view+json": {
              "model_id": "4f153db092334a3bb683d314f78e3f9c",
              "version_major": 2,
              "version_minor": 0
            },
            "text/plain": [
              "Processing Reviews:   0%|          | 0/16 [00:00<?, ?it/s]"
            ]
          },
          "metadata": {},
          "output_type": "display_data"
        }
      ],
      "source": [
        "from torchtext.data.utils import get_tokenizer\n",
        "from nltk.corpus import stopwords\n",
        "from sklearn.feature_extraction.text import CountVectorizer\n",
        "import joblib\n",
        "import re\n",
        "import nltk\n",
        "nltk.download('stopwords')\n",
        "\n",
        "class SentimentAnalysisDataset(torch.utils.data.Dataset):\n",
        "    def __init__(self, texts, vectorizer, sentiment_model, device):\n",
        "        \"\"\"\n",
        "        A dataset for sentiment analysis.\n",
        "\n",
        "        Args:\n",
        "            texts (list): List of text reviews.\n",
        "            vectorizer: The vectorizer used during training.\n",
        "            sentiment_model: The trained sentiment analysis model.\n",
        "            device: The device (CPU/GPU) to which the tensor should be sent.\n",
        "        \"\"\"\n",
        "        self.texts = texts\n",
        "        self.vectorizer = vectorizer\n",
        "        self.sentiment_model = sentiment_model\n",
        "        self.device = device\n",
        "\n",
        "    def __len__(self):\n",
        "        \"\"\"\n",
        "        Returns the total number of samples in the dataset.\n",
        "\n",
        "        Returns:\n",
        "            int: The number of samples in the dataset.\n",
        "        \"\"\"\n",
        "        return len(self.texts)\n",
        "\n",
        "    def __getitem__(self, idx):\n",
        "        \"\"\"\n",
        "        Retrieves and processes a single sample from the dataset.\n",
        "\n",
        "        Args:\n",
        "            idx (int): Index of the sample to retrieve.\n",
        "\n",
        "        Returns:\n",
        "            torch.Tensor: The sentiment score for the input text.\n",
        "        \"\"\"\n",
        "        text = self.texts[idx]\n",
        "        text = text.lower() # Convert to lowercase\n",
        "        text = re.sub(r'<br\\s*/*\\s*><br\\s*/*\\s*>', '', text)\n",
        "        text = re.sub(r\"[^a-zA-Z0-9]\", \" \", text) # Remove special characters\n",
        "        tokenizer = get_tokenizer(\"basic_english\")\n",
        "        tokens = tokenizer(text) # Tokenization\n",
        "        tokens = [word for word in tokens if word.isalpha()] # Remove non-alphabetic tokens\n",
        "        stop_words = set(stopwords.words(\"english\")) - {'not'}\n",
        "        tokens = [word for word in tokens if word not in stop_words] # Remove stopwords\n",
        "\n",
        "        # Use the same vectorizer used during training\n",
        "        vectorized_text = self.vectorizer.transform([\" \".join(tokens)])\n",
        "        tensor = torch.tensor(vectorized_text.toarray(), dtype=torch.float32)\n",
        "        tensor = tensor.to(self.device)\n",
        "\n",
        "        with torch.inference_mode():\n",
        "            score = self.sentiment_model(tensor)\n",
        "        return score\n",
        "\n",
        "# Load the vectorizer\n",
        "vectorizer = joblib.load(model_route + 'vectorizer.pkl')\n",
        "\n",
        "# Batch size for processing\n",
        "batch_size = 10000\n",
        "\n",
        "dataset = SentimentAnalysisDataset(merged_df[\"review/text\"], vectorizer, sentiment_model, device)\n",
        "loader = torch.utils.data.DataLoader(dataset, batch_size=batch_size)\n",
        "\n",
        "if 'sentiment_score' not in merged_df.columns:\n",
        "    merged_df['sentiment_score'] = None\n",
        "\n",
        "# __getitem__ is automatically(implicitely) called when using for loops\n",
        "for i, scores in tqdm(enumerate(loader), total=len(loader), desc=\"Processing Reviews\"):\n",
        "    start = i * batch_size\n",
        "    for j, score in enumerate(scores):\n",
        "        score = score.item()\n",
        "        merged_df.at[start+j, 'sentiment_score'] = score"
      ]
    },
    {
      "cell_type": "code",
      "execution_count": null,
      "id": "a14a8e2e",
      "metadata": {
        "colab": {
          "base_uri": "https://localhost:8080/",
          "height": 175
        },
        "execution": {
          "iopub.execute_input": "2024-03-08T01:25:57.703119Z",
          "iopub.status.busy": "2024-03-08T01:25:57.702121Z",
          "iopub.status.idle": "2024-03-08T01:25:57.711426Z",
          "shell.execute_reply": "2024-03-08T01:25:57.710573Z"
        },
        "id": "a14a8e2e",
        "outputId": "984e6673-35a0-4f8e-e038-f79f28ad6147",
        "papermill": {
          "duration": 0.035435,
          "end_time": "2024-03-08T01:25:57.713333",
          "exception": false,
          "start_time": "2024-03-08T01:25:57.677898",
          "status": "completed"
        },
        "tags": []
      },
      "outputs": [],
      "source": [
        "'''\n",
        "#class SentimentAnalysisDataset method is much better which is using dataloader instead of generator\n",
        "#so i will comment this previous method\n",
        "\n",
        "from torchtext.data.utils import get_tokenizer\n",
        "from nltk.corpus import stopwords\n",
        "from sklearn.feature_extraction.text import CountVectorizer\n",
        "import joblib\n",
        "import re\n",
        "\n",
        "\n",
        "\n",
        "def preprocess_and_predict(texts, vectorizer, sentiment_model, device):\n",
        "    for text in texts:\n",
        "        text = text.lower() # Convert to lowercase\n",
        "        text = re.sub(r'<br\\s*/*\\s*><br\\s*/*\\s*>', '', text)\n",
        "        text = re.sub(r\"[^a-zA-Z0-9]\", \" \", text) # Remove special characters\n",
        "        tokenizer = get_tokenizer(\"basic_english\")\n",
        "        tokens = tokenizer(text) # Tokenization\n",
        "        tokens = [word for word in tokens if word.isalpha()] # Remove non-alphabetic tokens\n",
        "        stop_words = set(stopwords.words(\"english\")) - {'not'}\n",
        "        tokens = [word for word in tokens if word not in stop_words] # Remove stopwords\n",
        "\n",
        "        # Use the same vectorizer used during training\n",
        "        vectorized_text = vectorizer.transform([\" \".join(tokens)])\n",
        "        tensor = torch.tensor(vectorized_text.toarray(), dtype=torch.float32)\n",
        "        tensor = tensor.to(device)\n",
        "\n",
        "        with torch.inference_mode():\n",
        "            score = sentiment_model(tensor)\n",
        "         #return immediately exits the function and returns a value, yield produces a value and pauses\n",
        "        #the function, saving all its states. The function can be resumed later on from where it left\n",
        "        #off, allowing it to produce a series of values over time, instead of computing them at once and\n",
        "        #sending them back like a list\n",
        "        yield score.item()\n",
        "\n",
        "# Load the vectorizer\n",
        "vectorizer = joblib.load('/kaggle/input/sentiment-analysis-vectorizer/vectorizer.pkl')\n",
        "\n",
        "# Batch size for processing\n",
        "batch_size = 1000\n",
        "\n",
        "\n",
        "for i in tqdm(range(0, len(merged_df), batch_size), desc=\"Processing Reviews\"):\n",
        "    batch_texts = merged_df[\"review/text\"].iloc[i:i + batch_size].tolist()\n",
        "    scores_generator = preprocess_and_predict(batch_texts, vectorizer, sentiment_model, device)\n",
        "    for j, score in enumerate(scores_generator):\n",
        "        merged_df.at[i+j, 'sentiment_score'] = score'''\n"
      ]
    },
    {
      "cell_type": "markdown",
      "id": "b49cef71",
      "metadata": {
        "id": "b49cef71",
        "papermill": {
          "duration": 0.024177,
          "end_time": "2024-03-08T01:25:57.761422",
          "exception": false,
          "start_time": "2024-03-08T01:25:57.737245",
          "status": "completed"
        },
        "tags": []
      },
      "source": [
        "## Saving The Merged Dataframe\n",
        "after processing reviews and assigning sentiment_score(as a new column or feature) to each review using sentiment analysis model, now will be saving the current dataframe"
      ]
    },
    {
      "cell_type": "code",
      "execution_count": 29,
      "id": "17da1aaf",
      "metadata": {
        "execution": {
          "iopub.execute_input": "2024-03-08T01:25:57.810594Z",
          "iopub.status.busy": "2024-03-08T01:25:57.809981Z",
          "iopub.status.idle": "2024-03-08T01:28:56.463051Z",
          "shell.execute_reply": "2024-03-08T01:28:56.462052Z"
        },
        "id": "17da1aaf",
        "papermill": {
          "duration": 178.680206,
          "end_time": "2024-03-08T01:28:56.465397",
          "exception": false,
          "start_time": "2024-03-08T01:25:57.785191",
          "status": "completed"
        },
        "tags": []
      },
      "outputs": [],
      "source": [
        "# Convert numerical sentiment scores to binary labels\n",
        "merged_df['sentiment_label'] = (merged_df['sentiment_score'] >= 0.5).astype(int)\n",
        "# Save the updated dataframe with sentiment labels\n",
        "#When index is set to False, it means that the index column will not be included in the saved CSV file.\n",
        "merged_df.to_csv(model_route + 'merged_dataframe_with_sentiment_labels.csv', index=False)"
      ]
    },
    {
      "cell_type": "code",
      "execution_count": 30,
      "id": "4120f5d9",
      "metadata": {
        "colab": {
          "base_uri": "https://localhost:8080/",
          "height": 36
        },
        "id": "4120f5d9",
        "outputId": "96b08b70-33f5-4479-ebda-a9ca3c5bda1c"
      },
      "outputs": [
        {
          "data": {
            "text/plain": [
              "'D:/Work/Hackathon/AI_ML/Dev/Models/'"
            ]
          },
          "execution_count": 30,
          "metadata": {},
          "output_type": "execute_result"
        }
      ],
      "source": [
        "model_route"
      ]
    },
    {
      "cell_type": "markdown",
      "id": "28c108e4",
      "metadata": {
        "id": "28c108e4",
        "papermill": {
          "duration": 0.022719,
          "end_time": "2024-03-08T01:28:56.511627",
          "exception": false,
          "start_time": "2024-03-08T01:28:56.488908",
          "status": "completed"
        },
        "tags": []
      },
      "source": [
        "# Retrieving the Merged Dataframe"
      ]
    },
    {
      "cell_type": "code",
      "execution_count": 4,
      "id": "f81facd5",
      "metadata": {
        "execution": {
          "iopub.execute_input": "2024-03-08T01:28:56.558586Z",
          "iopub.status.busy": "2024-03-08T01:28:56.558208Z",
          "iopub.status.idle": "2024-03-08T01:30:19.738994Z",
          "shell.execute_reply": "2024-03-08T01:30:19.738160Z"
        },
        "id": "f81facd5",
        "papermill": {
          "duration": 83.207137,
          "end_time": "2024-03-08T01:30:19.741300",
          "exception": false,
          "start_time": "2024-03-08T01:28:56.534163",
          "status": "completed"
        },
        "tags": []
      },
      "outputs": [],
      "source": [
        "merged_dataframe_pth= model_route + \"merged_dataframe_with_sentiment_labels.csv\"\n",
        "merged_df= pd.read_csv(merged_dataframe_pth)\n",
        "# merged_df=merged_df.fillna('')\n",
        "merged_df = merged_df.dropna()"
      ]
    },
    {
      "cell_type": "code",
      "execution_count": 5,
      "id": "wDUmKj28lNSO",
      "metadata": {
        "colab": {
          "base_uri": "https://localhost:8080/"
        },
        "id": "wDUmKj28lNSO",
        "outputId": "daed6d9e-1f02-40a2-f22d-b46c99924a15"
      },
      "outputs": [
        {
          "data": {
            "text/plain": [
              "Index(['Id', 'Title', 'Price', 'User_id', 'review/helpfulness', 'review/score',\n",
              "       'review/time', 'review/summary', 'review/text', 'description',\n",
              "       'authors', 'image', 'publisher', 'publishedDate', 'categories',\n",
              "       'ratingsCount', 'sentiment_score', 'sentiment_label'],\n",
              "      dtype='object')"
            ]
          },
          "execution_count": 5,
          "metadata": {},
          "output_type": "execute_result"
        }
      ],
      "source": [
        "merged_df.columns"
      ]
    },
    {
      "cell_type": "code",
      "execution_count": null,
      "id": "dnqFzFfDHRci",
      "metadata": {
        "colab": {
          "base_uri": "https://localhost:8080/"
        },
        "id": "dnqFzFfDHRci",
        "outputId": "ffa08a34-fe6c-4960-913b-bc43c881a13d"
      },
      "outputs": [],
      "source": [
        "merged_df.shape"
      ]
    },
    {
      "cell_type": "code",
      "execution_count": 7,
      "id": "0bpA9Rn0lTx-",
      "metadata": {
        "id": "0bpA9Rn0lTx-"
      },
      "outputs": [],
      "source": [
        "for i in merged_df[\"review/helpfulness\"]:\n",
        "  if \"/\" not in i:\n",
        "    print(i)"
      ]
    },
    {
      "cell_type": "code",
      "execution_count": 8,
      "id": "6f4cWPxmI767",
      "metadata": {
        "colab": {
          "base_uri": "https://localhost:8080/",
          "height": 1000
        },
        "id": "6f4cWPxmI767",
        "outputId": "1e48aca3-56af-4a75-b0df-4ec3043a3230"
      },
      "outputs": [
        {
          "data": {
            "text/html": [
              "<div>\n",
              "<style scoped>\n",
              "    .dataframe tbody tr th:only-of-type {\n",
              "        vertical-align: middle;\n",
              "    }\n",
              "\n",
              "    .dataframe tbody tr th {\n",
              "        vertical-align: top;\n",
              "    }\n",
              "\n",
              "    .dataframe thead th {\n",
              "        text-align: right;\n",
              "    }\n",
              "</style>\n",
              "<table border=\"1\" class=\"dataframe\">\n",
              "  <thead>\n",
              "    <tr style=\"text-align: right;\">\n",
              "      <th></th>\n",
              "      <th>Title</th>\n",
              "      <th>review/helpfulness</th>\n",
              "      <th>publishedDate</th>\n",
              "    </tr>\n",
              "  </thead>\n",
              "  <tbody>\n",
              "    <tr>\n",
              "      <th>0</th>\n",
              "      <td>Dr. Seuss: American Icon</td>\n",
              "      <td>2/2</td>\n",
              "      <td>2005-01-01</td>\n",
              "    </tr>\n",
              "    <tr>\n",
              "      <th>1</th>\n",
              "      <td>The Church of Christ: A Biblical Ecclesiology ...</td>\n",
              "      <td>74/81</td>\n",
              "      <td>1996</td>\n",
              "    </tr>\n",
              "    <tr>\n",
              "      <th>2</th>\n",
              "      <td>Muslim Women's Choices: Religious Belief and S...</td>\n",
              "      <td>6/8</td>\n",
              "      <td>1994-02-17</td>\n",
              "    </tr>\n",
              "    <tr>\n",
              "      <th>3</th>\n",
              "      <td>History of Magic and the Occult</td>\n",
              "      <td>6/6</td>\n",
              "      <td>2020-08-06</td>\n",
              "    </tr>\n",
              "    <tr>\n",
              "      <th>4</th>\n",
              "      <td>The Forbidden Stories of Marta Veneranda</td>\n",
              "      <td>1/1</td>\n",
              "      <td>2001-03-06</td>\n",
              "    </tr>\n",
              "    <tr>\n",
              "      <th>5</th>\n",
              "      <td>The Battleship Bismarck</td>\n",
              "      <td>9/9</td>\n",
              "      <td>2018-09-20</td>\n",
              "    </tr>\n",
              "    <tr>\n",
              "      <th>6</th>\n",
              "      <td>Beginner's Yoruba (Hippocrene Beginner's Series)</td>\n",
              "      <td>6/7</td>\n",
              "      <td>2005</td>\n",
              "    </tr>\n",
              "    <tr>\n",
              "      <th>7</th>\n",
              "      <td>Beginner's Yoruba (Hippocrene Beginner's Series)</td>\n",
              "      <td>3/3</td>\n",
              "      <td>2005</td>\n",
              "    </tr>\n",
              "    <tr>\n",
              "      <th>8</th>\n",
              "      <td>Building the timber frame house: The revival o...</td>\n",
              "      <td>1/1</td>\n",
              "      <td>1981-09-01</td>\n",
              "    </tr>\n",
              "    <tr>\n",
              "      <th>9</th>\n",
              "      <td>Building the timber frame house: The revival o...</td>\n",
              "      <td>0/0</td>\n",
              "      <td>1981-09-01</td>\n",
              "    </tr>\n",
              "    <tr>\n",
              "      <th>10</th>\n",
              "      <td>Pyrography Designs</td>\n",
              "      <td>0/0</td>\n",
              "      <td>2014-02-01</td>\n",
              "    </tr>\n",
              "    <tr>\n",
              "      <th>11</th>\n",
              "      <td>Seance</td>\n",
              "      <td>8/9</td>\n",
              "      <td>2016-02-13</td>\n",
              "    </tr>\n",
              "    <tr>\n",
              "      <th>12</th>\n",
              "      <td>Seance</td>\n",
              "      <td>0/0</td>\n",
              "      <td>2016-02-13</td>\n",
              "    </tr>\n",
              "    <tr>\n",
              "      <th>13</th>\n",
              "      <td>No place to cry: The hurt and healing of sexua...</td>\n",
              "      <td>0/0</td>\n",
              "      <td>1992-05-09</td>\n",
              "    </tr>\n",
              "    <tr>\n",
              "      <th>14</th>\n",
              "      <td>Academic Freedom after September 11</td>\n",
              "      <td>6/41</td>\n",
              "      <td>2006</td>\n",
              "    </tr>\n",
              "    <tr>\n",
              "      <th>15</th>\n",
              "      <td>Josef Fuchs on Natural Law (Moral Traditions s...</td>\n",
              "      <td>4/4</td>\n",
              "      <td>2002-10-25</td>\n",
              "    </tr>\n",
              "    <tr>\n",
              "      <th>16</th>\n",
              "      <td>The Complete Illustrated Guide to Chinese Medi...</td>\n",
              "      <td>29/30</td>\n",
              "      <td>2003</td>\n",
              "    </tr>\n",
              "    <tr>\n",
              "      <th>17</th>\n",
              "      <td>Death Dream</td>\n",
              "      <td>0/1</td>\n",
              "      <td>2005</td>\n",
              "    </tr>\n",
              "    <tr>\n",
              "      <th>18</th>\n",
              "      <td>Bruce Lee: The Incomparable Fighter</td>\n",
              "      <td>1/12</td>\n",
              "      <td>1988</td>\n",
              "    </tr>\n",
              "    <tr>\n",
              "      <th>19</th>\n",
              "      <td>The Rabbi's Cat</td>\n",
              "      <td>2/2</td>\n",
              "      <td>2005</td>\n",
              "    </tr>\n",
              "    <tr>\n",
              "      <th>20</th>\n",
              "      <td>The Rabbi's Cat</td>\n",
              "      <td>1/1</td>\n",
              "      <td>2005</td>\n",
              "    </tr>\n",
              "    <tr>\n",
              "      <th>21</th>\n",
              "      <td>The Rabbi's Cat</td>\n",
              "      <td>25/27</td>\n",
              "      <td>2005</td>\n",
              "    </tr>\n",
              "    <tr>\n",
              "      <th>22</th>\n",
              "      <td>The Rabbi's Cat</td>\n",
              "      <td>0/0</td>\n",
              "      <td>2005</td>\n",
              "    </tr>\n",
              "    <tr>\n",
              "      <th>23</th>\n",
              "      <td>From Potter's Field</td>\n",
              "      <td>4/9</td>\n",
              "      <td>2008-09-04</td>\n",
              "    </tr>\n",
              "    <tr>\n",
              "      <th>24</th>\n",
              "      <td>From Potter's Field</td>\n",
              "      <td>0/0</td>\n",
              "      <td>2008-09-04</td>\n",
              "    </tr>\n",
              "    <tr>\n",
              "      <th>25</th>\n",
              "      <td>From Potter's Field</td>\n",
              "      <td>0/0</td>\n",
              "      <td>2008-09-04</td>\n",
              "    </tr>\n",
              "    <tr>\n",
              "      <th>26</th>\n",
              "      <td>From Potter's Field</td>\n",
              "      <td>0/0</td>\n",
              "      <td>2008-09-04</td>\n",
              "    </tr>\n",
              "    <tr>\n",
              "      <th>27</th>\n",
              "      <td>From Potter's Field</td>\n",
              "      <td>6/7</td>\n",
              "      <td>2008-09-04</td>\n",
              "    </tr>\n",
              "    <tr>\n",
              "      <th>28</th>\n",
              "      <td>From Potter's Field</td>\n",
              "      <td>0/0</td>\n",
              "      <td>2008-09-04</td>\n",
              "    </tr>\n",
              "    <tr>\n",
              "      <th>29</th>\n",
              "      <td>From Potter's Field</td>\n",
              "      <td>0/0</td>\n",
              "      <td>2008-09-04</td>\n",
              "    </tr>\n",
              "    <tr>\n",
              "      <th>30</th>\n",
              "      <td>From Potter's Field</td>\n",
              "      <td>3/5</td>\n",
              "      <td>2008-09-04</td>\n",
              "    </tr>\n",
              "    <tr>\n",
              "      <th>31</th>\n",
              "      <td>From Potter's Field</td>\n",
              "      <td>1/2</td>\n",
              "      <td>2008-09-04</td>\n",
              "    </tr>\n",
              "    <tr>\n",
              "      <th>32</th>\n",
              "      <td>From Potter's Field</td>\n",
              "      <td>0/0</td>\n",
              "      <td>2008-09-04</td>\n",
              "    </tr>\n",
              "    <tr>\n",
              "      <th>33</th>\n",
              "      <td>From Potter's Field</td>\n",
              "      <td>0/0</td>\n",
              "      <td>2008-09-04</td>\n",
              "    </tr>\n",
              "    <tr>\n",
              "      <th>34</th>\n",
              "      <td>From Potter's Field</td>\n",
              "      <td>2/2</td>\n",
              "      <td>2008-09-04</td>\n",
              "    </tr>\n",
              "    <tr>\n",
              "      <th>35</th>\n",
              "      <td>Lincoln reconsidered;: Essays on the Civil War...</td>\n",
              "      <td>0/0</td>\n",
              "      <td>2016-03-22</td>\n",
              "    </tr>\n",
              "    <tr>\n",
              "      <th>36</th>\n",
              "      <td>Chocolate: The Sweet History</td>\n",
              "      <td>2/2</td>\n",
              "      <td>2005</td>\n",
              "    </tr>\n",
              "    <tr>\n",
              "      <th>37</th>\n",
              "      <td>Important trees of the Ryukyu Islands (Tokubet...</td>\n",
              "      <td>0/0</td>\n",
              "      <td>2001-11-20</td>\n",
              "    </tr>\n",
              "    <tr>\n",
              "      <th>38</th>\n",
              "      <td>A Titanic Journey Across the Sea 1912 (America...</td>\n",
              "      <td>6/7</td>\n",
              "      <td>2000-11-01</td>\n",
              "    </tr>\n",
              "    <tr>\n",
              "      <th>39</th>\n",
              "      <td>Tales from silver lands</td>\n",
              "      <td>2/3</td>\n",
              "      <td>2017-09-20</td>\n",
              "    </tr>\n",
              "    <tr>\n",
              "      <th>40</th>\n",
              "      <td>The Science of Cold Case Files</td>\n",
              "      <td>8/14</td>\n",
              "      <td>2004</td>\n",
              "    </tr>\n",
              "    <tr>\n",
              "      <th>41</th>\n",
              "      <td>Islam and Mammon: The Economic Predicaments of...</td>\n",
              "      <td>5/5</td>\n",
              "      <td>2010-12-16</td>\n",
              "    </tr>\n",
              "    <tr>\n",
              "      <th>42</th>\n",
              "      <td>Islam and Mammon: The Economic Predicaments of...</td>\n",
              "      <td>2/2</td>\n",
              "      <td>2010-12-16</td>\n",
              "    </tr>\n",
              "    <tr>\n",
              "      <th>43</th>\n",
              "      <td>Islam and Mammon: The Economic Predicaments of...</td>\n",
              "      <td>3/70</td>\n",
              "      <td>2010-12-16</td>\n",
              "    </tr>\n",
              "    <tr>\n",
              "      <th>44</th>\n",
              "      <td>Edge of Danger</td>\n",
              "      <td>9/9</td>\n",
              "      <td>2015-08-27</td>\n",
              "    </tr>\n",
              "    <tr>\n",
              "      <th>45</th>\n",
              "      <td>Edge of Danger</td>\n",
              "      <td>1/1</td>\n",
              "      <td>2015-08-27</td>\n",
              "    </tr>\n",
              "    <tr>\n",
              "      <th>46</th>\n",
              "      <td>Edge of Danger</td>\n",
              "      <td>2/4</td>\n",
              "      <td>2015-08-27</td>\n",
              "    </tr>\n",
              "    <tr>\n",
              "      <th>47</th>\n",
              "      <td>Edge of Danger</td>\n",
              "      <td>3/3</td>\n",
              "      <td>2015-08-27</td>\n",
              "    </tr>\n",
              "    <tr>\n",
              "      <th>48</th>\n",
              "      <td>Edge of Danger</td>\n",
              "      <td>3/3</td>\n",
              "      <td>2015-08-27</td>\n",
              "    </tr>\n",
              "    <tr>\n",
              "      <th>49</th>\n",
              "      <td>Edge of Danger</td>\n",
              "      <td>2/2</td>\n",
              "      <td>2015-08-27</td>\n",
              "    </tr>\n",
              "  </tbody>\n",
              "</table>\n",
              "</div>"
            ],
            "text/plain": [
              "                                                Title review/helpfulness  \\\n",
              "0                            Dr. Seuss: American Icon                2/2   \n",
              "1   The Church of Christ: A Biblical Ecclesiology ...              74/81   \n",
              "2   Muslim Women's Choices: Religious Belief and S...                6/8   \n",
              "3                     History of Magic and the Occult                6/6   \n",
              "4            The Forbidden Stories of Marta Veneranda                1/1   \n",
              "5                             The Battleship Bismarck                9/9   \n",
              "6    Beginner's Yoruba (Hippocrene Beginner's Series)                6/7   \n",
              "7    Beginner's Yoruba (Hippocrene Beginner's Series)                3/3   \n",
              "8   Building the timber frame house: The revival o...                1/1   \n",
              "9   Building the timber frame house: The revival o...                0/0   \n",
              "10                                 Pyrography Designs                0/0   \n",
              "11                                             Seance                8/9   \n",
              "12                                             Seance                0/0   \n",
              "13  No place to cry: The hurt and healing of sexua...                0/0   \n",
              "14                Academic Freedom after September 11               6/41   \n",
              "15  Josef Fuchs on Natural Law (Moral Traditions s...                4/4   \n",
              "16  The Complete Illustrated Guide to Chinese Medi...              29/30   \n",
              "17                                        Death Dream                0/1   \n",
              "18                Bruce Lee: The Incomparable Fighter               1/12   \n",
              "19                                    The Rabbi's Cat                2/2   \n",
              "20                                    The Rabbi's Cat                1/1   \n",
              "21                                    The Rabbi's Cat              25/27   \n",
              "22                                    The Rabbi's Cat                0/0   \n",
              "23                                From Potter's Field                4/9   \n",
              "24                                From Potter's Field                0/0   \n",
              "25                                From Potter's Field                0/0   \n",
              "26                                From Potter's Field                0/0   \n",
              "27                                From Potter's Field                6/7   \n",
              "28                                From Potter's Field                0/0   \n",
              "29                                From Potter's Field                0/0   \n",
              "30                                From Potter's Field                3/5   \n",
              "31                                From Potter's Field                1/2   \n",
              "32                                From Potter's Field                0/0   \n",
              "33                                From Potter's Field                0/0   \n",
              "34                                From Potter's Field                2/2   \n",
              "35  Lincoln reconsidered;: Essays on the Civil War...                0/0   \n",
              "36                       Chocolate: The Sweet History                2/2   \n",
              "37  Important trees of the Ryukyu Islands (Tokubet...                0/0   \n",
              "38  A Titanic Journey Across the Sea 1912 (America...                6/7   \n",
              "39                            Tales from silver lands                2/3   \n",
              "40                     The Science of Cold Case Files               8/14   \n",
              "41  Islam and Mammon: The Economic Predicaments of...                5/5   \n",
              "42  Islam and Mammon: The Economic Predicaments of...                2/2   \n",
              "43  Islam and Mammon: The Economic Predicaments of...               3/70   \n",
              "44                                     Edge of Danger                9/9   \n",
              "45                                     Edge of Danger                1/1   \n",
              "46                                     Edge of Danger                2/4   \n",
              "47                                     Edge of Danger                3/3   \n",
              "48                                     Edge of Danger                3/3   \n",
              "49                                     Edge of Danger                2/2   \n",
              "\n",
              "   publishedDate  \n",
              "0     2005-01-01  \n",
              "1           1996  \n",
              "2     1994-02-17  \n",
              "3     2020-08-06  \n",
              "4     2001-03-06  \n",
              "5     2018-09-20  \n",
              "6           2005  \n",
              "7           2005  \n",
              "8     1981-09-01  \n",
              "9     1981-09-01  \n",
              "10    2014-02-01  \n",
              "11    2016-02-13  \n",
              "12    2016-02-13  \n",
              "13    1992-05-09  \n",
              "14          2006  \n",
              "15    2002-10-25  \n",
              "16          2003  \n",
              "17          2005  \n",
              "18          1988  \n",
              "19          2005  \n",
              "20          2005  \n",
              "21          2005  \n",
              "22          2005  \n",
              "23    2008-09-04  \n",
              "24    2008-09-04  \n",
              "25    2008-09-04  \n",
              "26    2008-09-04  \n",
              "27    2008-09-04  \n",
              "28    2008-09-04  \n",
              "29    2008-09-04  \n",
              "30    2008-09-04  \n",
              "31    2008-09-04  \n",
              "32    2008-09-04  \n",
              "33    2008-09-04  \n",
              "34    2008-09-04  \n",
              "35    2016-03-22  \n",
              "36          2005  \n",
              "37    2001-11-20  \n",
              "38    2000-11-01  \n",
              "39    2017-09-20  \n",
              "40          2004  \n",
              "41    2010-12-16  \n",
              "42    2010-12-16  \n",
              "43    2010-12-16  \n",
              "44    2015-08-27  \n",
              "45    2015-08-27  \n",
              "46    2015-08-27  \n",
              "47    2015-08-27  \n",
              "48    2015-08-27  \n",
              "49    2015-08-27  "
            ]
          },
          "execution_count": 8,
          "metadata": {},
          "output_type": "execute_result"
        }
      ],
      "source": [
        "merged_df[['Title','review/helpfulness','publishedDate']][:50]"
      ]
    },
    {
      "cell_type": "code",
      "execution_count": 11,
      "id": "bc25d0d0",
      "metadata": {
        "colab": {
          "base_uri": "https://localhost:8080/",
          "height": 1000
        },
        "execution": {
          "iopub.execute_input": "2024-03-08T01:30:19.789070Z",
          "iopub.status.busy": "2024-03-08T01:30:19.788758Z",
          "iopub.status.idle": "2024-03-08T01:30:19.866523Z",
          "shell.execute_reply": "2024-03-08T01:30:19.865565Z"
        },
        "id": "bc25d0d0",
        "outputId": "66f0b8e8-5158-4e73-c699-9a75e0696990",
        "papermill": {
          "duration": 0.103916,
          "end_time": "2024-03-08T01:30:19.868622",
          "exception": false,
          "start_time": "2024-03-08T01:30:19.764706",
          "status": "completed"
        },
        "tags": []
      },
      "outputs": [
        {
          "data": {
            "text/html": [
              "<div>\n",
              "<style scoped>\n",
              "    .dataframe tbody tr th:only-of-type {\n",
              "        vertical-align: middle;\n",
              "    }\n",
              "\n",
              "    .dataframe tbody tr th {\n",
              "        vertical-align: top;\n",
              "    }\n",
              "\n",
              "    .dataframe thead th {\n",
              "        text-align: right;\n",
              "    }\n",
              "</style>\n",
              "<table border=\"1\" class=\"dataframe\">\n",
              "  <thead>\n",
              "    <tr style=\"text-align: right;\">\n",
              "      <th></th>\n",
              "      <th>sentiment_score</th>\n",
              "      <th>review/text</th>\n",
              "      <th>sentiment_label</th>\n",
              "    </tr>\n",
              "  </thead>\n",
              "  <tbody>\n",
              "    <tr>\n",
              "      <th>0</th>\n",
              "      <td>0.857069</td>\n",
              "      <td>\"Dr. Seuss: American Icon\" by Philip Nel is a ...</td>\n",
              "      <td>1</td>\n",
              "    </tr>\n",
              "    <tr>\n",
              "      <th>1</th>\n",
              "      <td>0.981875</td>\n",
              "      <td>With the publication of Everett Ferguson's boo...</td>\n",
              "      <td>1</td>\n",
              "    </tr>\n",
              "    <tr>\n",
              "      <th>2</th>\n",
              "      <td>0.663603</td>\n",
              "      <td>This is an excellent book. It offers the opini...</td>\n",
              "      <td>1</td>\n",
              "    </tr>\n",
              "    <tr>\n",
              "      <th>3</th>\n",
              "      <td>0.309657</td>\n",
              "      <td>I have the older version of the book, but I un...</td>\n",
              "      <td>0</td>\n",
              "    </tr>\n",
              "    <tr>\n",
              "      <th>4</th>\n",
              "      <td>0.750397</td>\n",
              "      <td>An incredible collection of stories that will ...</td>\n",
              "      <td>1</td>\n",
              "    </tr>\n",
              "    <tr>\n",
              "      <th>5</th>\n",
              "      <td>0.035908</td>\n",
              "      <td>This book is both a history and a photo album ...</td>\n",
              "      <td>0</td>\n",
              "    </tr>\n",
              "    <tr>\n",
              "      <th>6</th>\n",
              "      <td>0.056808</td>\n",
              "      <td>I agree, the CDs are a much needed help, since...</td>\n",
              "      <td>0</td>\n",
              "    </tr>\n",
              "    <tr>\n",
              "      <th>7</th>\n",
              "      <td>0.961272</td>\n",
              "      <td>I recommend this book highly. I have a competi...</td>\n",
              "      <td>1</td>\n",
              "    </tr>\n",
              "    <tr>\n",
              "      <th>8</th>\n",
              "      <td>0.568017</td>\n",
              "      <td>I have somewhere over a dozen titles on timber...</td>\n",
              "      <td>1</td>\n",
              "    </tr>\n",
              "    <tr>\n",
              "      <th>9</th>\n",
              "      <td>0.529757</td>\n",
              "      <td>This book has been completely instrumental in ...</td>\n",
              "      <td>1</td>\n",
              "    </tr>\n",
              "    <tr>\n",
              "      <th>10</th>\n",
              "      <td>0.857875</td>\n",
              "      <td>this is a good book for more of the advanced p...</td>\n",
              "      <td>1</td>\n",
              "    </tr>\n",
              "    <tr>\n",
              "      <th>11</th>\n",
              "      <td>0.967043</td>\n",
              "      <td>Isaac Bashevis Singer was no doubt one of the ...</td>\n",
              "      <td>1</td>\n",
              "    </tr>\n",
              "    <tr>\n",
              "      <th>12</th>\n",
              "      <td>0.893950</td>\n",
              "      <td>THE S&amp;Eacute;ANCE AND OTHER STORIES is a colle...</td>\n",
              "      <td>1</td>\n",
              "    </tr>\n",
              "    <tr>\n",
              "      <th>13</th>\n",
              "      <td>0.744006</td>\n",
              "      <td>I knew there was something missing from the fi...</td>\n",
              "      <td>1</td>\n",
              "    </tr>\n",
              "    <tr>\n",
              "      <th>14</th>\n",
              "      <td>0.012464</td>\n",
              "      <td>Most of the authors of this book say, in effec...</td>\n",
              "      <td>0</td>\n",
              "    </tr>\n",
              "    <tr>\n",
              "      <th>15</th>\n",
              "      <td>0.824026</td>\n",
              "      <td>What a wonderful book! As an interested layper...</td>\n",
              "      <td>1</td>\n",
              "    </tr>\n",
              "    <tr>\n",
              "      <th>16</th>\n",
              "      <td>0.967296</td>\n",
              "      <td>This book was loaned to me by a fellow physici...</td>\n",
              "      <td>1</td>\n",
              "    </tr>\n",
              "    <tr>\n",
              "      <th>17</th>\n",
              "      <td>0.814072</td>\n",
              "      <td>Death Dream is the second in the Night Warrior...</td>\n",
              "      <td>1</td>\n",
              "    </tr>\n",
              "    <tr>\n",
              "      <th>18</th>\n",
              "      <td>0.215133</td>\n",
              "      <td>You can't blame this book for not being able t...</td>\n",
              "      <td>0</td>\n",
              "    </tr>\n",
              "    <tr>\n",
              "      <th>19</th>\n",
              "      <td>0.984355</td>\n",
              "      <td>This is a very entertaining tale of a clever c...</td>\n",
              "      <td>1</td>\n",
              "    </tr>\n",
              "    <tr>\n",
              "      <th>20</th>\n",
              "      <td>0.956797</td>\n",
              "      <td>This has just about everything. The rabbi, of ...</td>\n",
              "      <td>1</td>\n",
              "    </tr>\n",
              "    <tr>\n",
              "      <th>21</th>\n",
              "      <td>0.965061</td>\n",
              "      <td>The Rabbi's Cat is a wonderful book. I heard t...</td>\n",
              "      <td>1</td>\n",
              "    </tr>\n",
              "    <tr>\n",
              "      <th>22</th>\n",
              "      <td>0.669475</td>\n",
              "      <td>The artwork here was fantastic and original. A...</td>\n",
              "      <td>1</td>\n",
              "    </tr>\n",
              "    <tr>\n",
              "      <th>23</th>\n",
              "      <td>0.010899</td>\n",
              "      <td>This could be the worst novel I have ever read...</td>\n",
              "      <td>0</td>\n",
              "    </tr>\n",
              "    <tr>\n",
              "      <th>24</th>\n",
              "      <td>0.590327</td>\n",
              "      <td>I've read her novel,body of evidence,some year...</td>\n",
              "      <td>1</td>\n",
              "    </tr>\n",
              "    <tr>\n",
              "      <th>25</th>\n",
              "      <td>0.884293</td>\n",
              "      <td>Patricia Cornwell does it again! This is my th...</td>\n",
              "      <td>1</td>\n",
              "    </tr>\n",
              "    <tr>\n",
              "      <th>26</th>\n",
              "      <td>0.851206</td>\n",
              "      <td>You hit the ground running with Scarpetta and ...</td>\n",
              "      <td>1</td>\n",
              "    </tr>\n",
              "    <tr>\n",
              "      <th>27</th>\n",
              "      <td>0.625176</td>\n",
              "      <td>Book six of the Scarpetta taleswith no sign of...</td>\n",
              "      <td>1</td>\n",
              "    </tr>\n",
              "    <tr>\n",
              "      <th>28</th>\n",
              "      <td>0.854285</td>\n",
              "      <td>So far I have liked From Potters Field the bes...</td>\n",
              "      <td>1</td>\n",
              "    </tr>\n",
              "    <tr>\n",
              "      <th>29</th>\n",
              "      <td>0.468089</td>\n",
              "      <td>It is Christmas Eve and all is not well. Kay a...</td>\n",
              "      <td>0</td>\n",
              "    </tr>\n",
              "    <tr>\n",
              "      <th>30</th>\n",
              "      <td>0.365749</td>\n",
              "      <td>Thanks to Patricia Cornwell! Before reading &amp;q...</td>\n",
              "      <td>0</td>\n",
              "    </tr>\n",
              "    <tr>\n",
              "      <th>31</th>\n",
              "      <td>0.035681</td>\n",
              "      <td>I'm only writing this to get some feedback abo...</td>\n",
              "      <td>0</td>\n",
              "    </tr>\n",
              "    <tr>\n",
              "      <th>32</th>\n",
              "      <td>0.780793</td>\n",
              "      <td>Here is a terrifying novel by Cornwell. Her kn...</td>\n",
              "      <td>1</td>\n",
              "    </tr>\n",
              "    <tr>\n",
              "      <th>33</th>\n",
              "      <td>0.155288</td>\n",
              "      <td>Like all of her Scarpetta mystery novels, Patr...</td>\n",
              "      <td>0</td>\n",
              "    </tr>\n",
              "    <tr>\n",
              "      <th>34</th>\n",
              "      <td>0.351614</td>\n",
              "      <td>&amp;quot;With each book, her scalpel is getting s...</td>\n",
              "      <td>0</td>\n",
              "    </tr>\n",
              "    <tr>\n",
              "      <th>35</th>\n",
              "      <td>0.041506</td>\n",
              "      <td>According to the author's Preface, the publish...</td>\n",
              "      <td>0</td>\n",
              "    </tr>\n",
              "    <tr>\n",
              "      <th>36</th>\n",
              "      <td>0.182855</td>\n",
              "      <td>I ordered this book several years ago to do a ...</td>\n",
              "      <td>0</td>\n",
              "    </tr>\n",
              "    <tr>\n",
              "      <th>37</th>\n",
              "      <td>0.729740</td>\n",
              "      <td>After years of searching, which ended with a 4...</td>\n",
              "      <td>1</td>\n",
              "    </tr>\n",
              "    <tr>\n",
              "      <th>38</th>\n",
              "      <td>0.897333</td>\n",
              "      <td>Erna and Alfreda Anderson were two real passen...</td>\n",
              "      <td>1</td>\n",
              "    </tr>\n",
              "    <tr>\n",
              "      <th>39</th>\n",
              "      <td>0.946230</td>\n",
              "      <td>This is a wonderful collection of tales from S...</td>\n",
              "      <td>1</td>\n",
              "    </tr>\n",
              "    <tr>\n",
              "      <th>40</th>\n",
              "      <td>0.725291</td>\n",
              "      <td>For all you TV thriller fans, The Science of C...</td>\n",
              "      <td>1</td>\n",
              "    </tr>\n",
              "    <tr>\n",
              "      <th>41</th>\n",
              "      <td>0.851283</td>\n",
              "      <td>An excellent scholarly book. Great detail and ...</td>\n",
              "      <td>1</td>\n",
              "    </tr>\n",
              "    <tr>\n",
              "      <th>42</th>\n",
              "      <td>0.003015</td>\n",
              "      <td>\"Islam &amp; Mammon: The Economic Predicaments of ...</td>\n",
              "      <td>0</td>\n",
              "    </tr>\n",
              "    <tr>\n",
              "      <th>43</th>\n",
              "      <td>0.170261</td>\n",
              "      <td>This is not a good book. It is rather descript...</td>\n",
              "      <td>0</td>\n",
              "    </tr>\n",
              "    <tr>\n",
              "      <th>44</th>\n",
              "      <td>0.874603</td>\n",
              "      <td>See story summary above.No doubt an action pac...</td>\n",
              "      <td>1</td>\n",
              "    </tr>\n",
              "    <tr>\n",
              "      <th>45</th>\n",
              "      <td>0.931858</td>\n",
              "      <td>Jack Higgins, my favorite author, does it agai...</td>\n",
              "      <td>1</td>\n",
              "    </tr>\n",
              "    <tr>\n",
              "      <th>46</th>\n",
              "      <td>0.028185</td>\n",
              "      <td>Having read only one other Higgins book before...</td>\n",
              "      <td>0</td>\n",
              "    </tr>\n",
              "    <tr>\n",
              "      <th>47</th>\n",
              "      <td>0.112417</td>\n",
              "      <td>I've never written a review but my curiosity a...</td>\n",
              "      <td>0</td>\n",
              "    </tr>\n",
              "    <tr>\n",
              "      <th>48</th>\n",
              "      <td>0.038936</td>\n",
              "      <td>This is most probably my last Jack Higgins nov...</td>\n",
              "      <td>0</td>\n",
              "    </tr>\n",
              "    <tr>\n",
              "      <th>49</th>\n",
              "      <td>0.003327</td>\n",
              "      <td>I felt compelled to finish the book partly bec...</td>\n",
              "      <td>0</td>\n",
              "    </tr>\n",
              "  </tbody>\n",
              "</table>\n",
              "</div>"
            ],
            "text/plain": [
              "    sentiment_score                                        review/text  \\\n",
              "0          0.857069  \"Dr. Seuss: American Icon\" by Philip Nel is a ...   \n",
              "1          0.981875  With the publication of Everett Ferguson's boo...   \n",
              "2          0.663603  This is an excellent book. It offers the opini...   \n",
              "3          0.309657  I have the older version of the book, but I un...   \n",
              "4          0.750397  An incredible collection of stories that will ...   \n",
              "5          0.035908  This book is both a history and a photo album ...   \n",
              "6          0.056808  I agree, the CDs are a much needed help, since...   \n",
              "7          0.961272  I recommend this book highly. I have a competi...   \n",
              "8          0.568017  I have somewhere over a dozen titles on timber...   \n",
              "9          0.529757  This book has been completely instrumental in ...   \n",
              "10         0.857875  this is a good book for more of the advanced p...   \n",
              "11         0.967043  Isaac Bashevis Singer was no doubt one of the ...   \n",
              "12         0.893950  THE S&Eacute;ANCE AND OTHER STORIES is a colle...   \n",
              "13         0.744006  I knew there was something missing from the fi...   \n",
              "14         0.012464  Most of the authors of this book say, in effec...   \n",
              "15         0.824026  What a wonderful book! As an interested layper...   \n",
              "16         0.967296  This book was loaned to me by a fellow physici...   \n",
              "17         0.814072  Death Dream is the second in the Night Warrior...   \n",
              "18         0.215133  You can't blame this book for not being able t...   \n",
              "19         0.984355  This is a very entertaining tale of a clever c...   \n",
              "20         0.956797  This has just about everything. The rabbi, of ...   \n",
              "21         0.965061  The Rabbi's Cat is a wonderful book. I heard t...   \n",
              "22         0.669475  The artwork here was fantastic and original. A...   \n",
              "23         0.010899  This could be the worst novel I have ever read...   \n",
              "24         0.590327  I've read her novel,body of evidence,some year...   \n",
              "25         0.884293  Patricia Cornwell does it again! This is my th...   \n",
              "26         0.851206  You hit the ground running with Scarpetta and ...   \n",
              "27         0.625176  Book six of the Scarpetta taleswith no sign of...   \n",
              "28         0.854285  So far I have liked From Potters Field the bes...   \n",
              "29         0.468089  It is Christmas Eve and all is not well. Kay a...   \n",
              "30         0.365749  Thanks to Patricia Cornwell! Before reading &q...   \n",
              "31         0.035681  I'm only writing this to get some feedback abo...   \n",
              "32         0.780793  Here is a terrifying novel by Cornwell. Her kn...   \n",
              "33         0.155288  Like all of her Scarpetta mystery novels, Patr...   \n",
              "34         0.351614  &quot;With each book, her scalpel is getting s...   \n",
              "35         0.041506  According to the author's Preface, the publish...   \n",
              "36         0.182855  I ordered this book several years ago to do a ...   \n",
              "37         0.729740  After years of searching, which ended with a 4...   \n",
              "38         0.897333  Erna and Alfreda Anderson were two real passen...   \n",
              "39         0.946230  This is a wonderful collection of tales from S...   \n",
              "40         0.725291  For all you TV thriller fans, The Science of C...   \n",
              "41         0.851283  An excellent scholarly book. Great detail and ...   \n",
              "42         0.003015  \"Islam & Mammon: The Economic Predicaments of ...   \n",
              "43         0.170261  This is not a good book. It is rather descript...   \n",
              "44         0.874603  See story summary above.No doubt an action pac...   \n",
              "45         0.931858  Jack Higgins, my favorite author, does it agai...   \n",
              "46         0.028185  Having read only one other Higgins book before...   \n",
              "47         0.112417  I've never written a review but my curiosity a...   \n",
              "48         0.038936  This is most probably my last Jack Higgins nov...   \n",
              "49         0.003327  I felt compelled to finish the book partly bec...   \n",
              "\n",
              "    sentiment_label  \n",
              "0                 1  \n",
              "1                 1  \n",
              "2                 1  \n",
              "3                 0  \n",
              "4                 1  \n",
              "5                 0  \n",
              "6                 0  \n",
              "7                 1  \n",
              "8                 1  \n",
              "9                 1  \n",
              "10                1  \n",
              "11                1  \n",
              "12                1  \n",
              "13                1  \n",
              "14                0  \n",
              "15                1  \n",
              "16                1  \n",
              "17                1  \n",
              "18                0  \n",
              "19                1  \n",
              "20                1  \n",
              "21                1  \n",
              "22                1  \n",
              "23                0  \n",
              "24                1  \n",
              "25                1  \n",
              "26                1  \n",
              "27                1  \n",
              "28                1  \n",
              "29                0  \n",
              "30                0  \n",
              "31                0  \n",
              "32                1  \n",
              "33                0  \n",
              "34                0  \n",
              "35                0  \n",
              "36                0  \n",
              "37                1  \n",
              "38                1  \n",
              "39                1  \n",
              "40                1  \n",
              "41                1  \n",
              "42                0  \n",
              "43                0  \n",
              "44                1  \n",
              "45                1  \n",
              "46                0  \n",
              "47                0  \n",
              "48                0  \n",
              "49                0  "
            ]
          },
          "execution_count": 11,
          "metadata": {},
          "output_type": "execute_result"
        }
      ],
      "source": [
        "merged_df[['sentiment_score','review/text','sentiment_label']][:50]\n",
        "#print(merged_df['review/text'].loc[0])"
      ]
    },
    {
      "cell_type": "code",
      "execution_count": 12,
      "id": "tj8uUoWR1Jgc",
      "metadata": {
        "colab": {
          "base_uri": "https://localhost:8080/"
        },
        "id": "tj8uUoWR1Jgc",
        "outputId": "96b8a1cd-d5b2-4466-c2ec-0b5312646f90"
      },
      "outputs": [
        {
          "data": {
            "text/plain": [
              "Id                    0\n",
              "Title                 0\n",
              "Price                 0\n",
              "User_id               0\n",
              "review/helpfulness    0\n",
              "review/score          0\n",
              "review/time           0\n",
              "review/summary        0\n",
              "review/text           0\n",
              "description           0\n",
              "authors               0\n",
              "image                 0\n",
              "publisher             0\n",
              "publishedDate         0\n",
              "categories            0\n",
              "ratingsCount          0\n",
              "sentiment_score       0\n",
              "sentiment_label       0\n",
              "dtype: int64"
            ]
          },
          "execution_count": 12,
          "metadata": {},
          "output_type": "execute_result"
        }
      ],
      "source": [
        "merged_df.isnull().sum()"
      ]
    },
    {
      "cell_type": "code",
      "execution_count": 13,
      "id": "Eh3rhTX60j5S",
      "metadata": {
        "colab": {
          "base_uri": "https://localhost:8080/"
        },
        "id": "Eh3rhTX60j5S",
        "outputId": "3123ecd6-86a8-468d-e4c4-81f30971c15f"
      },
      "outputs": [
        {
          "data": {
            "text/plain": [
              "(157264, 18)"
            ]
          },
          "execution_count": 13,
          "metadata": {},
          "output_type": "execute_result"
        }
      ],
      "source": [
        "merged_df.shape"
      ]
    },
    {
      "cell_type": "markdown",
      "id": "88e14de4",
      "metadata": {
        "id": "88e14de4",
        "papermill": {
          "duration": 0.022844,
          "end_time": "2024-03-08T01:30:19.969860",
          "exception": false,
          "start_time": "2024-03-08T01:30:19.947016",
          "status": "completed"
        },
        "tags": []
      },
      "source": [
        "# Recommendation System\n",
        "\n",
        ">1. Collaborative Filtering:\n",
        "\n",
        ">   Collaborative filtering recommends items based on the preferences of users or similar users. There are two main types of collaborative filtering: [more detail-(developers.google)](https://developers.google.com/machine-learning/recommendation/collaborative/basics)\n",
        "\n",
        ">- User-Based Collaborative Filtering:\n",
        "    - Idea: Recommends items based on the preferences and behaviors of users who are similar to the target user.\n",
        "    - Process: It identifies users who have similar preferences to the target user and recommends items that those similar users have liked.\n",
        "    - Matrix: The user-item interaction matrix is used to find similarities between users.\n",
        ">- Item-Based Collaborative Filtering:\n",
        "    - Idea: Recommends items based on the similarity between items rather than users.\n",
        "    - Process: It identifies items that are similar to those the target user has liked or interacted with and recommends those similar items.\n",
        "    - Matrix: The transpose of the user-item interaction matrix is used to find similarities between items.\n",
        "\n",
        ">so basically in user based filtering output will be users and in item based filtering output will be items like books\n",
        "\n",
        ">2. Content-Based Filtering:\n",
        ">\n",
        ">Content-based filtering recommends items based on their features and the user's preferences. This approach leverages the content (features) of the items and the user's historical preferences. For books, features could include genres, authors, sentiment scores, etc.\n",
        "> [more detail-(developers.google)](https://developers.google.com/machine-learning/recommendation/content-based/basics#:~:text=Content%2Dbased%20filtering%20uses%20item,for%20the%20Google%20Play%20store.)\n",
        ">- Features for Content-Based Filtering:\n",
        "    - Utilize features like 'description', 'authors', 'categories', 'sentiment_score', etc.\n",
        "    - Create item profiles based on these features.\n",
        "\n",
        ">3. Hybrid Approach:\n",
        ">- Combining Collaborative and Content-Based Recommendations:\n",
        "    - Generate collaborative filtering recommendations based on user preferences.\n",
        "    - Use content-based filtering to fine-tune recommendations based on features such as book descriptions, authors, sentiment scores, etc.\n",
        "    \n",
        ">**Example:** Suppose the CF model recommends a list of books for a user:\n",
        ">\n",
        ">- Book A (CF score: 0.8)\n",
        ">- Book B (CF score: 0.6)\n",
        ">- Book C (CF score: 0.7)\n",
        ">\n",
        ">Now, use the CBF model to calculate sentiment scores:\n",
        ">\n",
        ">- Book A (CBF score: 0.9)\n",
        ">- Book B (CBF score: 0.7)\n",
        ">- Book C (CBF score: 0.8)\n",
        ">\n",
        ">Combine CF and CBF scores:\n",
        ">\n",
        ">- Book A (Combined score: 1.7)\n",
        ">- Book B (Combined score: 1.3)\n",
        ">- Book C (Combined score: 1.5)\n",
        "\n",
        "    "
      ]
    },
    {
      "cell_type": "markdown",
      "id": "d625ce6c",
      "metadata": {
        "id": "d625ce6c",
        "papermill": {
          "duration": 0.023247,
          "end_time": "2024-03-08T01:30:20.016764",
          "exception": false,
          "start_time": "2024-03-08T01:30:19.993517",
          "status": "completed"
        },
        "tags": []
      },
      "source": [
        "**In collaborative filtering, you recommend items based on user behavior, while in content-based filtering, you recommend items based on their features.By combining both approaches, you can provide more personalized and diverse recommendations.**"
      ]
    },
    {
      "cell_type": "markdown",
      "id": "5ea29fc9",
      "metadata": {
        "id": "5ea29fc9",
        "papermill": {
          "duration": 0.023112,
          "end_time": "2024-03-08T01:30:20.063096",
          "exception": false,
          "start_time": "2024-03-08T01:30:20.039984",
          "status": "completed"
        },
        "tags": []
      },
      "source": [
        "## Collaborative filtering\n"
      ]
    },
    {
      "cell_type": "code",
      "execution_count": 14,
      "id": "1813c63a",
      "metadata": {
        "execution": {
          "iopub.execute_input": "2024-03-08T01:30:20.110402Z",
          "iopub.status.busy": "2024-03-08T01:30:20.110058Z",
          "iopub.status.idle": "2024-03-08T01:30:23.574119Z",
          "shell.execute_reply": "2024-03-08T01:30:23.573071Z"
        },
        "id": "1813c63a",
        "papermill": {
          "duration": 3.490752,
          "end_time": "2024-03-08T01:30:23.576717",
          "exception": false,
          "start_time": "2024-03-08T01:30:20.085965",
          "status": "completed"
        },
        "tags": []
      },
      "outputs": [],
      "source": [
        "# Create a mapping of user and item indices\n",
        "user_ids = merged_df['User_id'].unique()\n",
        "item_ids = merged_df['Title'].unique()\n",
        "user_to_index = {user_id: idx for idx, user_id in enumerate(user_ids)}\n",
        "item_to_index = {item_id: idx for idx, item_id in enumerate(item_ids)}\n",
        "index_to_title = {idx: title for title, idx in item_to_index.items()}\n",
        "\n",
        "# Convert user and item indices to tensors\n",
        "user_indices = torch.tensor([user_to_index[user_id] for user_id in merged_df['User_id']], dtype=torch.long)\n",
        "item_indices = torch.tensor([item_to_index[item_id] for item_id in merged_df['Title']], dtype=torch.long)\n",
        "ratings = torch.tensor(merged_df['review/score'].values, dtype=torch.float32)"
      ]
    },
    {
      "cell_type": "code",
      "execution_count": 15,
      "id": "5144051d",
      "metadata": {
        "execution": {
          "iopub.execute_input": "2024-03-08T01:30:23.625736Z",
          "iopub.status.busy": "2024-03-08T01:30:23.625113Z",
          "iopub.status.idle": "2024-03-08T01:30:23.630473Z",
          "shell.execute_reply": "2024-03-08T01:30:23.629615Z"
        },
        "id": "5144051d",
        "papermill": {
          "duration": 0.031844,
          "end_time": "2024-03-08T01:30:23.632477",
          "exception": false,
          "start_time": "2024-03-08T01:30:23.600633",
          "status": "completed"
        },
        "tags": []
      },
      "outputs": [],
      "source": [
        "# Create a DataLoader\n",
        "dataset = TensorDataset(user_indices, item_indices, ratings)\n",
        "dataloader = DataLoader(dataset, batch_size=64, shuffle=True) # i want to set batch size to lower number so that during training , model can adjust its parameters more as i will try to set total epochs lower\n",
        "#A lower batch size can allow the model to update its parameters more frequently within each epoch."
      ]
    },
    {
      "cell_type": "markdown",
      "id": "ece9d560",
      "metadata": {
        "id": "ece9d560",
        "papermill": {
          "duration": 0.022895,
          "end_time": "2024-03-08T01:30:23.678755",
          "exception": false,
          "start_time": "2024-03-08T01:30:23.655860",
          "status": "completed"
        },
        "tags": []
      },
      "source": [
        "Using smaller batch sizes can indeed lead to more frequent updates and potentially faster convergence, but it can also make the model more prone to overfitting to the specific patterns present in each batch. On the other hand, larger batch sizes may provide a more stable estimate of the gradients and reduce the risk of overfitting, but they can slow down the training process."
      ]
    },
    {
      "cell_type": "markdown",
      "id": "37c1ea4e",
      "metadata": {
        "id": "37c1ea4e",
        "papermill": {
          "duration": 0.023021,
          "end_time": "2024-03-08T01:30:23.725241",
          "exception": false,
          "start_time": "2024-03-08T01:30:23.702220",
          "status": "completed"
        },
        "tags": []
      },
      "source": [
        "**Model based on user-item interaction**\n",
        "\n",
        ">Initialization: The nn.Embedding layers are initialized with random values. The shape of these embeddings is determined by the number of unique users/items and the specified embedding dimension.\n",
        ">\n",
        ">Input IDs: User and item IDs are used to index into the embedding layers, obtaining the corresponding embedding vectors. Each ID corresponds to a unique user or item.\n",
        ">\n",
        ">Concatenation: The user and item embeddings are concatenated along a specified dimension (usually along the last dimension). This creates a combined vector that represents both the user and item for a given interaction.\n",
        ">\n",
        ">Learning Patterns: During training, the model learns to adjust the embedding values through backpropagation. The objective is to minimize a certain loss function, and in the process, the model learns meaningful representations for users and items based on the observed interactions (user-item pairs).\n",
        ">\n",
        ">Pattern Discovery: The model aims to capture latent patterns or features in the data. For example, it might learn that certain users prefer items with specific characteristics, or certain items are similar to each other based on user interactions."
      ]
    },
    {
      "cell_type": "code",
      "execution_count": 5,
      "id": "fb94913b",
      "metadata": {
        "execution": {
          "iopub.execute_input": "2024-03-08T01:30:23.774186Z",
          "iopub.status.busy": "2024-03-08T01:30:23.773579Z",
          "iopub.status.idle": "2024-03-08T01:30:23.784551Z",
          "shell.execute_reply": "2024-03-08T01:30:23.783646Z"
        },
        "id": "fb94913b",
        "papermill": {
          "duration": 0.037689,
          "end_time": "2024-03-08T01:30:23.786452",
          "exception": false,
          "start_time": "2024-03-08T01:30:23.748763",
          "status": "completed"
        },
        "tags": []
      },
      "outputs": [],
      "source": [
        "class CollaborativeFilteringModel(nn.Module):\n",
        "    def __init__(self, num_users, num_items, embedding_dim, hidden_dim):\n",
        "        super().__init__()\n",
        "        self.user_embedding = nn.Embedding(num_users, embedding_dim)\n",
        "        self.item_embedding = nn.Embedding(num_items, embedding_dim)\n",
        "        self.hidden_layer = nn.Linear(embedding_dim * 2, hidden_dim)\n",
        "        self.relu = nn.ReLU()\n",
        "        self.output_layer = nn.Linear(hidden_dim, 1)\n",
        "\n",
        "    def forward(self, user_indices, item_indices):\n",
        "        user_embedded = self.user_embedding(user_indices)\n",
        "        item_embedded = self.item_embedding(item_indices)\n",
        "        concatenated = torch.cat([user_embedded, item_embedded], dim=1)\n",
        "        hidden_output = self.relu(self.hidden_layer(concatenated))\n",
        "        output = self.output_layer(hidden_output)\n",
        "        return output\n",
        "\n",
        "    def get_similar_titles(self, input_title_index, top_k=100):\n",
        "        device = self.item_embedding.weight.device  # Get the device of the embeddings\n",
        "\n",
        "        # Move the input title index to the same device as the model\n",
        "        input_title_index = torch.tensor([input_title_index], device=device)\n",
        "\n",
        "        # Get the embedding for the input title\n",
        "        input_title_embedding = self.item_embedding(input_title_index)\n",
        "\n",
        "        # Get embeddings for all titles\n",
        "        all_title_embeddings = self.item_embedding.weight\n",
        "\n",
        "        # Calculate cosine similarity\n",
        "        similarities = F.cosine_similarity(input_title_embedding, all_title_embeddings)\n",
        "\n",
        "        # Get indices of top-k similar titles\n",
        "        #argsort returns the indices that sort a tensor along a given dimension in ascending order(default) by value.\n",
        "        similar_title_indices = torch.argsort(similarities, descending=True)[:top_k]\n",
        "\n",
        "        # Convert indices to a list of titles\n",
        "        similar_titles = [index_to_title[idx.item()] for idx in similar_title_indices]\n",
        "        #we are using item() to get scalar value instead of tensor which can be used as an key index for dictionary\n",
        "        return similar_titles"
      ]
    },
    {
      "cell_type": "markdown",
      "id": "6cd752c0",
      "metadata": {
        "id": "6cd752c0",
        "papermill": {
          "duration": 0.023083,
          "end_time": "2024-03-08T01:30:23.832720",
          "exception": false,
          "start_time": "2024-03-08T01:30:23.809637",
          "status": "completed"
        },
        "tags": []
      },
      "source": [
        "**Example on embeddings structure and shape-**"
      ]
    },
    {
      "cell_type": "code",
      "execution_count": null,
      "id": "3a3a3f3c",
      "metadata": {
        "colab": {
          "base_uri": "https://localhost:8080/"
        },
        "execution": {
          "iopub.execute_input": "2024-03-08T01:30:23.880905Z",
          "iopub.status.busy": "2024-03-08T01:30:23.880199Z",
          "iopub.status.idle": "2024-03-08T01:30:23.931258Z",
          "shell.execute_reply": "2024-03-08T01:30:23.930221Z"
        },
        "id": "3a3a3f3c",
        "outputId": "75959e04-cdc1-4f8a-f881-d3946e46adb0",
        "papermill": {
          "duration": 0.077457,
          "end_time": "2024-03-08T01:30:23.933346",
          "exception": false,
          "start_time": "2024-03-08T01:30:23.855889",
          "status": "completed"
        },
        "tags": []
      },
      "outputs": [],
      "source": [
        "# import torch.nn as nn\n",
        "# import torch\n",
        "\n",
        "# # Suppose we have 3 unique users and 4 unique items\n",
        "# num_users = 3\n",
        "# num_items = 4\n",
        "\n",
        "# # Embedding dimensions\n",
        "# embedding_dim = 2\n",
        "\n",
        "# # Create user and item embeddings\n",
        "# user_embeddings = nn.Embedding(num_users, embedding_dim)\n",
        "# item_embeddings = nn.Embedding(num_items, embedding_dim)\n",
        "# print(user_embeddings)\n",
        "# print(item_embeddings)\n",
        "\n",
        "# # Generate example user and item IDs\n",
        "# user_ids_ex = torch.LongTensor([0, 1, 2,2,1])  # User IDs\n",
        "# item_ids_ex = torch.LongTensor([2, 1, 3, 0,0])  # Item IDs\n",
        "\n",
        "# # Get embeddings for user and item IDs\n",
        "# user_embedded = user_embeddings(user_ids_ex)\n",
        "# item_embedded = item_embeddings(item_ids_ex)\n",
        "\n",
        "# print(\"User Embeddings:\")\n",
        "# print(user_embedded)\n",
        "\n",
        "# print(\"\\nItem Embeddings:\")\n",
        "# print(item_embedded)\n",
        "# print(\"\\nconcatnated:\")\n",
        "# print(torch.cat([user_embedded, item_embedded], dim=1))"
      ]
    },
    {
      "cell_type": "markdown",
      "id": "6c28411e",
      "metadata": {
        "id": "6c28411e",
        "papermill": {
          "duration": 0.022832,
          "end_time": "2024-03-08T01:30:23.979908",
          "exception": false,
          "start_time": "2024-03-08T01:30:23.957076",
          "status": "completed"
        },
        "tags": []
      },
      "source": [
        "**example for cosine similarity**"
      ]
    },
    {
      "cell_type": "code",
      "execution_count": null,
      "id": "5d3a54e4",
      "metadata": {
        "colab": {
          "base_uri": "https://localhost:8080/"
        },
        "execution": {
          "iopub.execute_input": "2024-03-08T01:30:24.027631Z",
          "iopub.status.busy": "2024-03-08T01:30:24.026906Z",
          "iopub.status.idle": "2024-03-08T01:30:24.050413Z",
          "shell.execute_reply": "2024-03-08T01:30:24.049263Z"
        },
        "id": "5d3a54e4",
        "outputId": "9140fc66-a750-411f-8dfb-f2680ec901e7",
        "papermill": {
          "duration": 0.049616,
          "end_time": "2024-03-08T01:30:24.052392",
          "exception": false,
          "start_time": "2024-03-08T01:30:24.002776",
          "status": "completed"
        },
        "tags": []
      },
      "outputs": [],
      "source": [
        "# input1 = torch.randn(1, 2)\n",
        "# input2 = torch.randn(5, 2)\n",
        "# print(input1,input2)\n",
        "# c_s=F.cosine_similarity(input1,input2)\n",
        "# print(c_s)\n",
        "# print(torch.argsort(c_s, descending=True))"
      ]
    },
    {
      "cell_type": "markdown",
      "id": "6f67a878",
      "metadata": {
        "id": "6f67a878",
        "papermill": {
          "duration": 0.023499,
          "end_time": "2024-03-08T01:30:24.147675",
          "exception": false,
          "start_time": "2024-03-08T01:30:24.124176",
          "status": "completed"
        },
        "tags": []
      },
      "source": [
        "**Instantiating the model**"
      ]
    },
    {
      "cell_type": "code",
      "execution_count": 43,
      "id": "29029c1b",
      "metadata": {
        "execution": {
          "iopub.execute_input": "2024-03-08T01:30:24.196305Z",
          "iopub.status.busy": "2024-03-08T01:30:24.195471Z",
          "iopub.status.idle": "2024-03-08T01:30:25.439773Z",
          "shell.execute_reply": "2024-03-08T01:30:25.438962Z"
        },
        "id": "29029c1b",
        "papermill": {
          "duration": 1.27102,
          "end_time": "2024-03-08T01:30:25.442118",
          "exception": false,
          "start_time": "2024-03-08T01:30:24.171098",
          "status": "completed"
        },
        "tags": []
      },
      "outputs": [],
      "source": [
        "# Instantiate the model and move it to device\n",
        "num_users = len(user_ids)\n",
        "num_items = len(item_ids)\n",
        "embedding_dim = 100  # You can adjust this dimension based on your needs\n",
        "model = CollaborativeFilteringModel(num_users, num_items, embedding_dim,32)\n"
      ]
    },
    {
      "cell_type": "markdown",
      "id": "be051c5b",
      "metadata": {
        "id": "be051c5b",
        "papermill": {
          "duration": 0.023706,
          "end_time": "2024-03-08T01:30:25.489995",
          "exception": false,
          "start_time": "2024-03-08T01:30:25.466289",
          "status": "completed"
        },
        "tags": []
      },
      "source": [
        "**Training the model**"
      ]
    },
    {
      "cell_type": "code",
      "execution_count": 44,
      "id": "34bd1542",
      "metadata": {
        "execution": {
          "iopub.execute_input": "2024-03-08T01:30:25.539090Z",
          "iopub.status.busy": "2024-03-08T01:30:25.538719Z",
          "iopub.status.idle": "2024-03-08T01:30:27.449330Z",
          "shell.execute_reply": "2024-03-08T01:30:27.448332Z"
        },
        "id": "34bd1542",
        "papermill": {
          "duration": 1.938074,
          "end_time": "2024-03-08T01:30:27.451862",
          "exception": false,
          "start_time": "2024-03-08T01:30:25.513788",
          "status": "completed"
        },
        "tags": []
      },
      "outputs": [],
      "source": [
        "model.to(device)\n",
        "# Define loss function and optimizer\n",
        "criterion = nn.MSELoss()\n",
        "optimizer = optim.Adam(model.parameters(), lr=0.001)"
      ]
    },
    {
      "cell_type": "code",
      "execution_count": 46,
      "id": "06624fbd",
      "metadata": {
        "colab": {
          "base_uri": "https://localhost:8080/",
          "height": 455,
          "referenced_widgets": [
            "05dc1aa6d0884cffa3b10d34c5036b5d",
            "4eb7d188690343b69a9a8b67dc3374a6",
            "3beaecd079a9453f88cc4a29c7c74c18",
            "bf9172d0bce944c7b208c00d870922a3",
            "f3bb463bd98e47d894bc4f274acd94c2",
            "2cab9b0c6e3343f18643934773bdf189",
            "4b977197ac094bc8b849760eef94b3b0",
            "e59023ce437146d4b9afb63d25a2c088",
            "0bf0fdd376fe4023ae1452c6736d4891",
            "e47624d76116493094f30df6aa43b86f",
            "1f193fddd16544a8ba4484ba0d84a911",
            "3690b9aef572497a9028d64a4eae0517",
            "5908afda86ce474292cfa175b87cd24a",
            "b487907c3c894ae5b03a81eac9f88bad",
            "e18944d4019441f7acba99b921b68bce",
            "fd74de1df2c549f7beaf5d2efc4589c1",
            "6a3686a31f6d470283ccb9ded28aa738",
            "56096b5e1d764749a2bc0ab2aa10ed72",
            "6a009148a1ef4b63915c2cba165153fe",
            "e4e72cb81c7347599c559eea63d6cc79",
            "013eb5939d484e5c96b8d7315620c28b",
            "eb23594424b24256bb0ab6411b7d0007"
          ]
        },
        "execution": {
          "iopub.execute_input": "2024-03-08T01:30:27.501617Z",
          "iopub.status.busy": "2024-03-08T01:30:27.501049Z",
          "iopub.status.idle": "2024-03-08T01:44:22.516472Z",
          "shell.execute_reply": "2024-03-08T01:44:22.515556Z"
        },
        "id": "06624fbd",
        "outputId": "66160a26-05d7-46d1-8d3a-82405078260e",
        "papermill": {
          "duration": 835.042969,
          "end_time": "2024-03-08T01:44:22.519453",
          "exception": false,
          "start_time": "2024-03-08T01:30:27.476484",
          "status": "completed"
        },
        "tags": []
      },
      "outputs": [
        {
          "data": {
            "application/vnd.jupyter.widget-view+json": {
              "model_id": "f2bcbd5bdbe747f1bc3c41399b45da07",
              "version_major": 2,
              "version_minor": 0
            },
            "text/plain": [
              "Training Collaborative Model:   0%|          | 0/1 [00:00<?, ?it/s]"
            ]
          },
          "metadata": {},
          "output_type": "display_data"
        },
        {
          "data": {
            "application/vnd.jupyter.widget-view+json": {
              "model_id": "fa6611bc8d554607b7ab429d9170b57b",
              "version_major": 2,
              "version_minor": 0
            },
            "text/plain": [
              "Epoch 1/1:   0%|          | 0/2458 [00:00<?, ?it/s]"
            ]
          },
          "metadata": {},
          "output_type": "display_data"
        },
        {
          "ename": "KeyboardInterrupt",
          "evalue": "",
          "output_type": "error",
          "traceback": [
            "\u001b[1;31m---------------------------------------------------------------------------\u001b[0m",
            "\u001b[1;31mKeyboardInterrupt\u001b[0m                         Traceback (most recent call last)",
            "Cell \u001b[1;32mIn[46], line 13\u001b[0m\n\u001b[0;32m     11\u001b[0m     loss \u001b[38;5;241m=\u001b[39m criterion(predictions, rating_batch)\n\u001b[0;32m     12\u001b[0m     loss\u001b[38;5;241m.\u001b[39mbackward()\n\u001b[1;32m---> 13\u001b[0m     \u001b[43moptimizer\u001b[49m\u001b[38;5;241;43m.\u001b[39;49m\u001b[43mstep\u001b[49m\u001b[43m(\u001b[49m\u001b[43m)\u001b[49m\n\u001b[0;32m     14\u001b[0m     total_loss \u001b[38;5;241m+\u001b[39m\u001b[38;5;241m=\u001b[39m loss\u001b[38;5;241m.\u001b[39mitem()\n\u001b[0;32m     16\u001b[0m average_loss \u001b[38;5;241m=\u001b[39m total_loss \u001b[38;5;241m/\u001b[39m \u001b[38;5;28mlen\u001b[39m(dataloader)\n",
            "File \u001b[1;32md:\\Work\\Hackathon\\AI_ML\\Dev\\.venv\\Lib\\site-packages\\torch\\optim\\optimizer.py:391\u001b[0m, in \u001b[0;36mOptimizer.profile_hook_step.<locals>.wrapper\u001b[1;34m(*args, **kwargs)\u001b[0m\n\u001b[0;32m    386\u001b[0m         \u001b[38;5;28;01melse\u001b[39;00m:\n\u001b[0;32m    387\u001b[0m             \u001b[38;5;28;01mraise\u001b[39;00m \u001b[38;5;167;01mRuntimeError\u001b[39;00m(\n\u001b[0;32m    388\u001b[0m                 \u001b[38;5;124mf\u001b[39m\u001b[38;5;124m\"\u001b[39m\u001b[38;5;132;01m{\u001b[39;00mfunc\u001b[38;5;132;01m}\u001b[39;00m\u001b[38;5;124m must return None or a tuple of (new_args, new_kwargs), but got \u001b[39m\u001b[38;5;132;01m{\u001b[39;00mresult\u001b[38;5;132;01m}\u001b[39;00m\u001b[38;5;124m.\u001b[39m\u001b[38;5;124m\"\u001b[39m\n\u001b[0;32m    389\u001b[0m             )\n\u001b[1;32m--> 391\u001b[0m out \u001b[38;5;241m=\u001b[39m \u001b[43mfunc\u001b[49m\u001b[43m(\u001b[49m\u001b[38;5;241;43m*\u001b[39;49m\u001b[43margs\u001b[49m\u001b[43m,\u001b[49m\u001b[43m \u001b[49m\u001b[38;5;241;43m*\u001b[39;49m\u001b[38;5;241;43m*\u001b[39;49m\u001b[43mkwargs\u001b[49m\u001b[43m)\u001b[49m\n\u001b[0;32m    392\u001b[0m \u001b[38;5;28mself\u001b[39m\u001b[38;5;241m.\u001b[39m_optimizer_step_code()\n\u001b[0;32m    394\u001b[0m \u001b[38;5;66;03m# call optimizer step post hooks\u001b[39;00m\n",
            "File \u001b[1;32md:\\Work\\Hackathon\\AI_ML\\Dev\\.venv\\Lib\\site-packages\\torch\\optim\\optimizer.py:76\u001b[0m, in \u001b[0;36m_use_grad_for_differentiable.<locals>._use_grad\u001b[1;34m(self, *args, **kwargs)\u001b[0m\n\u001b[0;32m     74\u001b[0m     torch\u001b[38;5;241m.\u001b[39mset_grad_enabled(\u001b[38;5;28mself\u001b[39m\u001b[38;5;241m.\u001b[39mdefaults[\u001b[38;5;124m'\u001b[39m\u001b[38;5;124mdifferentiable\u001b[39m\u001b[38;5;124m'\u001b[39m])\n\u001b[0;32m     75\u001b[0m     torch\u001b[38;5;241m.\u001b[39m_dynamo\u001b[38;5;241m.\u001b[39mgraph_break()\n\u001b[1;32m---> 76\u001b[0m     ret \u001b[38;5;241m=\u001b[39m \u001b[43mfunc\u001b[49m\u001b[43m(\u001b[49m\u001b[38;5;28;43mself\u001b[39;49m\u001b[43m,\u001b[49m\u001b[43m \u001b[49m\u001b[38;5;241;43m*\u001b[39;49m\u001b[43margs\u001b[49m\u001b[43m,\u001b[49m\u001b[43m \u001b[49m\u001b[38;5;241;43m*\u001b[39;49m\u001b[38;5;241;43m*\u001b[39;49m\u001b[43mkwargs\u001b[49m\u001b[43m)\u001b[49m\n\u001b[0;32m     77\u001b[0m \u001b[38;5;28;01mfinally\u001b[39;00m:\n\u001b[0;32m     78\u001b[0m     torch\u001b[38;5;241m.\u001b[39m_dynamo\u001b[38;5;241m.\u001b[39mgraph_break()\n",
            "File \u001b[1;32md:\\Work\\Hackathon\\AI_ML\\Dev\\.venv\\Lib\\site-packages\\torch\\optim\\adam.py:168\u001b[0m, in \u001b[0;36mAdam.step\u001b[1;34m(self, closure)\u001b[0m\n\u001b[0;32m    157\u001b[0m     beta1, beta2 \u001b[38;5;241m=\u001b[39m group[\u001b[38;5;124m'\u001b[39m\u001b[38;5;124mbetas\u001b[39m\u001b[38;5;124m'\u001b[39m]\n\u001b[0;32m    159\u001b[0m     has_complex \u001b[38;5;241m=\u001b[39m \u001b[38;5;28mself\u001b[39m\u001b[38;5;241m.\u001b[39m_init_group(\n\u001b[0;32m    160\u001b[0m         group,\n\u001b[0;32m    161\u001b[0m         params_with_grad,\n\u001b[1;32m   (...)\u001b[0m\n\u001b[0;32m    165\u001b[0m         max_exp_avg_sqs,\n\u001b[0;32m    166\u001b[0m         state_steps)\n\u001b[1;32m--> 168\u001b[0m     \u001b[43madam\u001b[49m\u001b[43m(\u001b[49m\n\u001b[0;32m    169\u001b[0m \u001b[43m        \u001b[49m\u001b[43mparams_with_grad\u001b[49m\u001b[43m,\u001b[49m\n\u001b[0;32m    170\u001b[0m \u001b[43m        \u001b[49m\u001b[43mgrads\u001b[49m\u001b[43m,\u001b[49m\n\u001b[0;32m    171\u001b[0m \u001b[43m        \u001b[49m\u001b[43mexp_avgs\u001b[49m\u001b[43m,\u001b[49m\n\u001b[0;32m    172\u001b[0m \u001b[43m        \u001b[49m\u001b[43mexp_avg_sqs\u001b[49m\u001b[43m,\u001b[49m\n\u001b[0;32m    173\u001b[0m \u001b[43m        \u001b[49m\u001b[43mmax_exp_avg_sqs\u001b[49m\u001b[43m,\u001b[49m\n\u001b[0;32m    174\u001b[0m \u001b[43m        \u001b[49m\u001b[43mstate_steps\u001b[49m\u001b[43m,\u001b[49m\n\u001b[0;32m    175\u001b[0m \u001b[43m        \u001b[49m\u001b[43mamsgrad\u001b[49m\u001b[38;5;241;43m=\u001b[39;49m\u001b[43mgroup\u001b[49m\u001b[43m[\u001b[49m\u001b[38;5;124;43m'\u001b[39;49m\u001b[38;5;124;43mamsgrad\u001b[39;49m\u001b[38;5;124;43m'\u001b[39;49m\u001b[43m]\u001b[49m\u001b[43m,\u001b[49m\n\u001b[0;32m    176\u001b[0m \u001b[43m        \u001b[49m\u001b[43mhas_complex\u001b[49m\u001b[38;5;241;43m=\u001b[39;49m\u001b[43mhas_complex\u001b[49m\u001b[43m,\u001b[49m\n\u001b[0;32m    177\u001b[0m \u001b[43m        \u001b[49m\u001b[43mbeta1\u001b[49m\u001b[38;5;241;43m=\u001b[39;49m\u001b[43mbeta1\u001b[49m\u001b[43m,\u001b[49m\n\u001b[0;32m    178\u001b[0m \u001b[43m        \u001b[49m\u001b[43mbeta2\u001b[49m\u001b[38;5;241;43m=\u001b[39;49m\u001b[43mbeta2\u001b[49m\u001b[43m,\u001b[49m\n\u001b[0;32m    179\u001b[0m \u001b[43m        \u001b[49m\u001b[43mlr\u001b[49m\u001b[38;5;241;43m=\u001b[39;49m\u001b[43mgroup\u001b[49m\u001b[43m[\u001b[49m\u001b[38;5;124;43m'\u001b[39;49m\u001b[38;5;124;43mlr\u001b[39;49m\u001b[38;5;124;43m'\u001b[39;49m\u001b[43m]\u001b[49m\u001b[43m,\u001b[49m\n\u001b[0;32m    180\u001b[0m \u001b[43m        \u001b[49m\u001b[43mweight_decay\u001b[49m\u001b[38;5;241;43m=\u001b[39;49m\u001b[43mgroup\u001b[49m\u001b[43m[\u001b[49m\u001b[38;5;124;43m'\u001b[39;49m\u001b[38;5;124;43mweight_decay\u001b[39;49m\u001b[38;5;124;43m'\u001b[39;49m\u001b[43m]\u001b[49m\u001b[43m,\u001b[49m\n\u001b[0;32m    181\u001b[0m \u001b[43m        \u001b[49m\u001b[43meps\u001b[49m\u001b[38;5;241;43m=\u001b[39;49m\u001b[43mgroup\u001b[49m\u001b[43m[\u001b[49m\u001b[38;5;124;43m'\u001b[39;49m\u001b[38;5;124;43meps\u001b[39;49m\u001b[38;5;124;43m'\u001b[39;49m\u001b[43m]\u001b[49m\u001b[43m,\u001b[49m\n\u001b[0;32m    182\u001b[0m \u001b[43m        \u001b[49m\u001b[43mmaximize\u001b[49m\u001b[38;5;241;43m=\u001b[39;49m\u001b[43mgroup\u001b[49m\u001b[43m[\u001b[49m\u001b[38;5;124;43m'\u001b[39;49m\u001b[38;5;124;43mmaximize\u001b[39;49m\u001b[38;5;124;43m'\u001b[39;49m\u001b[43m]\u001b[49m\u001b[43m,\u001b[49m\n\u001b[0;32m    183\u001b[0m \u001b[43m        \u001b[49m\u001b[43mforeach\u001b[49m\u001b[38;5;241;43m=\u001b[39;49m\u001b[43mgroup\u001b[49m\u001b[43m[\u001b[49m\u001b[38;5;124;43m'\u001b[39;49m\u001b[38;5;124;43mforeach\u001b[39;49m\u001b[38;5;124;43m'\u001b[39;49m\u001b[43m]\u001b[49m\u001b[43m,\u001b[49m\n\u001b[0;32m    184\u001b[0m \u001b[43m        \u001b[49m\u001b[43mcapturable\u001b[49m\u001b[38;5;241;43m=\u001b[39;49m\u001b[43mgroup\u001b[49m\u001b[43m[\u001b[49m\u001b[38;5;124;43m'\u001b[39;49m\u001b[38;5;124;43mcapturable\u001b[39;49m\u001b[38;5;124;43m'\u001b[39;49m\u001b[43m]\u001b[49m\u001b[43m,\u001b[49m\n\u001b[0;32m    185\u001b[0m \u001b[43m        \u001b[49m\u001b[43mdifferentiable\u001b[49m\u001b[38;5;241;43m=\u001b[39;49m\u001b[43mgroup\u001b[49m\u001b[43m[\u001b[49m\u001b[38;5;124;43m'\u001b[39;49m\u001b[38;5;124;43mdifferentiable\u001b[39;49m\u001b[38;5;124;43m'\u001b[39;49m\u001b[43m]\u001b[49m\u001b[43m,\u001b[49m\n\u001b[0;32m    186\u001b[0m \u001b[43m        \u001b[49m\u001b[43mfused\u001b[49m\u001b[38;5;241;43m=\u001b[39;49m\u001b[43mgroup\u001b[49m\u001b[43m[\u001b[49m\u001b[38;5;124;43m'\u001b[39;49m\u001b[38;5;124;43mfused\u001b[39;49m\u001b[38;5;124;43m'\u001b[39;49m\u001b[43m]\u001b[49m\u001b[43m,\u001b[49m\n\u001b[0;32m    187\u001b[0m \u001b[43m        \u001b[49m\u001b[43mgrad_scale\u001b[49m\u001b[38;5;241;43m=\u001b[39;49m\u001b[38;5;28;43mgetattr\u001b[39;49m\u001b[43m(\u001b[49m\u001b[38;5;28;43mself\u001b[39;49m\u001b[43m,\u001b[49m\u001b[43m \u001b[49m\u001b[38;5;124;43m\"\u001b[39;49m\u001b[38;5;124;43mgrad_scale\u001b[39;49m\u001b[38;5;124;43m\"\u001b[39;49m\u001b[43m,\u001b[49m\u001b[43m \u001b[49m\u001b[38;5;28;43;01mNone\u001b[39;49;00m\u001b[43m)\u001b[49m\u001b[43m,\u001b[49m\n\u001b[0;32m    188\u001b[0m \u001b[43m        \u001b[49m\u001b[43mfound_inf\u001b[49m\u001b[38;5;241;43m=\u001b[39;49m\u001b[38;5;28;43mgetattr\u001b[39;49m\u001b[43m(\u001b[49m\u001b[38;5;28;43mself\u001b[39;49m\u001b[43m,\u001b[49m\u001b[43m \u001b[49m\u001b[38;5;124;43m\"\u001b[39;49m\u001b[38;5;124;43mfound_inf\u001b[39;49m\u001b[38;5;124;43m\"\u001b[39;49m\u001b[43m,\u001b[49m\u001b[43m \u001b[49m\u001b[38;5;28;43;01mNone\u001b[39;49;00m\u001b[43m)\u001b[49m\u001b[43m,\u001b[49m\n\u001b[0;32m    189\u001b[0m \u001b[43m    \u001b[49m\u001b[43m)\u001b[49m\n\u001b[0;32m    191\u001b[0m \u001b[38;5;28;01mreturn\u001b[39;00m loss\n",
            "File \u001b[1;32md:\\Work\\Hackathon\\AI_ML\\Dev\\.venv\\Lib\\site-packages\\torch\\optim\\adam.py:318\u001b[0m, in \u001b[0;36madam\u001b[1;34m(params, grads, exp_avgs, exp_avg_sqs, max_exp_avg_sqs, state_steps, foreach, capturable, differentiable, fused, grad_scale, found_inf, has_complex, amsgrad, beta1, beta2, lr, weight_decay, eps, maximize)\u001b[0m\n\u001b[0;32m    315\u001b[0m \u001b[38;5;28;01melse\u001b[39;00m:\n\u001b[0;32m    316\u001b[0m     func \u001b[38;5;241m=\u001b[39m _single_tensor_adam\n\u001b[1;32m--> 318\u001b[0m \u001b[43mfunc\u001b[49m\u001b[43m(\u001b[49m\u001b[43mparams\u001b[49m\u001b[43m,\u001b[49m\n\u001b[0;32m    319\u001b[0m \u001b[43m     \u001b[49m\u001b[43mgrads\u001b[49m\u001b[43m,\u001b[49m\n\u001b[0;32m    320\u001b[0m \u001b[43m     \u001b[49m\u001b[43mexp_avgs\u001b[49m\u001b[43m,\u001b[49m\n\u001b[0;32m    321\u001b[0m \u001b[43m     \u001b[49m\u001b[43mexp_avg_sqs\u001b[49m\u001b[43m,\u001b[49m\n\u001b[0;32m    322\u001b[0m \u001b[43m     \u001b[49m\u001b[43mmax_exp_avg_sqs\u001b[49m\u001b[43m,\u001b[49m\n\u001b[0;32m    323\u001b[0m \u001b[43m     \u001b[49m\u001b[43mstate_steps\u001b[49m\u001b[43m,\u001b[49m\n\u001b[0;32m    324\u001b[0m \u001b[43m     \u001b[49m\u001b[43mamsgrad\u001b[49m\u001b[38;5;241;43m=\u001b[39;49m\u001b[43mamsgrad\u001b[49m\u001b[43m,\u001b[49m\n\u001b[0;32m    325\u001b[0m \u001b[43m     \u001b[49m\u001b[43mhas_complex\u001b[49m\u001b[38;5;241;43m=\u001b[39;49m\u001b[43mhas_complex\u001b[49m\u001b[43m,\u001b[49m\n\u001b[0;32m    326\u001b[0m \u001b[43m     \u001b[49m\u001b[43mbeta1\u001b[49m\u001b[38;5;241;43m=\u001b[39;49m\u001b[43mbeta1\u001b[49m\u001b[43m,\u001b[49m\n\u001b[0;32m    327\u001b[0m \u001b[43m     \u001b[49m\u001b[43mbeta2\u001b[49m\u001b[38;5;241;43m=\u001b[39;49m\u001b[43mbeta2\u001b[49m\u001b[43m,\u001b[49m\n\u001b[0;32m    328\u001b[0m \u001b[43m     \u001b[49m\u001b[43mlr\u001b[49m\u001b[38;5;241;43m=\u001b[39;49m\u001b[43mlr\u001b[49m\u001b[43m,\u001b[49m\n\u001b[0;32m    329\u001b[0m \u001b[43m     \u001b[49m\u001b[43mweight_decay\u001b[49m\u001b[38;5;241;43m=\u001b[39;49m\u001b[43mweight_decay\u001b[49m\u001b[43m,\u001b[49m\n\u001b[0;32m    330\u001b[0m \u001b[43m     \u001b[49m\u001b[43meps\u001b[49m\u001b[38;5;241;43m=\u001b[39;49m\u001b[43meps\u001b[49m\u001b[43m,\u001b[49m\n\u001b[0;32m    331\u001b[0m \u001b[43m     \u001b[49m\u001b[43mmaximize\u001b[49m\u001b[38;5;241;43m=\u001b[39;49m\u001b[43mmaximize\u001b[49m\u001b[43m,\u001b[49m\n\u001b[0;32m    332\u001b[0m \u001b[43m     \u001b[49m\u001b[43mcapturable\u001b[49m\u001b[38;5;241;43m=\u001b[39;49m\u001b[43mcapturable\u001b[49m\u001b[43m,\u001b[49m\n\u001b[0;32m    333\u001b[0m \u001b[43m     \u001b[49m\u001b[43mdifferentiable\u001b[49m\u001b[38;5;241;43m=\u001b[39;49m\u001b[43mdifferentiable\u001b[49m\u001b[43m,\u001b[49m\n\u001b[0;32m    334\u001b[0m \u001b[43m     \u001b[49m\u001b[43mgrad_scale\u001b[49m\u001b[38;5;241;43m=\u001b[39;49m\u001b[43mgrad_scale\u001b[49m\u001b[43m,\u001b[49m\n\u001b[0;32m    335\u001b[0m \u001b[43m     \u001b[49m\u001b[43mfound_inf\u001b[49m\u001b[38;5;241;43m=\u001b[39;49m\u001b[43mfound_inf\u001b[49m\u001b[43m)\u001b[49m\n",
            "File \u001b[1;32md:\\Work\\Hackathon\\AI_ML\\Dev\\.venv\\Lib\\site-packages\\torch\\optim\\adam.py:443\u001b[0m, in \u001b[0;36m_single_tensor_adam\u001b[1;34m(params, grads, exp_avgs, exp_avg_sqs, max_exp_avg_sqs, state_steps, grad_scale, found_inf, amsgrad, has_complex, beta1, beta2, lr, weight_decay, eps, maximize, capturable, differentiable)\u001b[0m\n\u001b[0;32m    440\u001b[0m     \u001b[38;5;28;01melse\u001b[39;00m:\n\u001b[0;32m    441\u001b[0m         denom \u001b[38;5;241m=\u001b[39m (exp_avg_sq\u001b[38;5;241m.\u001b[39msqrt() \u001b[38;5;241m/\u001b[39m bias_correction2_sqrt)\u001b[38;5;241m.\u001b[39madd_(eps)\n\u001b[1;32m--> 443\u001b[0m     \u001b[43mparam\u001b[49m\u001b[38;5;241;43m.\u001b[39;49m\u001b[43maddcdiv_\u001b[49m\u001b[43m(\u001b[49m\u001b[43mexp_avg\u001b[49m\u001b[43m,\u001b[49m\u001b[43m \u001b[49m\u001b[43mdenom\u001b[49m\u001b[43m,\u001b[49m\u001b[43m \u001b[49m\u001b[43mvalue\u001b[49m\u001b[38;5;241;43m=\u001b[39;49m\u001b[38;5;241;43m-\u001b[39;49m\u001b[43mstep_size\u001b[49m\u001b[43m)\u001b[49m\n\u001b[0;32m    445\u001b[0m \u001b[38;5;66;03m# Lastly, switch back to complex view\u001b[39;00m\n\u001b[0;32m    446\u001b[0m \u001b[38;5;28;01mif\u001b[39;00m amsgrad \u001b[38;5;129;01mand\u001b[39;00m torch\u001b[38;5;241m.\u001b[39mis_complex(params[i]):\n",
            "\u001b[1;31mKeyboardInterrupt\u001b[0m: "
          ]
        }
      ],
      "source": [
        "epochs = 1 #total epochs used : 8, for quick save just using one epoch to demonstrate tqdm but maybe progress bar is not visible because of quick save\n",
        "for epoch in tqdm(range(epochs),desc=\"Training Collaborative Model\"):\n",
        "    model.train()\n",
        "    total_loss = 0.0\n",
        "    for user_batch, item_batch, rating_batch in tqdm(dataloader, desc=f\"Epoch {epoch + 1}/{epochs}\"):\n",
        "        user_batch, item_batch, rating_batch = user_batch.to(device), item_batch.to(device), rating_batch.to(device)\n",
        "        #user_batch = user_batch.long()\n",
        "        #item_batch = item_batch.long()\n",
        "        optimizer.zero_grad()\n",
        "        predictions = model(user_batch, item_batch).squeeze()\n",
        "        loss = criterion(predictions, rating_batch)\n",
        "        loss.backward()\n",
        "        optimizer.step()\n",
        "        total_loss += loss.item()\n",
        "\n",
        "    average_loss = total_loss / len(dataloader)\n",
        "    print(f'Epoch {epoch + 1}/{epochs}, Average Loss: {average_loss:.4f}')\n",
        "\n"
      ]
    },
    {
      "cell_type": "code",
      "execution_count": null,
      "id": "d317bc47",
      "metadata": {
        "colab": {
          "base_uri": "https://localhost:8080/"
        },
        "execution": {
          "iopub.execute_input": "2024-03-08T01:44:22.571580Z",
          "iopub.status.busy": "2024-03-08T01:44:22.571200Z",
          "iopub.status.idle": "2024-03-08T01:44:22.578352Z",
          "shell.execute_reply": "2024-03-08T01:44:22.577352Z"
        },
        "id": "d317bc47",
        "outputId": "3980869f-b11d-463e-e723-b6016e0112ec",
        "papermill": {
          "duration": 0.03461,
          "end_time": "2024-03-08T01:44:22.580286",
          "exception": false,
          "start_time": "2024-03-08T01:44:22.545676",
          "status": "completed"
        },
        "tags": []
      },
      "outputs": [],
      "source": [
        "user_index = torch.tensor([5], dtype=torch.long).to(device)\n",
        "item_index = torch.tensor([1], dtype=torch.long).to(device)\n",
        "prediction = model(user_index, item_index).item()\n",
        "print(f'Predicted Rating: {prediction:.4f}')"
      ]
    },
    {
      "cell_type": "markdown",
      "id": "69b7bb68",
      "metadata": {
        "id": "69b7bb68",
        "papermill": {
          "duration": 0.023653,
          "end_time": "2024-03-08T01:44:22.627603",
          "exception": false,
          "start_time": "2024-03-08T01:44:22.603950",
          "status": "completed"
        },
        "tags": []
      },
      "source": [
        "**evaluation**"
      ]
    },
    {
      "cell_type": "code",
      "execution_count": 48,
      "id": "b36ffb22",
      "metadata": {
        "colab": {
          "base_uri": "https://localhost:8080/",
          "height": 84,
          "referenced_widgets": [
            "beb5933be105414b819a3e73c319d3c3",
            "ae35b8fe157440fdac9f7c1b2e9d0725",
            "4731aaf7f77949bab20aac5f78f7b6e1",
            "6681196636274e6a9727e259e55b6d53",
            "427dce56fb1e4f6a9f1feefc50191ecc",
            "be66bef166fb47d2b5ce716a08aaa60f",
            "d517ab390aeb4ec5840f512bca295c7a",
            "77e4756d99dc4c31870f9ff4635015b8",
            "66c80d0328624c71adfd2e7eed12d4a9",
            "b56dbf797d954d0ca77e1b8b4fc1200c",
            "c65842f1245f41368f15ce739d9310c0"
          ]
        },
        "execution": {
          "iopub.execute_input": "2024-03-08T01:44:22.678163Z",
          "iopub.status.busy": "2024-03-08T01:44:22.677323Z",
          "iopub.status.idle": "2024-03-08T01:45:16.041369Z",
          "shell.execute_reply": "2024-03-08T01:45:16.040351Z"
        },
        "id": "b36ffb22",
        "outputId": "5e600bef-8c5a-4a08-a8fe-4680c80e3512",
        "papermill": {
          "duration": 53.392101,
          "end_time": "2024-03-08T01:45:16.043754",
          "exception": false,
          "start_time": "2024-03-08T01:44:22.651653",
          "status": "completed"
        },
        "tags": []
      },
      "outputs": [
        {
          "data": {
            "application/vnd.jupyter.widget-view+json": {
              "model_id": "11d94d331e5e4389acc004fb6b704589",
              "version_major": 2,
              "version_minor": 0
            },
            "text/plain": [
              "evaluating...:   0%|          | 0/2458 [00:00<?, ?it/s]"
            ]
          },
          "metadata": {},
          "output_type": "display_data"
        },
        {
          "name": "stdout",
          "output_type": "stream",
          "text": [
            "Mean Squared Error: 1.4150\n",
            "Root Mean Squared Error: 1.1895\n"
          ]
        }
      ],
      "source": [
        "# Evaluate the model using Mean Squared Error\n",
        "model.eval()\n",
        "total_mse = 0.0\n",
        "\n",
        "with torch.inference_mode():\n",
        "    for user_batch, item_batch, rating_batch in tqdm(dataloader,desc=\"evaluating...\"):\n",
        "        user_batch, item_batch, rating_batch = user_batch.to(device), item_batch.to(device), rating_batch.to(device)\n",
        "        predictions = model(user_batch, item_batch).squeeze()\n",
        "        mse = nn.functional.mse_loss(predictions, rating_batch)\n",
        "        total_mse += mse.item()\n",
        "\n",
        "average_mse = total_mse / len(dataloader)\n",
        "rmse = average_mse ** 0.5\n",
        "\n",
        "print(f'Mean Squared Error: {average_mse:.4f}')\n",
        "print(f'Root Mean Squared Error: {rmse:.4f}')\n"
      ]
    },
    {
      "cell_type": "markdown",
      "id": "42f5fb3e",
      "metadata": {
        "id": "42f5fb3e",
        "papermill": {
          "duration": 0.024232,
          "end_time": "2024-03-08T01:45:16.092404",
          "exception": false,
          "start_time": "2024-03-08T01:45:16.068172",
          "status": "completed"
        },
        "tags": []
      },
      "source": [
        "**saving the model**"
      ]
    },
    {
      "cell_type": "code",
      "execution_count": 49,
      "id": "a9234c4d",
      "metadata": {
        "execution": {
          "iopub.execute_input": "2024-03-08T01:45:16.144649Z",
          "iopub.status.busy": "2024-03-08T01:45:16.144011Z",
          "iopub.status.idle": "2024-03-08T01:45:17.098890Z",
          "shell.execute_reply": "2024-03-08T01:45:17.097751Z"
        },
        "id": "a9234c4d",
        "papermill": {
          "duration": 0.982126,
          "end_time": "2024-03-08T01:45:17.101106",
          "exception": false,
          "start_time": "2024-03-08T01:45:16.118980",
          "status": "completed"
        },
        "tags": []
      },
      "outputs": [
        {
          "name": "stdout",
          "output_type": "stream",
          "text": [
            "Model saved to D:/Work/Hackathon/AI_ML/Dev/Models/collaborative_filtering_model.pth\n"
          ]
        }
      ],
      "source": [
        "# Save the collaborative filtering model\n",
        "model_path = model_route + 'collaborative_filtering_model2.pth'\n",
        "# Save the entire model\n",
        "torch.save(model, model_path)\n",
        "print(f'Model saved to {model_path}')"
      ]
    },
    {
      "cell_type": "code",
      "execution_count": null,
      "id": "R3Hv7SS-CfF3",
      "metadata": {
        "id": "R3Hv7SS-CfF3"
      },
      "outputs": [],
      "source": [
        "# # Saving model\n",
        "# model_path = model_route + 'collaborative_filtering_model.pth'\n",
        "# model_scripted = torch.jit.script(model) # Export to TorchScript\n",
        "# model_scripted.save(model_path) # Save"
      ]
    },
    {
      "cell_type": "markdown",
      "id": "caafafd2",
      "metadata": {
        "id": "caafafd2",
        "papermill": {
          "duration": 0.024444,
          "end_time": "2024-03-08T01:45:17.151156",
          "exception": false,
          "start_time": "2024-03-08T01:45:17.126712",
          "status": "completed"
        },
        "tags": []
      },
      "source": [
        "**retrieving the model**"
      ]
    },
    {
      "cell_type": "code",
      "execution_count": 6,
      "id": "3ab969e4",
      "metadata": {
        "execution": {
          "iopub.execute_input": "2024-03-08T01:45:17.203240Z",
          "iopub.status.busy": "2024-03-08T01:45:17.202422Z",
          "iopub.status.idle": "2024-03-08T01:45:21.704583Z",
          "shell.execute_reply": "2024-03-08T01:45:21.703597Z"
        },
        "id": "3ab969e4",
        "papermill": {
          "duration": 4.530545,
          "end_time": "2024-03-08T01:45:21.706648",
          "exception": false,
          "start_time": "2024-03-08T01:45:17.176103",
          "status": "completed"
        },
        "tags": []
      },
      "outputs": [
        {
          "data": {
            "text/plain": [
              "CollaborativeFilteringModel(\n",
              "  (user_embedding): Embedding(118335, 100)\n",
              "  (item_embedding): Embedding(36537, 100)\n",
              "  (hidden_layer): Linear(in_features=200, out_features=32, bias=True)\n",
              "  (relu): ReLU()\n",
              "  (output_layer): Linear(in_features=32, out_features=1, bias=True)\n",
              ")"
            ]
          },
          "execution_count": 6,
          "metadata": {},
          "output_type": "execute_result"
        }
      ],
      "source": [
        "model_path = model_route + \"collaborative_filtering_model.pth\"\n",
        "# Load the entire model\n",
        "model_loaded = torch.load(model_path, map_location=device)\n",
        "model_loaded.to(device)"
      ]
    },
    {
      "cell_type": "code",
      "execution_count": null,
      "id": "_pSE5FBzCyR4",
      "metadata": {
        "colab": {
          "base_uri": "https://localhost:8080/"
        },
        "id": "_pSE5FBzCyR4",
        "outputId": "b5f2b354-0205-4f96-f7b0-27d50e8c49f9"
      },
      "outputs": [],
      "source": [
        "# model = torch.jit.load(model_path)\n",
        "# model_loaded.eval()"
      ]
    },
    {
      "cell_type": "code",
      "execution_count": 20,
      "id": "34e3599f",
      "metadata": {
        "colab": {
          "base_uri": "https://localhost:8080/",
          "height": 186
        },
        "execution": {
          "iopub.execute_input": "2024-03-08T01:45:21.761359Z",
          "iopub.status.busy": "2024-03-08T01:45:21.760782Z",
          "iopub.status.idle": "2024-03-08T01:45:21.766824Z",
          "shell.execute_reply": "2024-03-08T01:45:21.765983Z"
        },
        "id": "34e3599f",
        "outputId": "c0db1a7f-8b87-435a-b701-a66cfb8d3688",
        "papermill": {
          "duration": 0.035931,
          "end_time": "2024-03-08T01:45:21.768883",
          "exception": false,
          "start_time": "2024-03-08T01:45:21.732952",
          "status": "completed"
        },
        "tags": []
      },
      "outputs": [
        {
          "data": {
            "text/plain": [
              "<bound method Module.parameters of CollaborativeFilteringModel(\n",
              "  (user_embedding): Embedding(118335, 100)\n",
              "  (item_embedding): Embedding(36537, 100)\n",
              "  (hidden_layer): Linear(in_features=200, out_features=32, bias=True)\n",
              "  (relu): ReLU()\n",
              "  (output_layer): Linear(in_features=32, out_features=1, bias=True)\n",
              ")>"
            ]
          },
          "execution_count": 20,
          "metadata": {},
          "output_type": "execute_result"
        }
      ],
      "source": [
        "model_loaded.parameters"
      ]
    },
    {
      "cell_type": "code",
      "execution_count": null,
      "id": "86559768",
      "metadata": {
        "execution": {
          "iopub.execute_input": "2024-03-08T01:45:21.821899Z",
          "iopub.status.busy": "2024-03-08T01:45:21.821105Z",
          "iopub.status.idle": "2024-03-08T01:45:21.825276Z",
          "shell.execute_reply": "2024-03-08T01:45:21.824363Z"
        },
        "id": "86559768",
        "papermill": {
          "duration": 0.032714,
          "end_time": "2024-03-08T01:45:21.827244",
          "exception": false,
          "start_time": "2024-03-08T01:45:21.794530",
          "status": "completed"
        },
        "tags": []
      },
      "outputs": [],
      "source": [
        "#merged_df[merged_df['User_id']==\"A30TK6U7DNS82R\"]"
      ]
    },
    {
      "cell_type": "code",
      "execution_count": null,
      "id": "2023f8b1",
      "metadata": {
        "execution": {
          "iopub.execute_input": "2024-03-08T01:45:21.878891Z",
          "iopub.status.busy": "2024-03-08T01:45:21.878536Z",
          "iopub.status.idle": "2024-03-08T01:45:21.882488Z",
          "shell.execute_reply": "2024-03-08T01:45:21.881641Z"
        },
        "id": "2023f8b1",
        "papermill": {
          "duration": 0.031772,
          "end_time": "2024-03-08T01:45:21.884550",
          "exception": false,
          "start_time": "2024-03-08T01:45:21.852778",
          "status": "completed"
        },
        "tags": []
      },
      "outputs": [],
      "source": [
        "#merged_df['review/text'][1]"
      ]
    },
    {
      "cell_type": "code",
      "execution_count": 22,
      "id": "07e4b417",
      "metadata": {
        "colab": {
          "base_uri": "https://localhost:8080/"
        },
        "execution": {
          "iopub.execute_input": "2024-03-08T01:45:21.935765Z",
          "iopub.status.busy": "2024-03-08T01:45:21.934929Z",
          "iopub.status.idle": "2024-03-08T01:45:21.942568Z",
          "shell.execute_reply": "2024-03-08T01:45:21.941615Z"
        },
        "id": "07e4b417",
        "outputId": "cc3436be-0ba6-45ee-f984-4f05328552f4",
        "papermill": {
          "duration": 0.035265,
          "end_time": "2024-03-08T01:45:21.944420",
          "exception": false,
          "start_time": "2024-03-08T01:45:21.909155",
          "status": "completed"
        },
        "tags": []
      },
      "outputs": [
        {
          "name": "stdout",
          "output_type": "stream",
          "text": [
            "Predicted Rating: 4.3365\n"
          ]
        }
      ],
      "source": [
        "user_index = torch.tensor([user_to_index['A30TK6U7DNS82R']], dtype=torch.long)\n",
        "item_index = torch.tensor([item_to_index['The Insiders (Insiders (Bloomsbury))']], dtype=torch.long)\n",
        "user_index , item_index= user_index.to(device), item_index.to(device)\n",
        "prediction = model_loaded(user_index, item_index).item()\n",
        "print(f'Predicted Rating: {prediction:.4f}')"
      ]
    },
    {
      "cell_type": "markdown",
      "id": "2148bfb7",
      "metadata": {
        "id": "2148bfb7",
        "papermill": {
          "duration": 0.02476,
          "end_time": "2024-03-08T01:45:21.994319",
          "exception": false,
          "start_time": "2024-03-08T01:45:21.969559",
          "status": "completed"
        },
        "tags": []
      },
      "source": [
        "# Content Based Filtering\n"
      ]
    },
    {
      "cell_type": "markdown",
      "id": "4270d8aa",
      "metadata": {
        "id": "4270d8aa",
        "papermill": {
          "duration": 0.024571,
          "end_time": "2024-03-08T01:45:22.043789",
          "exception": false,
          "start_time": "2024-03-08T01:45:22.019218",
          "status": "completed"
        },
        "tags": []
      },
      "source": [
        "- Extract features from the items (books) such as genres, authors, sentiment scores, etc.\n",
        "- Use these features to build a content-based model that can recommend items similar to those a user has liked."
      ]
    },
    {
      "cell_type": "code",
      "execution_count": 9,
      "id": "10c8b4fe",
      "metadata": {
        "colab": {
          "base_uri": "https://localhost:8080/"
        },
        "execution": {
          "iopub.execute_input": "2024-03-08T01:45:22.095073Z",
          "iopub.status.busy": "2024-03-08T01:45:22.094363Z",
          "iopub.status.idle": "2024-03-08T01:45:22.105338Z",
          "shell.execute_reply": "2024-03-08T01:45:22.104373Z"
        },
        "id": "10c8b4fe",
        "outputId": "c0be7103-e3de-47e5-f378-4f7334a0c831",
        "papermill": {
          "duration": 0.03927,
          "end_time": "2024-03-08T01:45:22.107586",
          "exception": false,
          "start_time": "2024-03-08T01:45:22.068316",
          "status": "completed"
        },
        "tags": []
      },
      "outputs": [
        {
          "name": "stdout",
          "output_type": "stream",
          "text": [
            "<class 'pandas.core.frame.DataFrame'>\n",
            "RangeIndex: 157264 entries, 0 to 157263\n",
            "Data columns (total 18 columns):\n",
            " #   Column              Non-Null Count   Dtype  \n",
            "---  ------              --------------   -----  \n",
            " 0   Id                  157264 non-null  object \n",
            " 1   Title               157264 non-null  object \n",
            " 2   Price               157264 non-null  float64\n",
            " 3   User_id             157264 non-null  object \n",
            " 4   review/helpfulness  157264 non-null  object \n",
            " 5   review/score        157264 non-null  float64\n",
            " 6   review/time         157264 non-null  int64  \n",
            " 7   review/summary      157264 non-null  object \n",
            " 8   review/text         157264 non-null  object \n",
            " 9   description         157264 non-null  object \n",
            " 10  authors             157264 non-null  object \n",
            " 11  image               157264 non-null  object \n",
            " 12  publisher           157264 non-null  object \n",
            " 13  publishedDate       157264 non-null  object \n",
            " 14  categories          157264 non-null  object \n",
            " 15  ratingsCount        157264 non-null  float64\n",
            " 16  sentiment_score     157264 non-null  float64\n",
            " 17  sentiment_label     157264 non-null  int64  \n",
            "dtypes: float64(4), int64(2), object(12)\n",
            "memory usage: 21.6+ MB\n"
          ]
        }
      ],
      "source": [
        "# Display information about the merged dataset\n",
        "merged_df.info()"
      ]
    },
    {
      "cell_type": "code",
      "execution_count": 10,
      "id": "ff649f1b",
      "metadata": {
        "execution": {
          "iopub.execute_input": "2024-03-08T01:45:22.159741Z",
          "iopub.status.busy": "2024-03-08T01:45:22.159139Z",
          "iopub.status.idle": "2024-03-08T01:45:23.894721Z",
          "shell.execute_reply": "2024-03-08T01:45:23.893650Z"
        },
        "id": "ff649f1b",
        "papermill": {
          "duration": 1.764468,
          "end_time": "2024-03-08T01:45:23.897069",
          "exception": false,
          "start_time": "2024-03-08T01:45:22.132601",
          "status": "completed"
        },
        "tags": []
      },
      "outputs": [],
      "source": [
        "title_sentiment_aggregated = merged_df.groupby(['Title','authors','categories'])['sentiment_score'].mean().reset_index()"
      ]
    },
    {
      "cell_type": "code",
      "execution_count": 11,
      "id": "ba287480",
      "metadata": {
        "colab": {
          "base_uri": "https://localhost:8080/",
          "height": 241
        },
        "execution": {
          "iopub.execute_input": "2024-03-08T01:45:23.949976Z",
          "iopub.status.busy": "2024-03-08T01:45:23.949176Z",
          "iopub.status.idle": "2024-03-08T01:45:23.960355Z",
          "shell.execute_reply": "2024-03-08T01:45:23.959465Z"
        },
        "id": "ba287480",
        "outputId": "59832972-8a8a-4aaa-d4df-318576a2f7f0",
        "papermill": {
          "duration": 0.039193,
          "end_time": "2024-03-08T01:45:23.962198",
          "exception": false,
          "start_time": "2024-03-08T01:45:23.923005",
          "status": "completed"
        },
        "tags": []
      },
      "outputs": [
        {
          "data": {
            "text/html": [
              "<div>\n",
              "<style scoped>\n",
              "    .dataframe tbody tr th:only-of-type {\n",
              "        vertical-align: middle;\n",
              "    }\n",
              "\n",
              "    .dataframe tbody tr th {\n",
              "        vertical-align: top;\n",
              "    }\n",
              "\n",
              "    .dataframe thead th {\n",
              "        text-align: right;\n",
              "    }\n",
              "</style>\n",
              "<table border=\"1\" class=\"dataframe\">\n",
              "  <thead>\n",
              "    <tr style=\"text-align: right;\">\n",
              "      <th></th>\n",
              "      <th>Title</th>\n",
              "      <th>authors</th>\n",
              "      <th>categories</th>\n",
              "      <th>sentiment_score</th>\n",
              "    </tr>\n",
              "  </thead>\n",
              "  <tbody>\n",
              "    <tr>\n",
              "      <th>0</th>\n",
              "      <td>\"Beatles\" Illustrated Lyrics</td>\n",
              "      <td>['Alan Aldridge']</td>\n",
              "      <td>['Music']</td>\n",
              "      <td>0.181635</td>\n",
              "    </tr>\n",
              "    <tr>\n",
              "      <th>1</th>\n",
              "      <td>\"C\" is for Corpse (A Kinsey Millhone mystery, ...</td>\n",
              "      <td>['Sue Grafton']</td>\n",
              "      <td>['Fiction']</td>\n",
              "      <td>0.682485</td>\n",
              "    </tr>\n",
              "    <tr>\n",
              "      <th>2</th>\n",
              "      <td>\"Come and See\" Kids: The Life of Jesus (Cathol...</td>\n",
              "      <td>['Laurie Watson Manhardt']</td>\n",
              "      <td>['Christian education of preschool children']</td>\n",
              "      <td>0.968313</td>\n",
              "    </tr>\n",
              "    <tr>\n",
              "      <th>3</th>\n",
              "      <td>\"Cool Stuff\" They Should Teach in School: Crui...</td>\n",
              "      <td>['Kent Healy', 'Kyle Healy']</td>\n",
              "      <td>['Education']</td>\n",
              "      <td>0.781313</td>\n",
              "    </tr>\n",
              "    <tr>\n",
              "      <th>4</th>\n",
              "      <td>\"D\" is for Deadbeat</td>\n",
              "      <td>['Sue Grafton']</td>\n",
              "      <td>['Fiction']</td>\n",
              "      <td>0.564398</td>\n",
              "    </tr>\n",
              "  </tbody>\n",
              "</table>\n",
              "</div>"
            ],
            "text/plain": [
              "                                               Title  \\\n",
              "0                       \"Beatles\" Illustrated Lyrics   \n",
              "1  \"C\" is for Corpse (A Kinsey Millhone mystery, ...   \n",
              "2  \"Come and See\" Kids: The Life of Jesus (Cathol...   \n",
              "3  \"Cool Stuff\" They Should Teach in School: Crui...   \n",
              "4                                \"D\" is for Deadbeat   \n",
              "\n",
              "                        authors  \\\n",
              "0             ['Alan Aldridge']   \n",
              "1               ['Sue Grafton']   \n",
              "2    ['Laurie Watson Manhardt']   \n",
              "3  ['Kent Healy', 'Kyle Healy']   \n",
              "4               ['Sue Grafton']   \n",
              "\n",
              "                                      categories  sentiment_score  \n",
              "0                                      ['Music']         0.181635  \n",
              "1                                    ['Fiction']         0.682485  \n",
              "2  ['Christian education of preschool children']         0.968313  \n",
              "3                                  ['Education']         0.781313  \n",
              "4                                    ['Fiction']         0.564398  "
            ]
          },
          "execution_count": 11,
          "metadata": {},
          "output_type": "execute_result"
        }
      ],
      "source": [
        "title_sentiment_aggregated[:5]"
      ]
    },
    {
      "cell_type": "code",
      "execution_count": null,
      "id": "5f15760b",
      "metadata": {
        "colab": {
          "base_uri": "https://localhost:8080/"
        },
        "execution": {
          "iopub.execute_input": "2024-03-08T01:45:24.013778Z",
          "iopub.status.busy": "2024-03-08T01:45:24.012941Z",
          "iopub.status.idle": "2024-03-08T01:45:24.019016Z",
          "shell.execute_reply": "2024-03-08T01:45:24.018118Z"
        },
        "id": "5f15760b",
        "outputId": "1a532bb1-1f42-424f-e810-381767576c92",
        "papermill": {
          "duration": 0.033842,
          "end_time": "2024-03-08T01:45:24.020873",
          "exception": false,
          "start_time": "2024-03-08T01:45:23.987031",
          "status": "completed"
        },
        "tags": []
      },
      "outputs": [],
      "source": [
        "len(title_sentiment_aggregated)"
      ]
    },
    {
      "cell_type": "code",
      "execution_count": 13,
      "id": "43aa3dd4",
      "metadata": {
        "execution": {
          "iopub.execute_input": "2024-03-08T01:45:24.073648Z",
          "iopub.status.busy": "2024-03-08T01:45:24.072774Z",
          "iopub.status.idle": "2024-03-08T01:45:24.729032Z",
          "shell.execute_reply": "2024-03-08T01:45:24.727937Z"
        },
        "id": "43aa3dd4",
        "papermill": {
          "duration": 0.685308,
          "end_time": "2024-03-08T01:45:24.731404",
          "exception": false,
          "start_time": "2024-03-08T01:45:24.046096",
          "status": "completed"
        },
        "tags": []
      },
      "outputs": [],
      "source": [
        "# Create a mapping of unique categories, authors, and titles\n",
        "unique_categories = merged_df['categories'].unique()\n",
        "unique_authors = merged_df['authors'].unique()\n",
        "unique_titles = title_sentiment_aggregated['Title'].unique()\n",
        "\n",
        "category_to_index = {category: idx for idx, category in enumerate(unique_categories)}\n",
        "author_to_index = {author: idx for idx, author in enumerate(unique_authors)}\n",
        "title_to_index = {title: idx for idx, title in enumerate(unique_titles)}"
      ]
    },
    {
      "cell_type": "code",
      "execution_count": 14,
      "id": "be31def3",
      "metadata": {
        "execution": {
          "iopub.execute_input": "2024-03-08T01:45:24.786837Z",
          "iopub.status.busy": "2024-03-08T01:45:24.785720Z",
          "iopub.status.idle": "2024-03-08T01:45:25.102822Z",
          "shell.execute_reply": "2024-03-08T01:45:25.101929Z"
        },
        "id": "be31def3",
        "papermill": {
          "duration": 0.347801,
          "end_time": "2024-03-08T01:45:25.105115",
          "exception": false,
          "start_time": "2024-03-08T01:45:24.757314",
          "status": "completed"
        },
        "tags": []
      },
      "outputs": [],
      "source": [
        "# Convert categories, authors, titles to tensors\n",
        "category_indices = torch.tensor([category_to_index[category] for category in title_sentiment_aggregated['categories']], dtype=torch.long)\n",
        "author_indices = torch.tensor([author_to_index[author] for author in title_sentiment_aggregated['authors']], dtype=torch.long)\n",
        "title_indices = torch.tensor([title_to_index[title] for title in title_sentiment_aggregated['Title']], dtype=torch.long)\n"
      ]
    },
    {
      "cell_type": "code",
      "execution_count": 15,
      "id": "83e99423",
      "metadata": {
        "execution": {
          "iopub.execute_input": "2024-03-08T01:45:25.157557Z",
          "iopub.status.busy": "2024-03-08T01:45:25.156725Z",
          "iopub.status.idle": "2024-03-08T01:45:25.981720Z",
          "shell.execute_reply": "2024-03-08T01:45:25.980873Z"
        },
        "id": "83e99423",
        "papermill": {
          "duration": 0.853287,
          "end_time": "2024-03-08T01:45:25.984086",
          "exception": false,
          "start_time": "2024-03-08T01:45:25.130799",
          "status": "completed"
        },
        "tags": []
      },
      "outputs": [],
      "source": [
        "# Convert sentiment scores to tensor\n",
        "sentiment_scores = torch.tensor(title_sentiment_aggregated['sentiment_score'].values, dtype=torch.float32)\n",
        "\n",
        "# Use sentiment labels or sentiment scores as the target variable\n",
        "target_variable = torch.tensor(merged_df.groupby('Title')['sentiment_label'].mean().values, dtype=torch.float32)"
      ]
    },
    {
      "cell_type": "code",
      "execution_count": 16,
      "id": "ae9a5c3c",
      "metadata": {
        "execution": {
          "iopub.execute_input": "2024-03-08T01:45:26.038475Z",
          "iopub.status.busy": "2024-03-08T01:45:26.038099Z",
          "iopub.status.idle": "2024-03-08T01:45:26.043016Z",
          "shell.execute_reply": "2024-03-08T01:45:26.042153Z"
        },
        "id": "ae9a5c3c",
        "papermill": {
          "duration": 0.034869,
          "end_time": "2024-03-08T01:45:26.044967",
          "exception": false,
          "start_time": "2024-03-08T01:45:26.010098",
          "status": "completed"
        },
        "tags": []
      },
      "outputs": [],
      "source": [
        "# Create a DataLoader\n",
        "cbf_dataset = TensorDataset(category_indices, author_indices, title_indices, sentiment_scores, target_variable)\n",
        "cbf_dataloader = DataLoader(cbf_dataset, batch_size=64, shuffle=True)"
      ]
    },
    {
      "cell_type": "markdown",
      "id": "c6e68fc6",
      "metadata": {
        "id": "c6e68fc6",
        "papermill": {
          "duration": 0.025923,
          "end_time": "2024-03-08T01:45:26.097236",
          "exception": false,
          "start_time": "2024-03-08T01:45:26.071313",
          "status": "completed"
        },
        "tags": []
      },
      "source": [
        "**I will consider this model as regression type even if target or true label has only two values (0 or 1) and i will not use sigmoid because i will use this model to filter and sort the titles which were given by collaborative filtering model later**"
      ]
    },
    {
      "cell_type": "code",
      "execution_count": 17,
      "id": "f4f3b519",
      "metadata": {
        "execution": {
          "iopub.execute_input": "2024-03-08T01:45:26.151186Z",
          "iopub.status.busy": "2024-03-08T01:45:26.150837Z",
          "iopub.status.idle": "2024-03-08T01:45:26.159014Z",
          "shell.execute_reply": "2024-03-08T01:45:26.158143Z"
        },
        "id": "f4f3b519",
        "papermill": {
          "duration": 0.037367,
          "end_time": "2024-03-08T01:45:26.161074",
          "exception": false,
          "start_time": "2024-03-08T01:45:26.123707",
          "status": "completed"
        },
        "tags": []
      },
      "outputs": [],
      "source": [
        "# Define the content-based filtering model\n",
        "class ContentBasedFilteringModel(nn.Module):\n",
        "    def __init__(self, num_categories, num_authors, num_titles, embedding_dim):\n",
        "        super(ContentBasedFilteringModel, self).__init__()\n",
        "        self.category_embedding = nn.Embedding(num_categories, embedding_dim)\n",
        "        self.author_embedding = nn.Embedding(num_authors, embedding_dim)\n",
        "        self.title_embedding = nn.Embedding(num_titles, embedding_dim)\n",
        "        self.sentiment_linear = nn.Linear(4 * embedding_dim, 1)\n",
        "\n",
        "    def forward(self, category_indices, author_indices, title_indices, sentiment_scores):\n",
        "        category_embedded = self.category_embedding(category_indices)\n",
        "        author_embedded = self.author_embedding(author_indices)\n",
        "        title_embedded = self.title_embedding(title_indices)\n",
        "        sentiment_expanded = sentiment_scores.unsqueeze(1).expand_as(category_embedded)\n",
        "        # It serves as a constant tensor that gets expanded to match the size of category_embedded for concatenation, and its values remain fixed throughout training\n",
        "        #self.expand_as(other) is equivalent to self.expand(other.size()).\n",
        "\n",
        "        concatenated = torch.cat([category_embedded, author_embedded, title_embedded, sentiment_expanded], dim=1)\n",
        "        output = self.sentiment_linear(concatenated)\n",
        "        return output"
      ]
    },
    {
      "cell_type": "code",
      "execution_count": 18,
      "id": "5bd46958",
      "metadata": {
        "colab": {
          "base_uri": "https://localhost:8080/"
        },
        "execution": {
          "iopub.execute_input": "2024-03-08T01:45:26.213077Z",
          "iopub.status.busy": "2024-03-08T01:45:26.212726Z",
          "iopub.status.idle": "2024-03-08T01:45:26.447904Z",
          "shell.execute_reply": "2024-03-08T01:45:26.446883Z"
        },
        "id": "5bd46958",
        "outputId": "e9e3247b-5237-4d21-a307-704e5f205b4c",
        "papermill": {
          "duration": 0.264014,
          "end_time": "2024-03-08T01:45:26.449931",
          "exception": false,
          "start_time": "2024-03-08T01:45:26.185917",
          "status": "completed"
        },
        "tags": []
      },
      "outputs": [
        {
          "data": {
            "text/plain": [
              "ContentBasedFilteringModel(\n",
              "  (category_embedding): Embedding(1168, 64)\n",
              "  (author_embedding): Embedding(28713, 64)\n",
              "  (title_embedding): Embedding(36537, 64)\n",
              "  (sentiment_linear): Linear(in_features=256, out_features=1, bias=True)\n",
              ")"
            ]
          },
          "execution_count": 18,
          "metadata": {},
          "output_type": "execute_result"
        }
      ],
      "source": [
        "# Instantiate the model\n",
        "num_categories = len(unique_categories)\n",
        "num_authors = len(unique_authors)\n",
        "num_titles = len(unique_titles)\n",
        "embedding_dim = 64  # You can adjust this dimension based on your needs\n",
        "cbf_model = ContentBasedFilteringModel(num_categories, num_authors, num_titles, embedding_dim)\n",
        "cbf_model.to(device)"
      ]
    },
    {
      "cell_type": "code",
      "execution_count": 19,
      "id": "804be580",
      "metadata": {
        "execution": {
          "iopub.execute_input": "2024-03-08T01:45:26.502338Z",
          "iopub.status.busy": "2024-03-08T01:45:26.501551Z",
          "iopub.status.idle": "2024-03-08T01:45:26.506342Z",
          "shell.execute_reply": "2024-03-08T01:45:26.505485Z"
        },
        "id": "804be580",
        "papermill": {
          "duration": 0.032867,
          "end_time": "2024-03-08T01:45:26.508375",
          "exception": false,
          "start_time": "2024-03-08T01:45:26.475508",
          "status": "completed"
        },
        "tags": []
      },
      "outputs": [],
      "source": [
        "# Define loss function and optimizer\n",
        "criterion_cbf = nn.BCEWithLogitsLoss()\n",
        "optimizer_cbf = optim.Adam(cbf_model.parameters(), lr=0.001)"
      ]
    },
    {
      "cell_type": "code",
      "execution_count": 20,
      "id": "57a48824",
      "metadata": {
        "colab": {
          "base_uri": "https://localhost:8080/",
          "height": 98,
          "referenced_widgets": [
            "19199f34dd134333bb6c8a39fc31f064",
            "a40f252a3700481bac51b3ead41e6885",
            "242e58a7996848258124c742fbc40dc0",
            "e7ad4b3d9fe44b528bb98f7c33e65a51",
            "4496b51953664e0fbedbe2a7242278e1",
            "0cde6f019b1e4f2eac78df304c46aec8",
            "61241ccfef8748cc8a32796f098c6df6",
            "ca8b5baaa9c447e2936ed5844d5b5486",
            "16f6fbebc4944ed1b5e2b8003442e22f",
            "8667148937d443349da0a95514c521c7",
            "9a1fdfc38b804332958e5ae91b932c2c",
            "797523bc75f64e89b87cfbe5a4439acf",
            "7c6d24ed42b7475e9e62f82b97809be3",
            "a6600de56ec148bab0ba27817ea95848",
            "acb667635f58416ba13c3a5dc2b07ff8",
            "67f5826d3fd34b3d96b16241871814f1",
            "0af2944ac0664ea0985367aa6c896156",
            "c85476c6c25e4af6b08d646b6abbe8e6",
            "faa335d7526c451f9a4360e7f440d920",
            "09dd512d34bc475489727da54abb16f1",
            "4d3eb6e4b33b432fae0ab3b17adfd92c",
            "da770116105e438b9c73dc0ff6af8b91"
          ]
        },
        "execution": {
          "iopub.execute_input": "2024-03-08T01:45:26.560882Z",
          "iopub.status.busy": "2024-03-08T01:45:26.560586Z",
          "iopub.status.idle": "2024-03-08T01:45:49.481637Z",
          "shell.execute_reply": "2024-03-08T01:45:49.480645Z"
        },
        "id": "57a48824",
        "outputId": "0b446123-18bb-4d8f-a62d-0bf5c90b4308",
        "papermill": {
          "duration": 22.9502,
          "end_time": "2024-03-08T01:45:49.484093",
          "exception": false,
          "start_time": "2024-03-08T01:45:26.533893",
          "status": "completed"
        },
        "tags": []
      },
      "outputs": [
        {
          "data": {
            "application/vnd.jupyter.widget-view+json": {
              "model_id": "c81e3558a40b45ceb5a3ec9f1b350154",
              "version_major": 2,
              "version_minor": 0
            },
            "text/plain": [
              "Training Content based filtering model:   0%|          | 0/1 [00:00<?, ?it/s]"
            ]
          },
          "metadata": {},
          "output_type": "display_data"
        },
        {
          "data": {
            "application/vnd.jupyter.widget-view+json": {
              "model_id": "3730d78765424126b3ad3980c98074e4",
              "version_major": 2,
              "version_minor": 0
            },
            "text/plain": [
              "  0%|          | 0/571 [00:00<?, ?it/s]"
            ]
          },
          "metadata": {},
          "output_type": "display_data"
        },
        {
          "name": "stdout",
          "output_type": "stream",
          "text": [
            "Epoch 1/1, Average Loss: 0.3958\n"
          ]
        }
      ],
      "source": [
        "# Training loop\n",
        "epochs_cbf = 1 #total used around 3 epochs...\n",
        "\n",
        "for epoch in tqdm(range(epochs_cbf),desc='Training Content based filtering model'):\n",
        "    cbf_model.train()\n",
        "    total_loss_cbf = 0.0\n",
        "\n",
        "    for category_batch, author_batch, title_batch, sentiment_batch, target_batch in tqdm(cbf_dataloader):\n",
        "        category_batch, author_batch, title_batch, sentiment_batch, target_batch = category_batch.to(device), author_batch.to(device), title_batch.to(device), sentiment_batch.to(device), target_batch.to(device)\n",
        "        optimizer_cbf.zero_grad()\n",
        "        predictions_cbf = cbf_model(\n",
        "            category_batch, author_batch, title_batch, sentiment_batch\n",
        "        ).squeeze()\n",
        "        loss_cbf = criterion_cbf(\n",
        "            predictions_cbf, target_batch\n",
        "        )\n",
        "        loss_cbf.backward()\n",
        "        optimizer_cbf.step()\n",
        "        total_loss_cbf += loss_cbf.item()\n",
        "\n",
        "    average_loss = total_loss_cbf / len(cbf_dataloader)\n",
        "    print(f'Epoch {epoch + 1}/{epochs_cbf}, Average Loss: {average_loss:.4f}')"
      ]
    },
    {
      "cell_type": "markdown",
      "id": "fd2f098b",
      "metadata": {
        "id": "fd2f098b",
        "papermill": {
          "duration": 0.02636,
          "end_time": "2024-03-08T01:45:49.537598",
          "exception": false,
          "start_time": "2024-03-08T01:45:49.511238",
          "status": "completed"
        },
        "tags": []
      },
      "source": [
        "**evaluating(not using evaluation metrics like f1score for now)**"
      ]
    },
    {
      "cell_type": "code",
      "execution_count": 21,
      "id": "4e9f21ba",
      "metadata": {
        "colab": {
          "base_uri": "https://localhost:8080/"
        },
        "execution": {
          "iopub.execute_input": "2024-03-08T01:45:49.591380Z",
          "iopub.status.busy": "2024-03-08T01:45:49.591010Z",
          "iopub.status.idle": "2024-03-08T01:45:56.009656Z",
          "shell.execute_reply": "2024-03-08T01:45:56.008624Z"
        },
        "id": "4e9f21ba",
        "outputId": "6201c429-97d6-4652-808d-b0154a405205",
        "papermill": {
          "duration": 6.448168,
          "end_time": "2024-03-08T01:45:56.011804",
          "exception": false,
          "start_time": "2024-03-08T01:45:49.563636",
          "status": "completed"
        },
        "tags": []
      },
      "outputs": [
        {
          "name": "stdout",
          "output_type": "stream",
          "text": [
            "Evaluation Loss: 0.3190\n"
          ]
        }
      ],
      "source": [
        "# Evaluation loop\n",
        "cbf_model.eval()\n",
        "total_loss_cbf = 0.0\n",
        "\n",
        "with torch.inference_mode():\n",
        "    for category_batch, author_batch, title_batch, sentiment_batch, target_batch in cbf_dataloader:\n",
        "        category_batch, author_batch, title_batch, sentiment_batch, target_batch = category_batch.to(device), author_batch.to(device), title_batch.to(device), sentiment_batch.to(device), target_batch.to(device)\n",
        "        predictions_cbf = cbf_model(\n",
        "            category_batch, author_batch, title_batch, sentiment_batch\n",
        "        ).squeeze()\n",
        "        loss_cbf = criterion_cbf(\n",
        "            predictions_cbf, target_batch\n",
        "        )\n",
        "        total_loss_cbf += loss_cbf.item()\n",
        "\n",
        "    average_loss = total_loss_cbf / len(cbf_dataloader)\n",
        "    print(f'Evaluation Loss: {average_loss:.4f}')\n"
      ]
    },
    {
      "cell_type": "code",
      "execution_count": 22,
      "id": "503b2f05",
      "metadata": {
        "colab": {
          "base_uri": "https://localhost:8080/"
        },
        "execution": {
          "iopub.execute_input": "2024-03-08T01:45:56.066325Z",
          "iopub.status.busy": "2024-03-08T01:45:56.065602Z",
          "iopub.status.idle": "2024-03-08T01:45:56.074038Z",
          "shell.execute_reply": "2024-03-08T01:45:56.073105Z"
        },
        "id": "503b2f05",
        "outputId": "5b3f9a50-b7a9-4c7b-dc66-1a81dd142d54",
        "papermill": {
          "duration": 0.037568,
          "end_time": "2024-03-08T01:45:56.075908",
          "exception": false,
          "start_time": "2024-03-08T01:45:56.038340",
          "status": "completed"
        },
        "tags": []
      },
      "outputs": [
        {
          "name": "stdout",
          "output_type": "stream",
          "text": [
            "Predicted Sentiment: 3.0701\n"
          ]
        }
      ],
      "source": [
        "category_index = torch.tensor([0], dtype=torch.long)\n",
        "author_index = torch.tensor([0], dtype=torch.long)\n",
        "sentiment_index = torch.tensor([0], dtype=torch.long)\n",
        "title_index = torch.tensor([1], dtype=torch.long)\n",
        "category_index, author_index, title_index, sentiment_index= category_index.to(device), author_index.to(device), title_index.to(device), sentiment_index.to(device)\n",
        "prediction = cbf_model(category_index, author_index,sentiment_index,title_index).item()\n",
        "print(f'Predicted Sentiment: {prediction:.4f}')"
      ]
    },
    {
      "cell_type": "markdown",
      "id": "f722142b",
      "metadata": {
        "id": "f722142b",
        "papermill": {
          "duration": 0.025762,
          "end_time": "2024-03-08T01:45:56.127756",
          "exception": false,
          "start_time": "2024-03-08T01:45:56.101994",
          "status": "completed"
        },
        "tags": []
      },
      "source": [
        "**saving the model**"
      ]
    },
    {
      "cell_type": "code",
      "execution_count": 26,
      "id": "8cb6c4b0",
      "metadata": {
        "colab": {
          "base_uri": "https://localhost:8080/"
        },
        "execution": {
          "iopub.execute_input": "2024-03-08T01:45:56.181364Z",
          "iopub.status.busy": "2024-03-08T01:45:56.180723Z",
          "iopub.status.idle": "2024-03-08T01:45:56.357131Z",
          "shell.execute_reply": "2024-03-08T01:45:56.356222Z"
        },
        "id": "8cb6c4b0",
        "outputId": "f0b7c35d-aad3-47f4-c11f-887f0f34a2d5",
        "papermill": {
          "duration": 0.205964,
          "end_time": "2024-03-08T01:45:56.359252",
          "exception": false,
          "start_time": "2024-03-08T01:45:56.153288",
          "status": "completed"
        },
        "tags": []
      },
      "outputs": [
        {
          "name": "stdout",
          "output_type": "stream",
          "text": [
            "Model saved to D:/Work/Hackathon/AI_ML/Dev/Models/content_based_filtering_model.pth\n"
          ]
        }
      ],
      "source": [
        "# Save the collaborative filtering model\n",
        "model_path = model_route + 'content_based_filtering_model.pth'\n",
        "# Save the entire model\n",
        "torch.save(cbf_model, model_path)\n",
        "print(f'Model saved to {model_path}')\n"
      ]
    },
    {
      "cell_type": "code",
      "execution_count": null,
      "id": "dNvm4vjxEyf-",
      "metadata": {
        "id": "dNvm4vjxEyf-"
      },
      "outputs": [],
      "source": [
        "# # Saving model\n",
        "# model_path = base_path + 'content_based_filtering_model.pth'\n",
        "# model_scripted = torch.jit.script(cbf_model) # Export to TorchScript\n",
        "# model_scripted.save(model_path) # Save"
      ]
    },
    {
      "cell_type": "markdown",
      "id": "f763ad5e",
      "metadata": {
        "id": "f763ad5e",
        "papermill": {
          "duration": 0.030181,
          "end_time": "2024-03-08T01:45:56.419817",
          "exception": false,
          "start_time": "2024-03-08T01:45:56.389636",
          "status": "completed"
        },
        "tags": []
      },
      "source": [
        "**retrieving the model**"
      ]
    },
    {
      "cell_type": "code",
      "execution_count": 27,
      "id": "1660a7da",
      "metadata": {
        "execution": {
          "iopub.execute_input": "2024-03-08T01:45:56.482974Z",
          "iopub.status.busy": "2024-03-08T01:45:56.481942Z",
          "iopub.status.idle": "2024-03-08T01:45:57.365138Z",
          "shell.execute_reply": "2024-03-08T01:45:57.364195Z"
        },
        "id": "1660a7da",
        "papermill": {
          "duration": 0.916928,
          "end_time": "2024-03-08T01:45:57.367287",
          "exception": false,
          "start_time": "2024-03-08T01:45:56.450359",
          "status": "completed"
        },
        "tags": []
      },
      "outputs": [
        {
          "data": {
            "text/plain": [
              "ContentBasedFilteringModel(\n",
              "  (category_embedding): Embedding(1168, 64)\n",
              "  (author_embedding): Embedding(28713, 64)\n",
              "  (title_embedding): Embedding(36537, 64)\n",
              "  (sentiment_linear): Linear(in_features=256, out_features=1, bias=True)\n",
              ")"
            ]
          },
          "execution_count": 27,
          "metadata": {},
          "output_type": "execute_result"
        }
      ],
      "source": [
        "model_path = model_route + \"content_based_filtering_model.pth\"\n",
        "# Load the entire model\n",
        "cbf_model_loaded = torch.load(model_path, map_location=device)\n",
        "cbf_model_loaded.to(device)"
      ]
    },
    {
      "cell_type": "code",
      "execution_count": null,
      "id": "2QZc0rqiFCxi",
      "metadata": {
        "colab": {
          "base_uri": "https://localhost:8080/"
        },
        "id": "2QZc0rqiFCxi",
        "outputId": "08d469ce-9e11-4d91-c95f-d288372f13bc"
      },
      "outputs": [],
      "source": [
        "# # Loading model\n",
        "# model_path = base_path + \"content_based_filtering_model.pth\"\n",
        "# cbf_model = torch.jit.load(model_path)\n",
        "# cbf_model.eval()"
      ]
    },
    {
      "cell_type": "markdown",
      "id": "e76ef0a4",
      "metadata": {
        "id": "e76ef0a4",
        "papermill": {
          "duration": 0.026115,
          "end_time": "2024-03-08T01:45:57.421421",
          "exception": false,
          "start_time": "2024-03-08T01:45:57.395306",
          "status": "completed"
        },
        "tags": []
      },
      "source": [
        "# Hybrid Model"
      ]
    },
    {
      "cell_type": "markdown",
      "id": "9f2585e0",
      "metadata": {
        "id": "9f2585e0",
        "papermill": {
          "duration": 0.026237,
          "end_time": "2024-03-08T01:45:57.474168",
          "exception": false,
          "start_time": "2024-03-08T01:45:57.447931",
          "status": "completed"
        },
        "tags": []
      },
      "source": [
        "**Getting Recommendations Using Collaborative Filtering Model**"
      ]
    },
    {
      "cell_type": "code",
      "execution_count": 43,
      "id": "69e01729",
      "metadata": {
        "execution": {
          "iopub.execute_input": "2024-03-08T01:45:57.528276Z",
          "iopub.status.busy": "2024-03-08T01:45:57.527920Z",
          "iopub.status.idle": "2024-03-08T01:45:57.533440Z",
          "shell.execute_reply": "2024-03-08T01:45:57.532576Z"
        },
        "id": "69e01729",
        "papermill": {
          "duration": 0.03483,
          "end_time": "2024-03-08T01:45:57.535273",
          "exception": false,
          "start_time": "2024-03-08T01:45:57.500443",
          "status": "completed"
        },
        "tags": []
      },
      "outputs": [],
      "source": [
        "def get_collaborative_recommendations(model, title, num_recommendations=100):\n",
        "\n",
        "\n",
        "    #item_to_index = {title: idx for idx, title in enumerate(item_ids)}\n",
        "    # Get index of the input title\n",
        "    input_title_index = item_to_index[title] # have already declared this before in above cells\n",
        "\n",
        "    # Get recommendations using the collaborative filtering model\n",
        "    model.eval()\n",
        "    with torch.inference_mode():\n",
        "        # Call the custom method to get similar titles\n",
        "        similar_titles = model.get_similar_titles(input_title_index, top_k=num_recommendations)\n",
        "\n",
        "\n",
        "    # Return the recommended titles\n",
        "    return similar_titles\n"
      ]
    },
    {
      "cell_type": "code",
      "execution_count": 44,
      "id": "fb32aab6",
      "metadata": {
        "execution": {
          "iopub.execute_input": "2024-03-08T01:45:57.589213Z",
          "iopub.status.busy": "2024-03-08T01:45:57.588886Z",
          "iopub.status.idle": "2024-03-08T01:45:57.682807Z",
          "shell.execute_reply": "2024-03-08T01:45:57.681888Z"
        },
        "id": "fb32aab6",
        "papermill": {
          "duration": 0.12386,
          "end_time": "2024-03-08T01:45:57.685154",
          "exception": false,
          "start_time": "2024-03-08T01:45:57.561294",
          "status": "completed"
        },
        "tags": []
      },
      "outputs": [],
      "source": [
        "input_title = \"From Potter's Field\"\n",
        "collab_recommendations = get_collaborative_recommendations(model_loaded, input_title,num_recommendations=1000)"
      ]
    },
    {
      "cell_type": "code",
      "execution_count": 46,
      "id": "beaf08c6",
      "metadata": {
        "colab": {
          "base_uri": "https://localhost:8080/"
        },
        "execution": {
          "iopub.execute_input": "2024-03-08T01:45:57.740401Z",
          "iopub.status.busy": "2024-03-08T01:45:57.740094Z",
          "iopub.status.idle": "2024-03-08T01:45:57.746018Z",
          "shell.execute_reply": "2024-03-08T01:45:57.745246Z"
        },
        "id": "beaf08c6",
        "outputId": "d51fb328-0059-463e-d0eb-49e7593c2631",
        "papermill": {
          "duration": 0.035098,
          "end_time": "2024-03-08T01:45:57.747876",
          "exception": false,
          "start_time": "2024-03-08T01:45:57.712778",
          "status": "completed"
        },
        "tags": []
      },
      "outputs": [
        {
          "data": {
            "text/plain": [
              "[\"From Potter's Field\",\n",
              " 'Railroad Ferries of the Hudson and Stories of a Deck Hand',\n",
              " 'Bad Dogs Need It: Good Dogs Deserve It: An Encyclopedia of Behavior Problems and Training Solutions',\n",
              " 'Yamaha Outboard Shop Manual: 2-90 Hp Two-Stroke, 1999-2002 (Includes Jet Drives (Clymer Marine Repair)',\n",
              " 'Hoax: The Inside Story of the Howard Hughes-Clifford Irving Affair',\n",
              " \"Enough About You, Let's Talk About Me: How to Recognize and Manage the Narcissists in Your Life\",\n",
              " 'Dave Barry Does Japan',\n",
              " 'A Search of African American Life, Achievement And Culture: First Search',\n",
              " 'Lyre of Orpheus (G K Hall Large Print Book Series)',\n",
              " 'The Line of Beauty: A Novel']"
            ]
          },
          "execution_count": 46,
          "metadata": {},
          "output_type": "execute_result"
        }
      ],
      "source": [
        "collab_recommendations[:10]"
      ]
    },
    {
      "cell_type": "code",
      "execution_count": 61,
      "id": "b604f760",
      "metadata": {
        "colab": {
          "base_uri": "https://localhost:8080/"
        },
        "execution": {
          "iopub.execute_input": "2024-03-08T01:45:57.801398Z",
          "iopub.status.busy": "2024-03-08T01:45:57.800738Z",
          "iopub.status.idle": "2024-03-08T01:45:57.806228Z",
          "shell.execute_reply": "2024-03-08T01:45:57.805380Z"
        },
        "id": "b604f760",
        "outputId": "4470fd34-a838-4ab1-9ad9-0ed7015c91c0",
        "papermill": {
          "duration": 0.034386,
          "end_time": "2024-03-08T01:45:57.808285",
          "exception": false,
          "start_time": "2024-03-08T01:45:57.773899",
          "status": "completed"
        },
        "tags": []
      },
      "outputs": [
        {
          "data": {
            "text/plain": [
              "36537"
            ]
          },
          "execution_count": 61,
          "metadata": {},
          "output_type": "execute_result"
        }
      ],
      "source": [
        "len(item_to_index)"
      ]
    },
    {
      "cell_type": "markdown",
      "id": "abbb6db1",
      "metadata": {
        "id": "abbb6db1",
        "papermill": {
          "duration": 0.025749,
          "end_time": "2024-03-08T01:45:57.860314",
          "exception": false,
          "start_time": "2024-03-08T01:45:57.834565",
          "status": "completed"
        },
        "tags": []
      },
      "source": [
        "**FILTERING AND SORTING THE RECOMMENDED LIST OF BOOKS BY COLLABORATIVE FILTERING MODEL USING CONTENT BASED FILTERING MODEL**"
      ]
    },
    {
      "cell_type": "code",
      "execution_count": 47,
      "id": "512f4d15",
      "metadata": {
        "execution": {
          "iopub.execute_input": "2024-03-08T01:45:57.915963Z",
          "iopub.status.busy": "2024-03-08T01:45:57.915614Z",
          "iopub.status.idle": "2024-03-08T01:45:57.924779Z",
          "shell.execute_reply": "2024-03-08T01:45:57.924052Z"
        },
        "id": "512f4d15",
        "papermill": {
          "duration": 0.039754,
          "end_time": "2024-03-08T01:45:57.926538",
          "exception": false,
          "start_time": "2024-03-08T01:45:57.886784",
          "status": "completed"
        },
        "tags": []
      },
      "outputs": [],
      "source": [
        "def get_content_based_recommendations(content_based_model, collaborative_recommendations):\n",
        "    # Assuming you have a mapping of titles to details (categories, authors, sentiment_scores)\n",
        "    #nested dictionary\n",
        "    title_details = title_sentiment_aggregated.set_index('Title')[['categories', 'authors', 'sentiment_score']].to_dict(orient='index')\n",
        "\n",
        "    # Extract details for collaborative recommendations\n",
        "    details = [title_details[title] for title in collaborative_recommendations]\n",
        "\n",
        "    # Convert details to tensors\n",
        "    category_indices = torch.tensor([category_to_index[detail['categories']] for detail in details], dtype=torch.long)\n",
        "    author_indices = torch.tensor([author_to_index[detail['authors']] for detail in details], dtype=torch.long)\n",
        "    title_indices = torch.tensor([title_to_index[title] for title in collaborative_recommendations], dtype=torch.long)\n",
        "    sentiment_scores = torch.tensor([detail['sentiment_score'] for detail in details], dtype=torch.float32)\n",
        "    category_indices, author_indices, title_indices, sentiment_scores= category_indices.to(device), author_indices.to(device), title_indices.to(device), sentiment_scores.to(device)\n",
        "    # Assuming you have a function to get predictions from the content-based model\n",
        "    content_based_model.eval()\n",
        "    with torch.inference_mode():\n",
        "        predictions = content_based_model(category_indices, author_indices, title_indices, sentiment_scores)\n",
        "\n",
        "    # Sort titles based on the predictions\n",
        "    sorted_titles = [title for _, title in sorted(zip(predictions, collaborative_recommendations), reverse=True)]\n",
        "\n",
        "    # Return the sorted titles\n",
        "    return sorted_titles\n"
      ]
    },
    {
      "cell_type": "markdown",
      "id": "2988787c",
      "metadata": {
        "id": "2988787c",
        "papermill": {
          "duration": 0.025681,
          "end_time": "2024-03-08T01:45:57.978784",
          "exception": false,
          "start_time": "2024-03-08T01:45:57.953103",
          "status": "completed"
        },
        "tags": []
      },
      "source": [
        "**EXPLAINATION FOR THIS LINE: \"sorted_titles = [title for _, title in sorted(zip(predictions, collaborative_recommendations), reverse=True)]\"**\n",
        ">zip(predictions, collaborative_recommendations): This creates pairs of corresponding elements from predictions and collaborative_recommendations. For example, if predictions are [0.8, 0.6, 0.9] and collaborative_recommendations are ['Book1', 'Book2', 'Book3'], this creates pairs like [(0.8, 'Book1'), (0.6, 'Book2'), (0.9, 'Book3')].\n",
        ">\n",
        ">sorted(..., reverse=True): This sorts the pairs in descending order based on the first element of each pair (the predictions). So, in the example, it would become [(0.9, 'Book3'), (0.8, 'Book1'), (0.6, 'Book2')].\n",
        ">\n",
        ">[title for _, title in ...]: This extracts the titles from the sorted pairs. The underscore _ is used to represent the predictions, but since we are interested in titles, we only keep the titles."
      ]
    },
    {
      "cell_type": "code",
      "execution_count": 48,
      "id": "6b1ce84a",
      "metadata": {
        "execution": {
          "iopub.execute_input": "2024-03-08T01:45:58.032277Z",
          "iopub.status.busy": "2024-03-08T01:45:58.031948Z",
          "iopub.status.idle": "2024-03-08T01:45:59.646196Z",
          "shell.execute_reply": "2024-03-08T01:45:59.645043Z"
        },
        "id": "6b1ce84a",
        "papermill": {
          "duration": 1.643647,
          "end_time": "2024-03-08T01:45:59.648570",
          "exception": false,
          "start_time": "2024-03-08T01:45:58.004923",
          "status": "completed"
        },
        "tags": []
      },
      "outputs": [],
      "source": [
        "r=get_content_based_recommendations(cbf_model,collab_recommendations)"
      ]
    },
    {
      "cell_type": "code",
      "execution_count": 49,
      "id": "24484265",
      "metadata": {
        "colab": {
          "base_uri": "https://localhost:8080/"
        },
        "execution": {
          "iopub.execute_input": "2024-03-08T01:45:59.702866Z",
          "iopub.status.busy": "2024-03-08T01:45:59.702519Z",
          "iopub.status.idle": "2024-03-08T01:45:59.709047Z",
          "shell.execute_reply": "2024-03-08T01:45:59.708188Z"
        },
        "id": "24484265",
        "outputId": "7eeff824-fe09-45ee-9f92-dd48d9f9d9e5",
        "papermill": {
          "duration": 0.03572,
          "end_time": "2024-03-08T01:45:59.710927",
          "exception": false,
          "start_time": "2024-03-08T01:45:59.675207",
          "status": "completed"
        },
        "tags": []
      },
      "outputs": [
        {
          "data": {
            "text/plain": [
              "[\"The elephant's child\",\n",
              " 'Classic Wiley: A Lifetime of Punchers, Players, Punks and Prophets (Great American Sportswriters)',\n",
              " 'The fall of the House of Hapsburg (Eagle books)',\n",
              " 'Touch Not the Cat (Coronet Books)',\n",
              " 'Encyclopedia of 7700 Illustrations',\n",
              " 'Introduction to the Biology of Marine Life',\n",
              " 'Spontaneous Remission: An Annotated Bibliography',\n",
              " 'Words in Action',\n",
              " 'Understanding \"Our Father\": Biblical Reflections on the Lord\\'s Prayer',\n",
              " 'Ghosts of the Titanic']"
            ]
          },
          "execution_count": 49,
          "metadata": {},
          "output_type": "execute_result"
        }
      ],
      "source": [
        "r[:10]"
      ]
    },
    {
      "cell_type": "code",
      "execution_count": 50,
      "id": "6d2b2d05",
      "metadata": {
        "execution": {
          "iopub.execute_input": "2024-03-08T01:45:59.764672Z",
          "iopub.status.busy": "2024-03-08T01:45:59.764363Z",
          "iopub.status.idle": "2024-03-08T01:45:59.769619Z",
          "shell.execute_reply": "2024-03-08T01:45:59.768771Z"
        },
        "id": "6d2b2d05",
        "papermill": {
          "duration": 0.034172,
          "end_time": "2024-03-08T01:45:59.771487",
          "exception": false,
          "start_time": "2024-03-08T01:45:59.737315",
          "status": "completed"
        },
        "tags": []
      },
      "outputs": [],
      "source": [
        "def partial_name_matching(partial_name, all_books):\n",
        "    matching_titles = [title for title in all_books if partial_name.lower() in title.lower()]\n",
        "\n",
        "    # Use a set to ensure uniqueness\n",
        "    unique_matching_titles = set(matching_titles)\n",
        "\n",
        "    # Format the output as a string\n",
        "    output_string = \"\\n\".join(unique_matching_titles)\n",
        "\n",
        "    return output_string\n"
      ]
    },
    {
      "cell_type": "code",
      "execution_count": 51,
      "id": "3a797438",
      "metadata": {
        "colab": {
          "base_uri": "https://localhost:8080/"
        },
        "execution": {
          "iopub.execute_input": "2024-03-08T01:45:59.826079Z",
          "iopub.status.busy": "2024-03-08T01:45:59.825315Z",
          "iopub.status.idle": "2024-03-08T01:46:00.675446Z",
          "shell.execute_reply": "2024-03-08T01:46:00.674571Z"
        },
        "id": "3a797438",
        "outputId": "16afcbb4-5e6e-45aa-f7aa-8c6c17fd5e2e",
        "papermill": {
          "duration": 0.879601,
          "end_time": "2024-03-08T01:46:00.677426",
          "exception": false,
          "start_time": "2024-03-08T01:45:59.797825",
          "status": "completed"
        },
        "tags": []
      },
      "outputs": [
        {
          "name": "stdout",
          "output_type": "stream",
          "text": [
            "FORM IN TONAL MUSIC an Introduction to Analysis\n",
            "Introduction to Analysis of Variance: Design, Analyis & Interpretation\n"
          ]
        }
      ],
      "source": [
        "print( partial_name_matching('introduction to analy',merged_df['Title'] ))"
      ]
    },
    {
      "cell_type": "code",
      "execution_count": 7,
      "id": "502b38af",
      "metadata": {
        "colab": {
          "base_uri": "https://localhost:8080/",
          "height": 175,
          "referenced_widgets": [
            "599027dcc5a047d29838505814eb8dc4",
            "e996a9bfa55949878f3d3f5ad942d0ec",
            "a3dd9483709642dc80d2f1701768964d",
            "8d6dfeb0d94743008d8c45975f9fd8aa",
            "0f43d4e26e23448c82a90fb33b5be7e5",
            "20661722f55540e09f60d157af1ba676",
            "83514d4653764d22ade33ffc990c9ba8",
            "dc0068a6e27a4100989da88d7edea63f",
            "7e6745f2a2bb4c10947e0243a8294d00",
            "a592833e6e6f407c841b7284b1238c5f",
            "924394396bf94ff0950170c57f0725be",
            "b9c163e7d15842618997de6b262ab13b",
            "650f6edc8fb34ed395a31a1b404e08fb",
            "e626c49acb46450f895678350550e04d",
            "0e62da4a462246a9921fbead637cabd3",
            "2e5b7b585df341bba880eda282392956",
            "4f4773c712b94760897aa7bf5661f582",
            "62326ae128a44a5796ab652fd18b28d5",
            "9d338e297d0e4153978ec07f8353af71"
          ]
        },
        "execution": {
          "iopub.execute_input": "2024-03-08T01:46:00.732961Z",
          "iopub.status.busy": "2024-03-08T01:46:00.732657Z",
          "iopub.status.idle": "2024-03-08T01:46:00.774476Z",
          "shell.execute_reply": "2024-03-08T01:46:00.773635Z"
        },
        "id": "502b38af",
        "outputId": "61386ffb-3e85-4302-dc2a-ed00c0b295be",
        "papermill": {
          "duration": 0.083041,
          "end_time": "2024-03-08T01:46:00.787340",
          "exception": false,
          "start_time": "2024-03-08T01:46:00.704299",
          "status": "completed"
        },
        "tags": []
      },
      "outputs": [
        {
          "data": {
            "application/vnd.jupyter.widget-view+json": {
              "model_id": "0730029bd20c4a03bc70920cf9237192",
              "version_major": 2,
              "version_minor": 0
            },
            "text/plain": [
              "Text(value='', placeholder='Enter partial book name')"
            ]
          },
          "metadata": {},
          "output_type": "display_data"
        },
        {
          "data": {
            "application/vnd.jupyter.widget-view+json": {
              "model_id": "b49cabd771f34dd4a53360faa2829c2a",
              "version_major": 2,
              "version_minor": 0
            },
            "text/plain": [
              "Output()"
            ]
          },
          "metadata": {},
          "output_type": "display_data"
        },
        {
          "data": {
            "application/vnd.jupyter.widget-view+json": {
              "model_id": "08e8f555ccff4aa396c4f166e28c690b",
              "version_major": 2,
              "version_minor": 0
            },
            "text/plain": [
              "Text(value='', placeholder='Use recommended book name')"
            ]
          },
          "metadata": {},
          "output_type": "display_data"
        },
        {
          "data": {
            "application/vnd.jupyter.widget-view+json": {
              "model_id": "7b3fb5b633a94a62888eebf62886f8ea",
              "version_major": 2,
              "version_minor": 0
            },
            "text/plain": [
              "Output()"
            ]
          },
          "metadata": {},
          "output_type": "display_data"
        },
        {
          "data": {
            "application/vnd.jupyter.widget-view+json": {
              "model_id": "256dabd387bc41a9a42dd7d8bbf726f2",
              "version_major": 2,
              "version_minor": 0
            },
            "text/plain": [
              "Button(description='Previous', style=ButtonStyle())"
            ]
          },
          "metadata": {},
          "output_type": "display_data"
        },
        {
          "data": {
            "application/vnd.jupyter.widget-view+json": {
              "model_id": "75a53dcd3250464194d9084a41b677d8",
              "version_major": 2,
              "version_minor": 0
            },
            "text/plain": [
              "Button(description='Next', style=ButtonStyle())"
            ]
          },
          "metadata": {},
          "output_type": "display_data"
        },
        {
          "data": {
            "application/vnd.jupyter.widget-view+json": {
              "model_id": "2d54de73ec434d6e90d6c3a2ea2918f6",
              "version_major": 2,
              "version_minor": 0
            },
            "text/plain": [
              "Button(description='Show Recommendations', style=ButtonStyle())"
            ]
          },
          "metadata": {},
          "output_type": "display_data"
        }
      ],
      "source": [
        "import ipywidgets as widgets\n",
        "from IPython.display import display\n",
        "\n",
        "start_index = 0\n",
        "items_per_page = 10\n",
        "last_recommended_name = None  # To track changes in recommended book name\n",
        "\n",
        "\n",
        "# Create two text input widgets\n",
        "partial_name_input = widgets.Text(placeholder='Enter partial book name')\n",
        "recommended_name_input = widgets.Text(placeholder='Use recommended book name')\n",
        "\n",
        "# Create buttons for pagination\n",
        "prev_button = widgets.Button(description='Previous')\n",
        "next_button = widgets.Button(description='Next')\n",
        "\n",
        "# Create a button to show recommendations\n",
        "show_recommendations_button = widgets.Button(description='Show Recommendations')\n",
        "\n",
        "\n",
        "# Create an output widget to display recommendations\n",
        "output_recommendations = widgets.Output()\n",
        "output_names = widgets.Output()\n",
        "\n",
        "# Placeholder function for getting recommendations\n",
        "def partial_name_matching(partial_name, all_titles, limit=None):\n",
        "    # Placeholder logic - find unique titles containing the partial name\n",
        "    matching_titles = set(title for title in all_titles if partial_name.lower() in title.lower())\n",
        "\n",
        "    # Convert the set back to a list\n",
        "    matching_titles = list(matching_titles)\n",
        "\n",
        "    # Limit the number of results if a limit is specified\n",
        "    if limit:\n",
        "        matching_titles = matching_titles[:limit]\n",
        "\n",
        "    return matching_titles\n",
        "\n",
        "# Create an output widget to display recommendations\n",
        "output_recommendations = widgets.Output()\n",
        "\n",
        "def on_partial_name_change(change):\n",
        "    partial_name = change.new\n",
        "    if partial_name:\n",
        "        # Call your partial_name_matching function\n",
        "        matching_titles = partial_name_matching(partial_name, merged_df['Title'], limit=5)\n",
        "\n",
        "        # Update the output widget\n",
        "        with output_names:\n",
        "            output_names.clear_output(wait=True)\n",
        "            print(\"\\n\".join(matching_titles))\n",
        "\n",
        "# Attach the on_partial_name_change function to observe changes in the text input\n",
        "partial_name_input.observe(on_partial_name_change, names='value')\n",
        "\n",
        "# Create a callback for the second text input\n",
        "def on_recommended_name_change(change):\n",
        "    recommended_name = change.new\n",
        "\n",
        "def on_show_recommendations_button_click(_):\n",
        "    global last_recommended_name,start_index\n",
        "    recommended_name = recommended_name_input.value\n",
        "    if recommended_name :\n",
        "        if recommended_name != last_recommended_name:\n",
        "            start_index=0\n",
        "            # Call your function to get recommendations based on the recommended book name\n",
        "        recommendations_based_on_recommended_name =get_collaborative_recommendations(model,recommended_name,num_recommendations=1000)\n",
        "\n",
        "        recommendations_based_on_recommended_name=get_content_based_recommendations(cbf_model,recommendations_based_on_recommended_name)\n",
        "\n",
        "        last_recommended_name = recommended_name\n",
        "        # Exclude the recommended book from the list\n",
        "        recommendations_without_recommended_book = [title for title in recommendations_based_on_recommended_name if title != recommended_name][start_index:start_index+items_per_page]\n",
        "\n",
        "            # Update the output widget\n",
        "        with output_recommendations:\n",
        "            output_recommendations.clear_output(wait=True)\n",
        "            print(\"\\n\".join(recommendations_without_recommended_book))\n",
        "\n",
        "\n",
        "\n",
        "# Create a callback for the previous button\n",
        "def on_prev_button_click(_):\n",
        "    global start_index\n",
        "    start_index = max(0, start_index - items_per_page)\n",
        "    on_show_recommendations_button_click(None)  # Refresh recommendations based on the current partial name\n",
        "\n",
        "# Create a callback for the next button\n",
        "def on_next_button_click(_):\n",
        "    global start_index\n",
        "    start_index += items_per_page\n",
        "    on_show_recommendations_button_click(None)  # Refresh recommendations based on the current partial name\n",
        "\n",
        "# Attach callbacks to buttons\n",
        "show_recommendations_button.on_click(on_show_recommendations_button_click)\n",
        "prev_button.on_click(on_prev_button_click)\n",
        "next_button.on_click(on_next_button_click)\n",
        "# Attach the on_recommended_name_change function to observe changes in the second text input\n",
        "recommended_name_input.observe(on_recommended_name_change, names='value')\n",
        "\n",
        "# Display the widgets\n",
        "display(partial_name_input)\n",
        "display(output_names)\n",
        "display(recommended_name_input)\n",
        "display(output_recommendations)\n",
        "\n",
        "display(prev_button)\n",
        "display(next_button)\n",
        "display(show_recommendations_button)"
      ]
    },
    {
      "cell_type": "markdown",
      "id": "450ab159",
      "metadata": {
        "id": "450ab159",
        "papermill": {
          "duration": 0.027106,
          "end_time": "2024-03-08T01:46:00.842809",
          "exception": false,
          "start_time": "2024-03-08T01:46:00.815703",
          "status": "completed"
        },
        "tags": []
      },
      "source": [
        "**there are too many categories, i dont think i will be able to filter them in a proper way**"
      ]
    },
    {
      "cell_type": "code",
      "execution_count": null,
      "id": "7c895015",
      "metadata": {
        "colab": {
          "base_uri": "https://localhost:8080/"
        },
        "execution": {
          "iopub.execute_input": "2024-03-08T01:46:00.899326Z",
          "iopub.status.busy": "2024-03-08T01:46:00.898540Z",
          "iopub.status.idle": "2024-03-08T01:46:01.110867Z",
          "shell.execute_reply": "2024-03-08T01:46:01.109925Z"
        },
        "id": "7c895015",
        "outputId": "c77e6395-226a-40d4-d346-dfdd85f2f1c3",
        "papermill": {
          "duration": 0.242872,
          "end_time": "2024-03-08T01:46:01.113041",
          "exception": false,
          "start_time": "2024-03-08T01:46:00.870169",
          "status": "completed"
        },
        "tags": []
      },
      "outputs": [],
      "source": [
        "len(merged_df['categories'].unique())"
      ]
    },
    {
      "cell_type": "code",
      "execution_count": null,
      "id": "473b50c0",
      "metadata": {
        "colab": {
          "base_uri": "https://localhost:8080/",
          "height": 118,
          "referenced_widgets": [
            "fe6e93619e814600947f30075379e707",
            "18ef241d0849433f85fb72ea6a551c0b",
            "7cdb62451fac4a9188a20b4368f74484",
            "d689da3c73a24cbfb9e689210abb7239",
            "85d23dee08a54bcb8f46dac25da75ed0"
          ]
        },
        "execution": {
          "iopub.execute_input": "2024-03-08T01:46:01.172398Z",
          "iopub.status.busy": "2024-03-08T01:46:01.172105Z",
          "iopub.status.idle": "2024-03-08T01:46:01.186634Z",
          "shell.execute_reply": "2024-03-08T01:46:01.185780Z"
        },
        "id": "473b50c0",
        "outputId": "5be62a0d-fbf4-4f4b-df84-b43d69b7013c",
        "papermill": {
          "duration": 0.048254,
          "end_time": "2024-03-08T01:46:01.189840",
          "exception": false,
          "start_time": "2024-03-08T01:46:01.141586",
          "status": "completed"
        },
        "tags": []
      },
      "outputs": [],
      "source": [
        "import ipywidgets as widgets\n",
        "from IPython.display import display\n",
        "\n",
        "# Create a text input widget for partial category name\n",
        "partial_category_input = widgets.Text(placeholder='Enter partial category name')\n",
        "\n",
        "# Create an output widget to display filtered recommendations\n",
        "output_filtered_recommendations = widgets.Output()\n",
        "\n",
        "def on_partial_category_change(change):\n",
        "    partial_category = change.new\n",
        "\n",
        "    if partial_category:\n",
        "        # Filter recommendations based on the partial category name\n",
        "        filtered_recommendations = [title for title in merged_df['categories'].unique() if partial_category.lower() in title.lower()][:10]\n",
        "\n",
        "        # Update the output widget\n",
        "        with output_filtered_recommendations:\n",
        "            output_filtered_recommendations.clear_output(wait=True)\n",
        "            print(\"\\n\".join(filtered_recommendations))\n",
        "\n",
        "# Attach the on_partial_category_change function to observe changes in the text input\n",
        "partial_category_input.observe(on_partial_category_change, names='value')\n",
        "\n",
        "# Display the widgets\n",
        "display(partial_category_input)\n",
        "display(output_filtered_recommendations)\n"
      ]
    },
    {
      "cell_type": "code",
      "execution_count": null,
      "id": "2d80381d",
      "metadata": {
        "id": "2d80381d",
        "papermill": {
          "duration": 0.027701,
          "end_time": "2024-03-08T01:46:01.302291",
          "exception": false,
          "start_time": "2024-03-08T01:46:01.274590",
          "status": "completed"
        },
        "tags": []
      },
      "outputs": [],
      "source": []
    }
  ],
  "metadata": {
    "colab": {
      "collapsed_sections": [
        "0oCmlqk-hEDB"
      ],
      "provenance": []
    },
    "kaggle": {
      "accelerator": "gpu",
      "dataSources": [
        {
          "datasetId": 2476732,
          "sourceId": 4200454,
          "sourceType": "datasetVersion"
        },
        {
          "datasetId": 4296815,
          "sourceId": 7391354,
          "sourceType": "datasetVersion"
        },
        {
          "datasetId": 4304376,
          "sourceId": 7402225,
          "sourceType": "datasetVersion"
        },
        {
          "datasetId": 4338523,
          "sourceId": 7453808,
          "sourceType": "datasetVersion"
        },
        {
          "datasetId": 4350935,
          "sourceId": 7473574,
          "sourceType": "datasetVersion"
        },
        {
          "datasetId": 4361279,
          "sourceId": 7490778,
          "sourceType": "datasetVersion"
        }
      ],
      "isGpuEnabled": true,
      "isInternetEnabled": true,
      "language": "python",
      "sourceType": "notebook"
    },
    "kernelspec": {
      "display_name": "Python 3",
      "name": "python3"
    },
    "language_info": {
      "codemirror_mode": {
        "name": "ipython",
        "version": 3
      },
      "file_extension": ".py",
      "mimetype": "text/x-python",
      "name": "python",
      "nbconvert_exporter": "python",
      "pygments_lexer": "ipython3",
      "version": "3.12.4"
    },
    "papermill": {
      "default_parameters": {},
      "duration": 4549.888434,
      "end_time": "2024-03-08T01:46:04.361289",
      "environment_variables": {},
      "exception": null,
      "input_path": "__notebook__.ipynb",
      "output_path": "__notebook__.ipynb",
      "parameters": {},
      "start_time": "2024-03-08T00:30:14.472855",
      "version": "2.5.0"
    },
    "widgets": {
      "application/vnd.jupyter.widget-state+json": {
        "013eb5939d484e5c96b8d7315620c28b": {
          "model_module": "@jupyter-widgets/base",
          "model_module_version": "1.2.0",
          "model_name": "LayoutModel",
          "state": {
            "_model_module": "@jupyter-widgets/base",
            "_model_module_version": "1.2.0",
            "_model_name": "LayoutModel",
            "_view_count": null,
            "_view_module": "@jupyter-widgets/base",
            "_view_module_version": "1.2.0",
            "_view_name": "LayoutView",
            "align_content": null,
            "align_items": null,
            "align_self": null,
            "border": null,
            "bottom": null,
            "display": null,
            "flex": null,
            "flex_flow": null,
            "grid_area": null,
            "grid_auto_columns": null,
            "grid_auto_flow": null,
            "grid_auto_rows": null,
            "grid_column": null,
            "grid_gap": null,
            "grid_row": null,
            "grid_template_areas": null,
            "grid_template_columns": null,
            "grid_template_rows": null,
            "height": null,
            "justify_content": null,
            "justify_items": null,
            "left": null,
            "margin": null,
            "max_height": null,
            "max_width": null,
            "min_height": null,
            "min_width": null,
            "object_fit": null,
            "object_position": null,
            "order": null,
            "overflow": null,
            "overflow_x": null,
            "overflow_y": null,
            "padding": null,
            "right": null,
            "top": null,
            "visibility": null,
            "width": null
          }
        },
        "05dc1aa6d0884cffa3b10d34c5036b5d": {
          "model_module": "@jupyter-widgets/controls",
          "model_module_version": "1.5.0",
          "model_name": "HBoxModel",
          "state": {
            "_dom_classes": [],
            "_model_module": "@jupyter-widgets/controls",
            "_model_module_version": "1.5.0",
            "_model_name": "HBoxModel",
            "_view_count": null,
            "_view_module": "@jupyter-widgets/controls",
            "_view_module_version": "1.5.0",
            "_view_name": "HBoxView",
            "box_style": "",
            "children": [
              "IPY_MODEL_4eb7d188690343b69a9a8b67dc3374a6",
              "IPY_MODEL_3beaecd079a9453f88cc4a29c7c74c18",
              "IPY_MODEL_bf9172d0bce944c7b208c00d870922a3"
            ],
            "layout": "IPY_MODEL_f3bb463bd98e47d894bc4f274acd94c2"
          }
        },
        "09dd512d34bc475489727da54abb16f1": {
          "model_module": "@jupyter-widgets/controls",
          "model_module_version": "1.5.0",
          "model_name": "ProgressStyleModel",
          "state": {
            "_model_module": "@jupyter-widgets/controls",
            "_model_module_version": "1.5.0",
            "_model_name": "ProgressStyleModel",
            "_view_count": null,
            "_view_module": "@jupyter-widgets/base",
            "_view_module_version": "1.2.0",
            "_view_name": "StyleView",
            "bar_color": null,
            "description_width": ""
          }
        },
        "0af2944ac0664ea0985367aa6c896156": {
          "model_module": "@jupyter-widgets/base",
          "model_module_version": "1.2.0",
          "model_name": "LayoutModel",
          "state": {
            "_model_module": "@jupyter-widgets/base",
            "_model_module_version": "1.2.0",
            "_model_name": "LayoutModel",
            "_view_count": null,
            "_view_module": "@jupyter-widgets/base",
            "_view_module_version": "1.2.0",
            "_view_name": "LayoutView",
            "align_content": null,
            "align_items": null,
            "align_self": null,
            "border": null,
            "bottom": null,
            "display": null,
            "flex": null,
            "flex_flow": null,
            "grid_area": null,
            "grid_auto_columns": null,
            "grid_auto_flow": null,
            "grid_auto_rows": null,
            "grid_column": null,
            "grid_gap": null,
            "grid_row": null,
            "grid_template_areas": null,
            "grid_template_columns": null,
            "grid_template_rows": null,
            "height": null,
            "justify_content": null,
            "justify_items": null,
            "left": null,
            "margin": null,
            "max_height": null,
            "max_width": null,
            "min_height": null,
            "min_width": null,
            "object_fit": null,
            "object_position": null,
            "order": null,
            "overflow": null,
            "overflow_x": null,
            "overflow_y": null,
            "padding": null,
            "right": null,
            "top": null,
            "visibility": null,
            "width": null
          }
        },
        "0bf0fdd376fe4023ae1452c6736d4891": {
          "model_module": "@jupyter-widgets/controls",
          "model_module_version": "1.5.0",
          "model_name": "ProgressStyleModel",
          "state": {
            "_model_module": "@jupyter-widgets/controls",
            "_model_module_version": "1.5.0",
            "_model_name": "ProgressStyleModel",
            "_view_count": null,
            "_view_module": "@jupyter-widgets/base",
            "_view_module_version": "1.2.0",
            "_view_name": "StyleView",
            "bar_color": null,
            "description_width": ""
          }
        },
        "0cde6f019b1e4f2eac78df304c46aec8": {
          "model_module": "@jupyter-widgets/base",
          "model_module_version": "1.2.0",
          "model_name": "LayoutModel",
          "state": {
            "_model_module": "@jupyter-widgets/base",
            "_model_module_version": "1.2.0",
            "_model_name": "LayoutModel",
            "_view_count": null,
            "_view_module": "@jupyter-widgets/base",
            "_view_module_version": "1.2.0",
            "_view_name": "LayoutView",
            "align_content": null,
            "align_items": null,
            "align_self": null,
            "border": null,
            "bottom": null,
            "display": null,
            "flex": null,
            "flex_flow": null,
            "grid_area": null,
            "grid_auto_columns": null,
            "grid_auto_flow": null,
            "grid_auto_rows": null,
            "grid_column": null,
            "grid_gap": null,
            "grid_row": null,
            "grid_template_areas": null,
            "grid_template_columns": null,
            "grid_template_rows": null,
            "height": null,
            "justify_content": null,
            "justify_items": null,
            "left": null,
            "margin": null,
            "max_height": null,
            "max_width": null,
            "min_height": null,
            "min_width": null,
            "object_fit": null,
            "object_position": null,
            "order": null,
            "overflow": null,
            "overflow_x": null,
            "overflow_y": null,
            "padding": null,
            "right": null,
            "top": null,
            "visibility": null,
            "width": null
          }
        },
        "0e62da4a462246a9921fbead637cabd3": {
          "model_module": "@jupyter-widgets/base",
          "model_module_version": "1.2.0",
          "model_name": "LayoutModel",
          "state": {
            "_model_module": "@jupyter-widgets/base",
            "_model_module_version": "1.2.0",
            "_model_name": "LayoutModel",
            "_view_count": null,
            "_view_module": "@jupyter-widgets/base",
            "_view_module_version": "1.2.0",
            "_view_name": "LayoutView",
            "align_content": null,
            "align_items": null,
            "align_self": null,
            "border": null,
            "bottom": null,
            "display": null,
            "flex": null,
            "flex_flow": null,
            "grid_area": null,
            "grid_auto_columns": null,
            "grid_auto_flow": null,
            "grid_auto_rows": null,
            "grid_column": null,
            "grid_gap": null,
            "grid_row": null,
            "grid_template_areas": null,
            "grid_template_columns": null,
            "grid_template_rows": null,
            "height": null,
            "justify_content": null,
            "justify_items": null,
            "left": null,
            "margin": null,
            "max_height": null,
            "max_width": null,
            "min_height": null,
            "min_width": null,
            "object_fit": null,
            "object_position": null,
            "order": null,
            "overflow": null,
            "overflow_x": null,
            "overflow_y": null,
            "padding": null,
            "right": null,
            "top": null,
            "visibility": null,
            "width": null
          }
        },
        "0f43d4e26e23448c82a90fb33b5be7e5": {
          "model_module": "@jupyter-widgets/base",
          "model_module_version": "1.2.0",
          "model_name": "LayoutModel",
          "state": {
            "_model_module": "@jupyter-widgets/base",
            "_model_module_version": "1.2.0",
            "_model_name": "LayoutModel",
            "_view_count": null,
            "_view_module": "@jupyter-widgets/base",
            "_view_module_version": "1.2.0",
            "_view_name": "LayoutView",
            "align_content": null,
            "align_items": null,
            "align_self": null,
            "border": null,
            "bottom": null,
            "display": null,
            "flex": null,
            "flex_flow": null,
            "grid_area": null,
            "grid_auto_columns": null,
            "grid_auto_flow": null,
            "grid_auto_rows": null,
            "grid_column": null,
            "grid_gap": null,
            "grid_row": null,
            "grid_template_areas": null,
            "grid_template_columns": null,
            "grid_template_rows": null,
            "height": null,
            "justify_content": null,
            "justify_items": null,
            "left": null,
            "margin": null,
            "max_height": null,
            "max_width": null,
            "min_height": null,
            "min_width": null,
            "object_fit": null,
            "object_position": null,
            "order": null,
            "overflow": null,
            "overflow_x": null,
            "overflow_y": null,
            "padding": null,
            "right": null,
            "top": null,
            "visibility": null,
            "width": null
          }
        },
        "16f6fbebc4944ed1b5e2b8003442e22f": {
          "model_module": "@jupyter-widgets/controls",
          "model_module_version": "1.5.0",
          "model_name": "ProgressStyleModel",
          "state": {
            "_model_module": "@jupyter-widgets/controls",
            "_model_module_version": "1.5.0",
            "_model_name": "ProgressStyleModel",
            "_view_count": null,
            "_view_module": "@jupyter-widgets/base",
            "_view_module_version": "1.2.0",
            "_view_name": "StyleView",
            "bar_color": null,
            "description_width": ""
          }
        },
        "18ef241d0849433f85fb72ea6a551c0b": {
          "model_module": "@jupyter-widgets/base",
          "model_module_version": "1.2.0",
          "model_name": "LayoutModel",
          "state": {
            "_model_module": "@jupyter-widgets/base",
            "_model_module_version": "1.2.0",
            "_model_name": "LayoutModel",
            "_view_count": null,
            "_view_module": "@jupyter-widgets/base",
            "_view_module_version": "1.2.0",
            "_view_name": "LayoutView",
            "align_content": null,
            "align_items": null,
            "align_self": null,
            "border": null,
            "bottom": null,
            "display": null,
            "flex": null,
            "flex_flow": null,
            "grid_area": null,
            "grid_auto_columns": null,
            "grid_auto_flow": null,
            "grid_auto_rows": null,
            "grid_column": null,
            "grid_gap": null,
            "grid_row": null,
            "grid_template_areas": null,
            "grid_template_columns": null,
            "grid_template_rows": null,
            "height": null,
            "justify_content": null,
            "justify_items": null,
            "left": null,
            "margin": null,
            "max_height": null,
            "max_width": null,
            "min_height": null,
            "min_width": null,
            "object_fit": null,
            "object_position": null,
            "order": null,
            "overflow": null,
            "overflow_x": null,
            "overflow_y": null,
            "padding": null,
            "right": null,
            "top": null,
            "visibility": null,
            "width": null
          }
        },
        "19199f34dd134333bb6c8a39fc31f064": {
          "model_module": "@jupyter-widgets/controls",
          "model_module_version": "1.5.0",
          "model_name": "HBoxModel",
          "state": {
            "_dom_classes": [],
            "_model_module": "@jupyter-widgets/controls",
            "_model_module_version": "1.5.0",
            "_model_name": "HBoxModel",
            "_view_count": null,
            "_view_module": "@jupyter-widgets/controls",
            "_view_module_version": "1.5.0",
            "_view_name": "HBoxView",
            "box_style": "",
            "children": [
              "IPY_MODEL_a40f252a3700481bac51b3ead41e6885",
              "IPY_MODEL_242e58a7996848258124c742fbc40dc0",
              "IPY_MODEL_e7ad4b3d9fe44b528bb98f7c33e65a51"
            ],
            "layout": "IPY_MODEL_4496b51953664e0fbedbe2a7242278e1"
          }
        },
        "1f193fddd16544a8ba4484ba0d84a911": {
          "model_module": "@jupyter-widgets/controls",
          "model_module_version": "1.5.0",
          "model_name": "DescriptionStyleModel",
          "state": {
            "_model_module": "@jupyter-widgets/controls",
            "_model_module_version": "1.5.0",
            "_model_name": "DescriptionStyleModel",
            "_view_count": null,
            "_view_module": "@jupyter-widgets/base",
            "_view_module_version": "1.2.0",
            "_view_name": "StyleView",
            "description_width": ""
          }
        },
        "20661722f55540e09f60d157af1ba676": {
          "model_module": "@jupyter-widgets/controls",
          "model_module_version": "1.5.0",
          "model_name": "TextModel",
          "state": {
            "_dom_classes": [],
            "_model_module": "@jupyter-widgets/controls",
            "_model_module_version": "1.5.0",
            "_model_name": "TextModel",
            "_view_count": null,
            "_view_module": "@jupyter-widgets/controls",
            "_view_module_version": "1.5.0",
            "_view_name": "TextView",
            "continuous_update": true,
            "description": "",
            "description_tooltip": null,
            "disabled": false,
            "layout": "IPY_MODEL_83514d4653764d22ade33ffc990c9ba8",
            "placeholder": "Use recommended book name",
            "style": "IPY_MODEL_dc0068a6e27a4100989da88d7edea63f",
            "value": ""
          }
        },
        "242e58a7996848258124c742fbc40dc0": {
          "model_module": "@jupyter-widgets/controls",
          "model_module_version": "1.5.0",
          "model_name": "FloatProgressModel",
          "state": {
            "_dom_classes": [],
            "_model_module": "@jupyter-widgets/controls",
            "_model_module_version": "1.5.0",
            "_model_name": "FloatProgressModel",
            "_view_count": null,
            "_view_module": "@jupyter-widgets/controls",
            "_view_module_version": "1.5.0",
            "_view_name": "ProgressView",
            "bar_style": "success",
            "description": "",
            "description_tooltip": null,
            "layout": "IPY_MODEL_ca8b5baaa9c447e2936ed5844d5b5486",
            "max": 1,
            "min": 0,
            "orientation": "horizontal",
            "style": "IPY_MODEL_16f6fbebc4944ed1b5e2b8003442e22f",
            "value": 1
          }
        },
        "2cab9b0c6e3343f18643934773bdf189": {
          "model_module": "@jupyter-widgets/base",
          "model_module_version": "1.2.0",
          "model_name": "LayoutModel",
          "state": {
            "_model_module": "@jupyter-widgets/base",
            "_model_module_version": "1.2.0",
            "_model_name": "LayoutModel",
            "_view_count": null,
            "_view_module": "@jupyter-widgets/base",
            "_view_module_version": "1.2.0",
            "_view_name": "LayoutView",
            "align_content": null,
            "align_items": null,
            "align_self": null,
            "border": null,
            "bottom": null,
            "display": null,
            "flex": null,
            "flex_flow": null,
            "grid_area": null,
            "grid_auto_columns": null,
            "grid_auto_flow": null,
            "grid_auto_rows": null,
            "grid_column": null,
            "grid_gap": null,
            "grid_row": null,
            "grid_template_areas": null,
            "grid_template_columns": null,
            "grid_template_rows": null,
            "height": null,
            "justify_content": null,
            "justify_items": null,
            "left": null,
            "margin": null,
            "max_height": null,
            "max_width": null,
            "min_height": null,
            "min_width": null,
            "object_fit": null,
            "object_position": null,
            "order": null,
            "overflow": null,
            "overflow_x": null,
            "overflow_y": null,
            "padding": null,
            "right": null,
            "top": null,
            "visibility": null,
            "width": null
          }
        },
        "2e5b7b585df341bba880eda282392956": {
          "model_module": "@jupyter-widgets/controls",
          "model_module_version": "1.5.0",
          "model_name": "ButtonStyleModel",
          "state": {
            "_model_module": "@jupyter-widgets/controls",
            "_model_module_version": "1.5.0",
            "_model_name": "ButtonStyleModel",
            "_view_count": null,
            "_view_module": "@jupyter-widgets/base",
            "_view_module_version": "1.2.0",
            "_view_name": "StyleView",
            "button_color": null,
            "font_weight": ""
          }
        },
        "32e5770a0214437ea5cc274a7ef597dd": {
          "model_module": "@jupyter-widgets/base",
          "model_module_version": "1.2.0",
          "model_name": "LayoutModel",
          "state": {
            "_model_module": "@jupyter-widgets/base",
            "_model_module_version": "1.2.0",
            "_model_name": "LayoutModel",
            "_view_count": null,
            "_view_module": "@jupyter-widgets/base",
            "_view_module_version": "1.2.0",
            "_view_name": "LayoutView",
            "align_content": null,
            "align_items": null,
            "align_self": null,
            "border": null,
            "bottom": null,
            "display": null,
            "flex": null,
            "flex_flow": null,
            "grid_area": null,
            "grid_auto_columns": null,
            "grid_auto_flow": null,
            "grid_auto_rows": null,
            "grid_column": null,
            "grid_gap": null,
            "grid_row": null,
            "grid_template_areas": null,
            "grid_template_columns": null,
            "grid_template_rows": null,
            "height": null,
            "justify_content": null,
            "justify_items": null,
            "left": null,
            "margin": null,
            "max_height": null,
            "max_width": null,
            "min_height": null,
            "min_width": null,
            "object_fit": null,
            "object_position": null,
            "order": null,
            "overflow": null,
            "overflow_x": null,
            "overflow_y": null,
            "padding": null,
            "right": null,
            "top": null,
            "visibility": null,
            "width": null
          }
        },
        "3690b9aef572497a9028d64a4eae0517": {
          "model_module": "@jupyter-widgets/controls",
          "model_module_version": "1.5.0",
          "model_name": "HBoxModel",
          "state": {
            "_dom_classes": [],
            "_model_module": "@jupyter-widgets/controls",
            "_model_module_version": "1.5.0",
            "_model_name": "HBoxModel",
            "_view_count": null,
            "_view_module": "@jupyter-widgets/controls",
            "_view_module_version": "1.5.0",
            "_view_name": "HBoxView",
            "box_style": "",
            "children": [
              "IPY_MODEL_5908afda86ce474292cfa175b87cd24a",
              "IPY_MODEL_b487907c3c894ae5b03a81eac9f88bad",
              "IPY_MODEL_e18944d4019441f7acba99b921b68bce"
            ],
            "layout": "IPY_MODEL_fd74de1df2c549f7beaf5d2efc4589c1"
          }
        },
        "3beaecd079a9453f88cc4a29c7c74c18": {
          "model_module": "@jupyter-widgets/controls",
          "model_module_version": "1.5.0",
          "model_name": "FloatProgressModel",
          "state": {
            "_dom_classes": [],
            "_model_module": "@jupyter-widgets/controls",
            "_model_module_version": "1.5.0",
            "_model_name": "FloatProgressModel",
            "_view_count": null,
            "_view_module": "@jupyter-widgets/controls",
            "_view_module_version": "1.5.0",
            "_view_name": "ProgressView",
            "bar_style": "danger",
            "description": "",
            "description_tooltip": null,
            "layout": "IPY_MODEL_e59023ce437146d4b9afb63d25a2c088",
            "max": 1,
            "min": 0,
            "orientation": "horizontal",
            "style": "IPY_MODEL_0bf0fdd376fe4023ae1452c6736d4891",
            "value": 0
          }
        },
        "3ed683eaf35b4e3398ed529ca9252fe1": {
          "model_module": "@jupyter-widgets/controls",
          "model_module_version": "1.5.0",
          "model_name": "HBoxModel",
          "state": {
            "_dom_classes": [],
            "_model_module": "@jupyter-widgets/controls",
            "_model_module_version": "1.5.0",
            "_model_name": "HBoxModel",
            "_view_count": null,
            "_view_module": "@jupyter-widgets/controls",
            "_view_module_version": "1.5.0",
            "_view_name": "HBoxView",
            "box_style": "",
            "children": [
              "IPY_MODEL_5b78bacd19284db59e6c40f5a5057104",
              "IPY_MODEL_45b62267e6564ce48eee647418219edd",
              "IPY_MODEL_8c4df880f1fc43058be1c933c5bbcc67"
            ],
            "layout": "IPY_MODEL_8cd698106ec1482d820d608b0fb36ec4"
          }
        },
        "427dce56fb1e4f6a9f1feefc50191ecc": {
          "model_module": "@jupyter-widgets/base",
          "model_module_version": "1.2.0",
          "model_name": "LayoutModel",
          "state": {
            "_model_module": "@jupyter-widgets/base",
            "_model_module_version": "1.2.0",
            "_model_name": "LayoutModel",
            "_view_count": null,
            "_view_module": "@jupyter-widgets/base",
            "_view_module_version": "1.2.0",
            "_view_name": "LayoutView",
            "align_content": null,
            "align_items": null,
            "align_self": null,
            "border": null,
            "bottom": null,
            "display": null,
            "flex": null,
            "flex_flow": null,
            "grid_area": null,
            "grid_auto_columns": null,
            "grid_auto_flow": null,
            "grid_auto_rows": null,
            "grid_column": null,
            "grid_gap": null,
            "grid_row": null,
            "grid_template_areas": null,
            "grid_template_columns": null,
            "grid_template_rows": null,
            "height": null,
            "justify_content": null,
            "justify_items": null,
            "left": null,
            "margin": null,
            "max_height": null,
            "max_width": null,
            "min_height": null,
            "min_width": null,
            "object_fit": null,
            "object_position": null,
            "order": null,
            "overflow": null,
            "overflow_x": null,
            "overflow_y": null,
            "padding": null,
            "right": null,
            "top": null,
            "visibility": null,
            "width": null
          }
        },
        "4496b51953664e0fbedbe2a7242278e1": {
          "model_module": "@jupyter-widgets/base",
          "model_module_version": "1.2.0",
          "model_name": "LayoutModel",
          "state": {
            "_model_module": "@jupyter-widgets/base",
            "_model_module_version": "1.2.0",
            "_model_name": "LayoutModel",
            "_view_count": null,
            "_view_module": "@jupyter-widgets/base",
            "_view_module_version": "1.2.0",
            "_view_name": "LayoutView",
            "align_content": null,
            "align_items": null,
            "align_self": null,
            "border": null,
            "bottom": null,
            "display": null,
            "flex": null,
            "flex_flow": null,
            "grid_area": null,
            "grid_auto_columns": null,
            "grid_auto_flow": null,
            "grid_auto_rows": null,
            "grid_column": null,
            "grid_gap": null,
            "grid_row": null,
            "grid_template_areas": null,
            "grid_template_columns": null,
            "grid_template_rows": null,
            "height": null,
            "justify_content": null,
            "justify_items": null,
            "left": null,
            "margin": null,
            "max_height": null,
            "max_width": null,
            "min_height": null,
            "min_width": null,
            "object_fit": null,
            "object_position": null,
            "order": null,
            "overflow": null,
            "overflow_x": null,
            "overflow_y": null,
            "padding": null,
            "right": null,
            "top": null,
            "visibility": null,
            "width": null
          }
        },
        "45b62267e6564ce48eee647418219edd": {
          "model_module": "@jupyter-widgets/controls",
          "model_module_version": "1.5.0",
          "model_name": "FloatProgressModel",
          "state": {
            "_dom_classes": [],
            "_model_module": "@jupyter-widgets/controls",
            "_model_module_version": "1.5.0",
            "_model_name": "FloatProgressModel",
            "_view_count": null,
            "_view_module": "@jupyter-widgets/controls",
            "_view_module_version": "1.5.0",
            "_view_name": "ProgressView",
            "bar_style": "success",
            "description": "",
            "description_tooltip": null,
            "layout": "IPY_MODEL_32e5770a0214437ea5cc274a7ef597dd",
            "max": 42,
            "min": 0,
            "orientation": "horizontal",
            "style": "IPY_MODEL_5dec3787cd3d4d60847804390ad8dd80",
            "value": 42
          }
        },
        "4731aaf7f77949bab20aac5f78f7b6e1": {
          "model_module": "@jupyter-widgets/controls",
          "model_module_version": "1.5.0",
          "model_name": "FloatProgressModel",
          "state": {
            "_dom_classes": [],
            "_model_module": "@jupyter-widgets/controls",
            "_model_module_version": "1.5.0",
            "_model_name": "FloatProgressModel",
            "_view_count": null,
            "_view_module": "@jupyter-widgets/controls",
            "_view_module_version": "1.5.0",
            "_view_name": "ProgressView",
            "bar_style": "success",
            "description": "",
            "description_tooltip": null,
            "layout": "IPY_MODEL_77e4756d99dc4c31870f9ff4635015b8",
            "max": 6467,
            "min": 0,
            "orientation": "horizontal",
            "style": "IPY_MODEL_66c80d0328624c71adfd2e7eed12d4a9",
            "value": 6467
          }
        },
        "4b977197ac094bc8b849760eef94b3b0": {
          "model_module": "@jupyter-widgets/controls",
          "model_module_version": "1.5.0",
          "model_name": "DescriptionStyleModel",
          "state": {
            "_model_module": "@jupyter-widgets/controls",
            "_model_module_version": "1.5.0",
            "_model_name": "DescriptionStyleModel",
            "_view_count": null,
            "_view_module": "@jupyter-widgets/base",
            "_view_module_version": "1.2.0",
            "_view_name": "StyleView",
            "description_width": ""
          }
        },
        "4d3eb6e4b33b432fae0ab3b17adfd92c": {
          "model_module": "@jupyter-widgets/base",
          "model_module_version": "1.2.0",
          "model_name": "LayoutModel",
          "state": {
            "_model_module": "@jupyter-widgets/base",
            "_model_module_version": "1.2.0",
            "_model_name": "LayoutModel",
            "_view_count": null,
            "_view_module": "@jupyter-widgets/base",
            "_view_module_version": "1.2.0",
            "_view_name": "LayoutView",
            "align_content": null,
            "align_items": null,
            "align_self": null,
            "border": null,
            "bottom": null,
            "display": null,
            "flex": null,
            "flex_flow": null,
            "grid_area": null,
            "grid_auto_columns": null,
            "grid_auto_flow": null,
            "grid_auto_rows": null,
            "grid_column": null,
            "grid_gap": null,
            "grid_row": null,
            "grid_template_areas": null,
            "grid_template_columns": null,
            "grid_template_rows": null,
            "height": null,
            "justify_content": null,
            "justify_items": null,
            "left": null,
            "margin": null,
            "max_height": null,
            "max_width": null,
            "min_height": null,
            "min_width": null,
            "object_fit": null,
            "object_position": null,
            "order": null,
            "overflow": null,
            "overflow_x": null,
            "overflow_y": null,
            "padding": null,
            "right": null,
            "top": null,
            "visibility": null,
            "width": null
          }
        },
        "4eb7d188690343b69a9a8b67dc3374a6": {
          "model_module": "@jupyter-widgets/controls",
          "model_module_version": "1.5.0",
          "model_name": "HTMLModel",
          "state": {
            "_dom_classes": [],
            "_model_module": "@jupyter-widgets/controls",
            "_model_module_version": "1.5.0",
            "_model_name": "HTMLModel",
            "_view_count": null,
            "_view_module": "@jupyter-widgets/controls",
            "_view_module_version": "1.5.0",
            "_view_name": "HTMLView",
            "description": "",
            "description_tooltip": null,
            "layout": "IPY_MODEL_2cab9b0c6e3343f18643934773bdf189",
            "placeholder": "​",
            "style": "IPY_MODEL_4b977197ac094bc8b849760eef94b3b0",
            "value": "Training Collaborative Model:   0%"
          }
        },
        "4f4773c712b94760897aa7bf5661f582": {
          "model_module": "@jupyter-widgets/controls",
          "model_module_version": "1.5.0",
          "model_name": "ButtonModel",
          "state": {
            "_dom_classes": [],
            "_model_module": "@jupyter-widgets/controls",
            "_model_module_version": "1.5.0",
            "_model_name": "ButtonModel",
            "_view_count": null,
            "_view_module": "@jupyter-widgets/controls",
            "_view_module_version": "1.5.0",
            "_view_name": "ButtonView",
            "button_style": "",
            "description": "Show Recommendations",
            "disabled": false,
            "icon": "",
            "layout": "IPY_MODEL_62326ae128a44a5796ab652fd18b28d5",
            "style": "IPY_MODEL_9d338e297d0e4153978ec07f8353af71",
            "tooltip": ""
          }
        },
        "53e26f24fc264dcaab1cbbd801245b4c": {
          "model_module": "@jupyter-widgets/controls",
          "model_module_version": "1.5.0",
          "model_name": "DescriptionStyleModel",
          "state": {
            "_model_module": "@jupyter-widgets/controls",
            "_model_module_version": "1.5.0",
            "_model_name": "DescriptionStyleModel",
            "_view_count": null,
            "_view_module": "@jupyter-widgets/base",
            "_view_module_version": "1.2.0",
            "_view_name": "StyleView",
            "description_width": ""
          }
        },
        "56096b5e1d764749a2bc0ab2aa10ed72": {
          "model_module": "@jupyter-widgets/controls",
          "model_module_version": "1.5.0",
          "model_name": "DescriptionStyleModel",
          "state": {
            "_model_module": "@jupyter-widgets/controls",
            "_model_module_version": "1.5.0",
            "_model_name": "DescriptionStyleModel",
            "_view_count": null,
            "_view_module": "@jupyter-widgets/base",
            "_view_module_version": "1.2.0",
            "_view_name": "StyleView",
            "description_width": ""
          }
        },
        "5908afda86ce474292cfa175b87cd24a": {
          "model_module": "@jupyter-widgets/controls",
          "model_module_version": "1.5.0",
          "model_name": "HTMLModel",
          "state": {
            "_dom_classes": [],
            "_model_module": "@jupyter-widgets/controls",
            "_model_module_version": "1.5.0",
            "_model_name": "HTMLModel",
            "_view_count": null,
            "_view_module": "@jupyter-widgets/controls",
            "_view_module_version": "1.5.0",
            "_view_name": "HTMLView",
            "description": "",
            "description_tooltip": null,
            "layout": "IPY_MODEL_6a3686a31f6d470283ccb9ded28aa738",
            "placeholder": "​",
            "style": "IPY_MODEL_56096b5e1d764749a2bc0ab2aa10ed72",
            "value": "Epoch 1/1:   0%"
          }
        },
        "599027dcc5a047d29838505814eb8dc4": {
          "model_module": "@jupyter-widgets/controls",
          "model_module_version": "1.5.0",
          "model_name": "TextModel",
          "state": {
            "_dom_classes": [],
            "_model_module": "@jupyter-widgets/controls",
            "_model_module_version": "1.5.0",
            "_model_name": "TextModel",
            "_view_count": null,
            "_view_module": "@jupyter-widgets/controls",
            "_view_module_version": "1.5.0",
            "_view_name": "TextView",
            "continuous_update": true,
            "description": "",
            "description_tooltip": null,
            "disabled": false,
            "layout": "IPY_MODEL_e996a9bfa55949878f3d3f5ad942d0ec",
            "placeholder": "Enter partial book name",
            "style": "IPY_MODEL_a3dd9483709642dc80d2f1701768964d",
            "value": ""
          }
        },
        "5b78bacd19284db59e6c40f5a5057104": {
          "model_module": "@jupyter-widgets/controls",
          "model_module_version": "1.5.0",
          "model_name": "HTMLModel",
          "state": {
            "_dom_classes": [],
            "_model_module": "@jupyter-widgets/controls",
            "_model_module_version": "1.5.0",
            "_model_name": "HTMLModel",
            "_view_count": null,
            "_view_module": "@jupyter-widgets/controls",
            "_view_module_version": "1.5.0",
            "_view_name": "HTMLView",
            "description": "",
            "description_tooltip": null,
            "layout": "IPY_MODEL_be20f853d6fe472eb91b470003ae9507",
            "placeholder": "​",
            "style": "IPY_MODEL_f5f8fbb6597c4c7db0a7ac6b6a217811",
            "value": "Processing Reviews: 100%"
          }
        },
        "5dec3787cd3d4d60847804390ad8dd80": {
          "model_module": "@jupyter-widgets/controls",
          "model_module_version": "1.5.0",
          "model_name": "ProgressStyleModel",
          "state": {
            "_model_module": "@jupyter-widgets/controls",
            "_model_module_version": "1.5.0",
            "_model_name": "ProgressStyleModel",
            "_view_count": null,
            "_view_module": "@jupyter-widgets/base",
            "_view_module_version": "1.2.0",
            "_view_name": "StyleView",
            "bar_color": null,
            "description_width": ""
          }
        },
        "61241ccfef8748cc8a32796f098c6df6": {
          "model_module": "@jupyter-widgets/controls",
          "model_module_version": "1.5.0",
          "model_name": "DescriptionStyleModel",
          "state": {
            "_model_module": "@jupyter-widgets/controls",
            "_model_module_version": "1.5.0",
            "_model_name": "DescriptionStyleModel",
            "_view_count": null,
            "_view_module": "@jupyter-widgets/base",
            "_view_module_version": "1.2.0",
            "_view_name": "StyleView",
            "description_width": ""
          }
        },
        "62326ae128a44a5796ab652fd18b28d5": {
          "model_module": "@jupyter-widgets/base",
          "model_module_version": "1.2.0",
          "model_name": "LayoutModel",
          "state": {
            "_model_module": "@jupyter-widgets/base",
            "_model_module_version": "1.2.0",
            "_model_name": "LayoutModel",
            "_view_count": null,
            "_view_module": "@jupyter-widgets/base",
            "_view_module_version": "1.2.0",
            "_view_name": "LayoutView",
            "align_content": null,
            "align_items": null,
            "align_self": null,
            "border": null,
            "bottom": null,
            "display": null,
            "flex": null,
            "flex_flow": null,
            "grid_area": null,
            "grid_auto_columns": null,
            "grid_auto_flow": null,
            "grid_auto_rows": null,
            "grid_column": null,
            "grid_gap": null,
            "grid_row": null,
            "grid_template_areas": null,
            "grid_template_columns": null,
            "grid_template_rows": null,
            "height": null,
            "justify_content": null,
            "justify_items": null,
            "left": null,
            "margin": null,
            "max_height": null,
            "max_width": null,
            "min_height": null,
            "min_width": null,
            "object_fit": null,
            "object_position": null,
            "order": null,
            "overflow": null,
            "overflow_x": null,
            "overflow_y": null,
            "padding": null,
            "right": null,
            "top": null,
            "visibility": null,
            "width": null
          }
        },
        "650f6edc8fb34ed395a31a1b404e08fb": {
          "model_module": "@jupyter-widgets/controls",
          "model_module_version": "1.5.0",
          "model_name": "ButtonStyleModel",
          "state": {
            "_model_module": "@jupyter-widgets/controls",
            "_model_module_version": "1.5.0",
            "_model_name": "ButtonStyleModel",
            "_view_count": null,
            "_view_module": "@jupyter-widgets/base",
            "_view_module_version": "1.2.0",
            "_view_name": "StyleView",
            "button_color": null,
            "font_weight": ""
          }
        },
        "6681196636274e6a9727e259e55b6d53": {
          "model_module": "@jupyter-widgets/controls",
          "model_module_version": "1.5.0",
          "model_name": "HTMLModel",
          "state": {
            "_dom_classes": [],
            "_model_module": "@jupyter-widgets/controls",
            "_model_module_version": "1.5.0",
            "_model_name": "HTMLModel",
            "_view_count": null,
            "_view_module": "@jupyter-widgets/controls",
            "_view_module_version": "1.5.0",
            "_view_name": "HTMLView",
            "description": "",
            "description_tooltip": null,
            "layout": "IPY_MODEL_b56dbf797d954d0ca77e1b8b4fc1200c",
            "placeholder": "​",
            "style": "IPY_MODEL_c65842f1245f41368f15ce739d9310c0",
            "value": " 6467/6467 [00:09&lt;00:00, 898.71it/s]"
          }
        },
        "66c80d0328624c71adfd2e7eed12d4a9": {
          "model_module": "@jupyter-widgets/controls",
          "model_module_version": "1.5.0",
          "model_name": "ProgressStyleModel",
          "state": {
            "_model_module": "@jupyter-widgets/controls",
            "_model_module_version": "1.5.0",
            "_model_name": "ProgressStyleModel",
            "_view_count": null,
            "_view_module": "@jupyter-widgets/base",
            "_view_module_version": "1.2.0",
            "_view_name": "StyleView",
            "bar_color": null,
            "description_width": ""
          }
        },
        "67f5826d3fd34b3d96b16241871814f1": {
          "model_module": "@jupyter-widgets/base",
          "model_module_version": "1.2.0",
          "model_name": "LayoutModel",
          "state": {
            "_model_module": "@jupyter-widgets/base",
            "_model_module_version": "1.2.0",
            "_model_name": "LayoutModel",
            "_view_count": null,
            "_view_module": "@jupyter-widgets/base",
            "_view_module_version": "1.2.0",
            "_view_name": "LayoutView",
            "align_content": null,
            "align_items": null,
            "align_self": null,
            "border": null,
            "bottom": null,
            "display": null,
            "flex": null,
            "flex_flow": null,
            "grid_area": null,
            "grid_auto_columns": null,
            "grid_auto_flow": null,
            "grid_auto_rows": null,
            "grid_column": null,
            "grid_gap": null,
            "grid_row": null,
            "grid_template_areas": null,
            "grid_template_columns": null,
            "grid_template_rows": null,
            "height": null,
            "justify_content": null,
            "justify_items": null,
            "left": null,
            "margin": null,
            "max_height": null,
            "max_width": null,
            "min_height": null,
            "min_width": null,
            "object_fit": null,
            "object_position": null,
            "order": null,
            "overflow": null,
            "overflow_x": null,
            "overflow_y": null,
            "padding": null,
            "right": null,
            "top": null,
            "visibility": null,
            "width": null
          }
        },
        "6a009148a1ef4b63915c2cba165153fe": {
          "model_module": "@jupyter-widgets/base",
          "model_module_version": "1.2.0",
          "model_name": "LayoutModel",
          "state": {
            "_model_module": "@jupyter-widgets/base",
            "_model_module_version": "1.2.0",
            "_model_name": "LayoutModel",
            "_view_count": null,
            "_view_module": "@jupyter-widgets/base",
            "_view_module_version": "1.2.0",
            "_view_name": "LayoutView",
            "align_content": null,
            "align_items": null,
            "align_self": null,
            "border": null,
            "bottom": null,
            "display": null,
            "flex": null,
            "flex_flow": null,
            "grid_area": null,
            "grid_auto_columns": null,
            "grid_auto_flow": null,
            "grid_auto_rows": null,
            "grid_column": null,
            "grid_gap": null,
            "grid_row": null,
            "grid_template_areas": null,
            "grid_template_columns": null,
            "grid_template_rows": null,
            "height": null,
            "justify_content": null,
            "justify_items": null,
            "left": null,
            "margin": null,
            "max_height": null,
            "max_width": null,
            "min_height": null,
            "min_width": null,
            "object_fit": null,
            "object_position": null,
            "order": null,
            "overflow": null,
            "overflow_x": null,
            "overflow_y": null,
            "padding": null,
            "right": null,
            "top": null,
            "visibility": null,
            "width": null
          }
        },
        "6a3686a31f6d470283ccb9ded28aa738": {
          "model_module": "@jupyter-widgets/base",
          "model_module_version": "1.2.0",
          "model_name": "LayoutModel",
          "state": {
            "_model_module": "@jupyter-widgets/base",
            "_model_module_version": "1.2.0",
            "_model_name": "LayoutModel",
            "_view_count": null,
            "_view_module": "@jupyter-widgets/base",
            "_view_module_version": "1.2.0",
            "_view_name": "LayoutView",
            "align_content": null,
            "align_items": null,
            "align_self": null,
            "border": null,
            "bottom": null,
            "display": null,
            "flex": null,
            "flex_flow": null,
            "grid_area": null,
            "grid_auto_columns": null,
            "grid_auto_flow": null,
            "grid_auto_rows": null,
            "grid_column": null,
            "grid_gap": null,
            "grid_row": null,
            "grid_template_areas": null,
            "grid_template_columns": null,
            "grid_template_rows": null,
            "height": null,
            "justify_content": null,
            "justify_items": null,
            "left": null,
            "margin": null,
            "max_height": null,
            "max_width": null,
            "min_height": null,
            "min_width": null,
            "object_fit": null,
            "object_position": null,
            "order": null,
            "overflow": null,
            "overflow_x": null,
            "overflow_y": null,
            "padding": null,
            "right": null,
            "top": null,
            "visibility": null,
            "width": null
          }
        },
        "738b7635fb474257a9317ed4a35fe054": {
          "model_module": "@jupyter-widgets/base",
          "model_module_version": "1.2.0",
          "model_name": "LayoutModel",
          "state": {
            "_model_module": "@jupyter-widgets/base",
            "_model_module_version": "1.2.0",
            "_model_name": "LayoutModel",
            "_view_count": null,
            "_view_module": "@jupyter-widgets/base",
            "_view_module_version": "1.2.0",
            "_view_name": "LayoutView",
            "align_content": null,
            "align_items": null,
            "align_self": null,
            "border": null,
            "bottom": null,
            "display": null,
            "flex": null,
            "flex_flow": null,
            "grid_area": null,
            "grid_auto_columns": null,
            "grid_auto_flow": null,
            "grid_auto_rows": null,
            "grid_column": null,
            "grid_gap": null,
            "grid_row": null,
            "grid_template_areas": null,
            "grid_template_columns": null,
            "grid_template_rows": null,
            "height": null,
            "justify_content": null,
            "justify_items": null,
            "left": null,
            "margin": null,
            "max_height": null,
            "max_width": null,
            "min_height": null,
            "min_width": null,
            "object_fit": null,
            "object_position": null,
            "order": null,
            "overflow": null,
            "overflow_x": null,
            "overflow_y": null,
            "padding": null,
            "right": null,
            "top": null,
            "visibility": null,
            "width": null
          }
        },
        "77e4756d99dc4c31870f9ff4635015b8": {
          "model_module": "@jupyter-widgets/base",
          "model_module_version": "1.2.0",
          "model_name": "LayoutModel",
          "state": {
            "_model_module": "@jupyter-widgets/base",
            "_model_module_version": "1.2.0",
            "_model_name": "LayoutModel",
            "_view_count": null,
            "_view_module": "@jupyter-widgets/base",
            "_view_module_version": "1.2.0",
            "_view_name": "LayoutView",
            "align_content": null,
            "align_items": null,
            "align_self": null,
            "border": null,
            "bottom": null,
            "display": null,
            "flex": null,
            "flex_flow": null,
            "grid_area": null,
            "grid_auto_columns": null,
            "grid_auto_flow": null,
            "grid_auto_rows": null,
            "grid_column": null,
            "grid_gap": null,
            "grid_row": null,
            "grid_template_areas": null,
            "grid_template_columns": null,
            "grid_template_rows": null,
            "height": null,
            "justify_content": null,
            "justify_items": null,
            "left": null,
            "margin": null,
            "max_height": null,
            "max_width": null,
            "min_height": null,
            "min_width": null,
            "object_fit": null,
            "object_position": null,
            "order": null,
            "overflow": null,
            "overflow_x": null,
            "overflow_y": null,
            "padding": null,
            "right": null,
            "top": null,
            "visibility": null,
            "width": null
          }
        },
        "797523bc75f64e89b87cfbe5a4439acf": {
          "model_module": "@jupyter-widgets/controls",
          "model_module_version": "1.5.0",
          "model_name": "HBoxModel",
          "state": {
            "_dom_classes": [],
            "_model_module": "@jupyter-widgets/controls",
            "_model_module_version": "1.5.0",
            "_model_name": "HBoxModel",
            "_view_count": null,
            "_view_module": "@jupyter-widgets/controls",
            "_view_module_version": "1.5.0",
            "_view_name": "HBoxView",
            "box_style": "",
            "children": [
              "IPY_MODEL_7c6d24ed42b7475e9e62f82b97809be3",
              "IPY_MODEL_a6600de56ec148bab0ba27817ea95848",
              "IPY_MODEL_acb667635f58416ba13c3a5dc2b07ff8"
            ],
            "layout": "IPY_MODEL_67f5826d3fd34b3d96b16241871814f1"
          }
        },
        "7c6d24ed42b7475e9e62f82b97809be3": {
          "model_module": "@jupyter-widgets/controls",
          "model_module_version": "1.5.0",
          "model_name": "HTMLModel",
          "state": {
            "_dom_classes": [],
            "_model_module": "@jupyter-widgets/controls",
            "_model_module_version": "1.5.0",
            "_model_name": "HTMLModel",
            "_view_count": null,
            "_view_module": "@jupyter-widgets/controls",
            "_view_module_version": "1.5.0",
            "_view_name": "HTMLView",
            "description": "",
            "description_tooltip": null,
            "layout": "IPY_MODEL_0af2944ac0664ea0985367aa6c896156",
            "placeholder": "​",
            "style": "IPY_MODEL_c85476c6c25e4af6b08d646b6abbe8e6",
            "value": "100%"
          }
        },
        "7cdb62451fac4a9188a20b4368f74484": {
          "model_module": "@jupyter-widgets/controls",
          "model_module_version": "1.5.0",
          "model_name": "DescriptionStyleModel",
          "state": {
            "_model_module": "@jupyter-widgets/controls",
            "_model_module_version": "1.5.0",
            "_model_name": "DescriptionStyleModel",
            "_view_count": null,
            "_view_module": "@jupyter-widgets/base",
            "_view_module_version": "1.2.0",
            "_view_name": "StyleView",
            "description_width": ""
          }
        },
        "7e6745f2a2bb4c10947e0243a8294d00": {
          "model_module": "@jupyter-widgets/output",
          "model_module_version": "1.0.0",
          "model_name": "OutputModel",
          "state": {
            "_dom_classes": [],
            "_model_module": "@jupyter-widgets/output",
            "_model_module_version": "1.0.0",
            "_model_name": "OutputModel",
            "_view_count": null,
            "_view_module": "@jupyter-widgets/output",
            "_view_module_version": "1.0.0",
            "_view_name": "OutputView",
            "layout": "IPY_MODEL_a592833e6e6f407c841b7284b1238c5f",
            "msg_id": "",
            "outputs": []
          }
        },
        "83514d4653764d22ade33ffc990c9ba8": {
          "model_module": "@jupyter-widgets/base",
          "model_module_version": "1.2.0",
          "model_name": "LayoutModel",
          "state": {
            "_model_module": "@jupyter-widgets/base",
            "_model_module_version": "1.2.0",
            "_model_name": "LayoutModel",
            "_view_count": null,
            "_view_module": "@jupyter-widgets/base",
            "_view_module_version": "1.2.0",
            "_view_name": "LayoutView",
            "align_content": null,
            "align_items": null,
            "align_self": null,
            "border": null,
            "bottom": null,
            "display": null,
            "flex": null,
            "flex_flow": null,
            "grid_area": null,
            "grid_auto_columns": null,
            "grid_auto_flow": null,
            "grid_auto_rows": null,
            "grid_column": null,
            "grid_gap": null,
            "grid_row": null,
            "grid_template_areas": null,
            "grid_template_columns": null,
            "grid_template_rows": null,
            "height": null,
            "justify_content": null,
            "justify_items": null,
            "left": null,
            "margin": null,
            "max_height": null,
            "max_width": null,
            "min_height": null,
            "min_width": null,
            "object_fit": null,
            "object_position": null,
            "order": null,
            "overflow": null,
            "overflow_x": null,
            "overflow_y": null,
            "padding": null,
            "right": null,
            "top": null,
            "visibility": null,
            "width": null
          }
        },
        "85d23dee08a54bcb8f46dac25da75ed0": {
          "model_module": "@jupyter-widgets/base",
          "model_module_version": "1.2.0",
          "model_name": "LayoutModel",
          "state": {
            "_model_module": "@jupyter-widgets/base",
            "_model_module_version": "1.2.0",
            "_model_name": "LayoutModel",
            "_view_count": null,
            "_view_module": "@jupyter-widgets/base",
            "_view_module_version": "1.2.0",
            "_view_name": "LayoutView",
            "align_content": null,
            "align_items": null,
            "align_self": null,
            "border": null,
            "bottom": null,
            "display": null,
            "flex": null,
            "flex_flow": null,
            "grid_area": null,
            "grid_auto_columns": null,
            "grid_auto_flow": null,
            "grid_auto_rows": null,
            "grid_column": null,
            "grid_gap": null,
            "grid_row": null,
            "grid_template_areas": null,
            "grid_template_columns": null,
            "grid_template_rows": null,
            "height": null,
            "justify_content": null,
            "justify_items": null,
            "left": null,
            "margin": null,
            "max_height": null,
            "max_width": null,
            "min_height": null,
            "min_width": null,
            "object_fit": null,
            "object_position": null,
            "order": null,
            "overflow": null,
            "overflow_x": null,
            "overflow_y": null,
            "padding": null,
            "right": null,
            "top": null,
            "visibility": null,
            "width": null
          }
        },
        "8667148937d443349da0a95514c521c7": {
          "model_module": "@jupyter-widgets/base",
          "model_module_version": "1.2.0",
          "model_name": "LayoutModel",
          "state": {
            "_model_module": "@jupyter-widgets/base",
            "_model_module_version": "1.2.0",
            "_model_name": "LayoutModel",
            "_view_count": null,
            "_view_module": "@jupyter-widgets/base",
            "_view_module_version": "1.2.0",
            "_view_name": "LayoutView",
            "align_content": null,
            "align_items": null,
            "align_self": null,
            "border": null,
            "bottom": null,
            "display": null,
            "flex": null,
            "flex_flow": null,
            "grid_area": null,
            "grid_auto_columns": null,
            "grid_auto_flow": null,
            "grid_auto_rows": null,
            "grid_column": null,
            "grid_gap": null,
            "grid_row": null,
            "grid_template_areas": null,
            "grid_template_columns": null,
            "grid_template_rows": null,
            "height": null,
            "justify_content": null,
            "justify_items": null,
            "left": null,
            "margin": null,
            "max_height": null,
            "max_width": null,
            "min_height": null,
            "min_width": null,
            "object_fit": null,
            "object_position": null,
            "order": null,
            "overflow": null,
            "overflow_x": null,
            "overflow_y": null,
            "padding": null,
            "right": null,
            "top": null,
            "visibility": null,
            "width": null
          }
        },
        "8c4df880f1fc43058be1c933c5bbcc67": {
          "model_module": "@jupyter-widgets/controls",
          "model_module_version": "1.5.0",
          "model_name": "HTMLModel",
          "state": {
            "_dom_classes": [],
            "_model_module": "@jupyter-widgets/controls",
            "_model_module_version": "1.5.0",
            "_model_name": "HTMLModel",
            "_view_count": null,
            "_view_module": "@jupyter-widgets/controls",
            "_view_module_version": "1.5.0",
            "_view_name": "HTMLView",
            "description": "",
            "description_tooltip": null,
            "layout": "IPY_MODEL_738b7635fb474257a9317ed4a35fe054",
            "placeholder": "​",
            "style": "IPY_MODEL_53e26f24fc264dcaab1cbbd801245b4c",
            "value": " 42/42 [09:03&lt;00:00, 10.57s/it]"
          }
        },
        "8cd698106ec1482d820d608b0fb36ec4": {
          "model_module": "@jupyter-widgets/base",
          "model_module_version": "1.2.0",
          "model_name": "LayoutModel",
          "state": {
            "_model_module": "@jupyter-widgets/base",
            "_model_module_version": "1.2.0",
            "_model_name": "LayoutModel",
            "_view_count": null,
            "_view_module": "@jupyter-widgets/base",
            "_view_module_version": "1.2.0",
            "_view_name": "LayoutView",
            "align_content": null,
            "align_items": null,
            "align_self": null,
            "border": null,
            "bottom": null,
            "display": null,
            "flex": null,
            "flex_flow": null,
            "grid_area": null,
            "grid_auto_columns": null,
            "grid_auto_flow": null,
            "grid_auto_rows": null,
            "grid_column": null,
            "grid_gap": null,
            "grid_row": null,
            "grid_template_areas": null,
            "grid_template_columns": null,
            "grid_template_rows": null,
            "height": null,
            "justify_content": null,
            "justify_items": null,
            "left": null,
            "margin": null,
            "max_height": null,
            "max_width": null,
            "min_height": null,
            "min_width": null,
            "object_fit": null,
            "object_position": null,
            "order": null,
            "overflow": null,
            "overflow_x": null,
            "overflow_y": null,
            "padding": null,
            "right": null,
            "top": null,
            "visibility": null,
            "width": null
          }
        },
        "8d6dfeb0d94743008d8c45975f9fd8aa": {
          "model_module": "@jupyter-widgets/output",
          "model_module_version": "1.0.0",
          "model_name": "OutputModel",
          "state": {
            "_dom_classes": [],
            "_model_module": "@jupyter-widgets/output",
            "_model_module_version": "1.0.0",
            "_model_name": "OutputModel",
            "_view_count": null,
            "_view_module": "@jupyter-widgets/output",
            "_view_module_version": "1.0.0",
            "_view_name": "OutputView",
            "layout": "IPY_MODEL_0f43d4e26e23448c82a90fb33b5be7e5",
            "msg_id": "",
            "outputs": []
          }
        },
        "924394396bf94ff0950170c57f0725be": {
          "model_module": "@jupyter-widgets/controls",
          "model_module_version": "1.5.0",
          "model_name": "ButtonModel",
          "state": {
            "_dom_classes": [],
            "_model_module": "@jupyter-widgets/controls",
            "_model_module_version": "1.5.0",
            "_model_name": "ButtonModel",
            "_view_count": null,
            "_view_module": "@jupyter-widgets/controls",
            "_view_module_version": "1.5.0",
            "_view_name": "ButtonView",
            "button_style": "",
            "description": "Previous",
            "disabled": false,
            "icon": "",
            "layout": "IPY_MODEL_b9c163e7d15842618997de6b262ab13b",
            "style": "IPY_MODEL_650f6edc8fb34ed395a31a1b404e08fb",
            "tooltip": ""
          }
        },
        "9a1fdfc38b804332958e5ae91b932c2c": {
          "model_module": "@jupyter-widgets/controls",
          "model_module_version": "1.5.0",
          "model_name": "DescriptionStyleModel",
          "state": {
            "_model_module": "@jupyter-widgets/controls",
            "_model_module_version": "1.5.0",
            "_model_name": "DescriptionStyleModel",
            "_view_count": null,
            "_view_module": "@jupyter-widgets/base",
            "_view_module_version": "1.2.0",
            "_view_name": "StyleView",
            "description_width": ""
          }
        },
        "9d338e297d0e4153978ec07f8353af71": {
          "model_module": "@jupyter-widgets/controls",
          "model_module_version": "1.5.0",
          "model_name": "ButtonStyleModel",
          "state": {
            "_model_module": "@jupyter-widgets/controls",
            "_model_module_version": "1.5.0",
            "_model_name": "ButtonStyleModel",
            "_view_count": null,
            "_view_module": "@jupyter-widgets/base",
            "_view_module_version": "1.2.0",
            "_view_name": "StyleView",
            "button_color": null,
            "font_weight": ""
          }
        },
        "a3dd9483709642dc80d2f1701768964d": {
          "model_module": "@jupyter-widgets/controls",
          "model_module_version": "1.5.0",
          "model_name": "DescriptionStyleModel",
          "state": {
            "_model_module": "@jupyter-widgets/controls",
            "_model_module_version": "1.5.0",
            "_model_name": "DescriptionStyleModel",
            "_view_count": null,
            "_view_module": "@jupyter-widgets/base",
            "_view_module_version": "1.2.0",
            "_view_name": "StyleView",
            "description_width": ""
          }
        },
        "a40f252a3700481bac51b3ead41e6885": {
          "model_module": "@jupyter-widgets/controls",
          "model_module_version": "1.5.0",
          "model_name": "HTMLModel",
          "state": {
            "_dom_classes": [],
            "_model_module": "@jupyter-widgets/controls",
            "_model_module_version": "1.5.0",
            "_model_name": "HTMLModel",
            "_view_count": null,
            "_view_module": "@jupyter-widgets/controls",
            "_view_module_version": "1.5.0",
            "_view_name": "HTMLView",
            "description": "",
            "description_tooltip": null,
            "layout": "IPY_MODEL_0cde6f019b1e4f2eac78df304c46aec8",
            "placeholder": "​",
            "style": "IPY_MODEL_61241ccfef8748cc8a32796f098c6df6",
            "value": "Training Content based filtering model: 100%"
          }
        },
        "a592833e6e6f407c841b7284b1238c5f": {
          "model_module": "@jupyter-widgets/base",
          "model_module_version": "1.2.0",
          "model_name": "LayoutModel",
          "state": {
            "_model_module": "@jupyter-widgets/base",
            "_model_module_version": "1.2.0",
            "_model_name": "LayoutModel",
            "_view_count": null,
            "_view_module": "@jupyter-widgets/base",
            "_view_module_version": "1.2.0",
            "_view_name": "LayoutView",
            "align_content": null,
            "align_items": null,
            "align_self": null,
            "border": null,
            "bottom": null,
            "display": null,
            "flex": null,
            "flex_flow": null,
            "grid_area": null,
            "grid_auto_columns": null,
            "grid_auto_flow": null,
            "grid_auto_rows": null,
            "grid_column": null,
            "grid_gap": null,
            "grid_row": null,
            "grid_template_areas": null,
            "grid_template_columns": null,
            "grid_template_rows": null,
            "height": null,
            "justify_content": null,
            "justify_items": null,
            "left": null,
            "margin": null,
            "max_height": null,
            "max_width": null,
            "min_height": null,
            "min_width": null,
            "object_fit": null,
            "object_position": null,
            "order": null,
            "overflow": null,
            "overflow_x": null,
            "overflow_y": null,
            "padding": null,
            "right": null,
            "top": null,
            "visibility": null,
            "width": null
          }
        },
        "a6600de56ec148bab0ba27817ea95848": {
          "model_module": "@jupyter-widgets/controls",
          "model_module_version": "1.5.0",
          "model_name": "FloatProgressModel",
          "state": {
            "_dom_classes": [],
            "_model_module": "@jupyter-widgets/controls",
            "_model_module_version": "1.5.0",
            "_model_name": "FloatProgressModel",
            "_view_count": null,
            "_view_module": "@jupyter-widgets/controls",
            "_view_module_version": "1.5.0",
            "_view_name": "ProgressView",
            "bar_style": "success",
            "description": "",
            "description_tooltip": null,
            "layout": "IPY_MODEL_faa335d7526c451f9a4360e7f440d920",
            "max": 1058,
            "min": 0,
            "orientation": "horizontal",
            "style": "IPY_MODEL_09dd512d34bc475489727da54abb16f1",
            "value": 1058
          }
        },
        "acb667635f58416ba13c3a5dc2b07ff8": {
          "model_module": "@jupyter-widgets/controls",
          "model_module_version": "1.5.0",
          "model_name": "HTMLModel",
          "state": {
            "_dom_classes": [],
            "_model_module": "@jupyter-widgets/controls",
            "_model_module_version": "1.5.0",
            "_model_name": "HTMLModel",
            "_view_count": null,
            "_view_module": "@jupyter-widgets/controls",
            "_view_module_version": "1.5.0",
            "_view_name": "HTMLView",
            "description": "",
            "description_tooltip": null,
            "layout": "IPY_MODEL_4d3eb6e4b33b432fae0ab3b17adfd92c",
            "placeholder": "​",
            "style": "IPY_MODEL_da770116105e438b9c73dc0ff6af8b91",
            "value": " 1058/1058 [02:36&lt;00:00,  8.37it/s]"
          }
        },
        "ae35b8fe157440fdac9f7c1b2e9d0725": {
          "model_module": "@jupyter-widgets/controls",
          "model_module_version": "1.5.0",
          "model_name": "HTMLModel",
          "state": {
            "_dom_classes": [],
            "_model_module": "@jupyter-widgets/controls",
            "_model_module_version": "1.5.0",
            "_model_name": "HTMLModel",
            "_view_count": null,
            "_view_module": "@jupyter-widgets/controls",
            "_view_module_version": "1.5.0",
            "_view_name": "HTMLView",
            "description": "",
            "description_tooltip": null,
            "layout": "IPY_MODEL_be66bef166fb47d2b5ce716a08aaa60f",
            "placeholder": "​",
            "style": "IPY_MODEL_d517ab390aeb4ec5840f512bca295c7a",
            "value": "evaluating...: 100%"
          }
        },
        "b487907c3c894ae5b03a81eac9f88bad": {
          "model_module": "@jupyter-widgets/controls",
          "model_module_version": "1.5.0",
          "model_name": "FloatProgressModel",
          "state": {
            "_dom_classes": [],
            "_model_module": "@jupyter-widgets/controls",
            "_model_module_version": "1.5.0",
            "_model_name": "FloatProgressModel",
            "_view_count": null,
            "_view_module": "@jupyter-widgets/controls",
            "_view_module_version": "1.5.0",
            "_view_name": "ProgressView",
            "bar_style": "danger",
            "description": "",
            "description_tooltip": null,
            "layout": "IPY_MODEL_6a009148a1ef4b63915c2cba165153fe",
            "max": 6467,
            "min": 0,
            "orientation": "horizontal",
            "style": "IPY_MODEL_e4e72cb81c7347599c559eea63d6cc79",
            "value": 9
          }
        },
        "b56dbf797d954d0ca77e1b8b4fc1200c": {
          "model_module": "@jupyter-widgets/base",
          "model_module_version": "1.2.0",
          "model_name": "LayoutModel",
          "state": {
            "_model_module": "@jupyter-widgets/base",
            "_model_module_version": "1.2.0",
            "_model_name": "LayoutModel",
            "_view_count": null,
            "_view_module": "@jupyter-widgets/base",
            "_view_module_version": "1.2.0",
            "_view_name": "LayoutView",
            "align_content": null,
            "align_items": null,
            "align_self": null,
            "border": null,
            "bottom": null,
            "display": null,
            "flex": null,
            "flex_flow": null,
            "grid_area": null,
            "grid_auto_columns": null,
            "grid_auto_flow": null,
            "grid_auto_rows": null,
            "grid_column": null,
            "grid_gap": null,
            "grid_row": null,
            "grid_template_areas": null,
            "grid_template_columns": null,
            "grid_template_rows": null,
            "height": null,
            "justify_content": null,
            "justify_items": null,
            "left": null,
            "margin": null,
            "max_height": null,
            "max_width": null,
            "min_height": null,
            "min_width": null,
            "object_fit": null,
            "object_position": null,
            "order": null,
            "overflow": null,
            "overflow_x": null,
            "overflow_y": null,
            "padding": null,
            "right": null,
            "top": null,
            "visibility": null,
            "width": null
          }
        },
        "b9c163e7d15842618997de6b262ab13b": {
          "model_module": "@jupyter-widgets/base",
          "model_module_version": "1.2.0",
          "model_name": "LayoutModel",
          "state": {
            "_model_module": "@jupyter-widgets/base",
            "_model_module_version": "1.2.0",
            "_model_name": "LayoutModel",
            "_view_count": null,
            "_view_module": "@jupyter-widgets/base",
            "_view_module_version": "1.2.0",
            "_view_name": "LayoutView",
            "align_content": null,
            "align_items": null,
            "align_self": null,
            "border": null,
            "bottom": null,
            "display": null,
            "flex": null,
            "flex_flow": null,
            "grid_area": null,
            "grid_auto_columns": null,
            "grid_auto_flow": null,
            "grid_auto_rows": null,
            "grid_column": null,
            "grid_gap": null,
            "grid_row": null,
            "grid_template_areas": null,
            "grid_template_columns": null,
            "grid_template_rows": null,
            "height": null,
            "justify_content": null,
            "justify_items": null,
            "left": null,
            "margin": null,
            "max_height": null,
            "max_width": null,
            "min_height": null,
            "min_width": null,
            "object_fit": null,
            "object_position": null,
            "order": null,
            "overflow": null,
            "overflow_x": null,
            "overflow_y": null,
            "padding": null,
            "right": null,
            "top": null,
            "visibility": null,
            "width": null
          }
        },
        "be20f853d6fe472eb91b470003ae9507": {
          "model_module": "@jupyter-widgets/base",
          "model_module_version": "1.2.0",
          "model_name": "LayoutModel",
          "state": {
            "_model_module": "@jupyter-widgets/base",
            "_model_module_version": "1.2.0",
            "_model_name": "LayoutModel",
            "_view_count": null,
            "_view_module": "@jupyter-widgets/base",
            "_view_module_version": "1.2.0",
            "_view_name": "LayoutView",
            "align_content": null,
            "align_items": null,
            "align_self": null,
            "border": null,
            "bottom": null,
            "display": null,
            "flex": null,
            "flex_flow": null,
            "grid_area": null,
            "grid_auto_columns": null,
            "grid_auto_flow": null,
            "grid_auto_rows": null,
            "grid_column": null,
            "grid_gap": null,
            "grid_row": null,
            "grid_template_areas": null,
            "grid_template_columns": null,
            "grid_template_rows": null,
            "height": null,
            "justify_content": null,
            "justify_items": null,
            "left": null,
            "margin": null,
            "max_height": null,
            "max_width": null,
            "min_height": null,
            "min_width": null,
            "object_fit": null,
            "object_position": null,
            "order": null,
            "overflow": null,
            "overflow_x": null,
            "overflow_y": null,
            "padding": null,
            "right": null,
            "top": null,
            "visibility": null,
            "width": null
          }
        },
        "be66bef166fb47d2b5ce716a08aaa60f": {
          "model_module": "@jupyter-widgets/base",
          "model_module_version": "1.2.0",
          "model_name": "LayoutModel",
          "state": {
            "_model_module": "@jupyter-widgets/base",
            "_model_module_version": "1.2.0",
            "_model_name": "LayoutModel",
            "_view_count": null,
            "_view_module": "@jupyter-widgets/base",
            "_view_module_version": "1.2.0",
            "_view_name": "LayoutView",
            "align_content": null,
            "align_items": null,
            "align_self": null,
            "border": null,
            "bottom": null,
            "display": null,
            "flex": null,
            "flex_flow": null,
            "grid_area": null,
            "grid_auto_columns": null,
            "grid_auto_flow": null,
            "grid_auto_rows": null,
            "grid_column": null,
            "grid_gap": null,
            "grid_row": null,
            "grid_template_areas": null,
            "grid_template_columns": null,
            "grid_template_rows": null,
            "height": null,
            "justify_content": null,
            "justify_items": null,
            "left": null,
            "margin": null,
            "max_height": null,
            "max_width": null,
            "min_height": null,
            "min_width": null,
            "object_fit": null,
            "object_position": null,
            "order": null,
            "overflow": null,
            "overflow_x": null,
            "overflow_y": null,
            "padding": null,
            "right": null,
            "top": null,
            "visibility": null,
            "width": null
          }
        },
        "beb5933be105414b819a3e73c319d3c3": {
          "model_module": "@jupyter-widgets/controls",
          "model_module_version": "1.5.0",
          "model_name": "HBoxModel",
          "state": {
            "_dom_classes": [],
            "_model_module": "@jupyter-widgets/controls",
            "_model_module_version": "1.5.0",
            "_model_name": "HBoxModel",
            "_view_count": null,
            "_view_module": "@jupyter-widgets/controls",
            "_view_module_version": "1.5.0",
            "_view_name": "HBoxView",
            "box_style": "",
            "children": [
              "IPY_MODEL_ae35b8fe157440fdac9f7c1b2e9d0725",
              "IPY_MODEL_4731aaf7f77949bab20aac5f78f7b6e1",
              "IPY_MODEL_6681196636274e6a9727e259e55b6d53"
            ],
            "layout": "IPY_MODEL_427dce56fb1e4f6a9f1feefc50191ecc"
          }
        },
        "bf9172d0bce944c7b208c00d870922a3": {
          "model_module": "@jupyter-widgets/controls",
          "model_module_version": "1.5.0",
          "model_name": "HTMLModel",
          "state": {
            "_dom_classes": [],
            "_model_module": "@jupyter-widgets/controls",
            "_model_module_version": "1.5.0",
            "_model_name": "HTMLModel",
            "_view_count": null,
            "_view_module": "@jupyter-widgets/controls",
            "_view_module_version": "1.5.0",
            "_view_name": "HTMLView",
            "description": "",
            "description_tooltip": null,
            "layout": "IPY_MODEL_e47624d76116493094f30df6aa43b86f",
            "placeholder": "​",
            "style": "IPY_MODEL_1f193fddd16544a8ba4484ba0d84a911",
            "value": " 0/1 [00:05&lt;?, ?it/s]"
          }
        },
        "c65842f1245f41368f15ce739d9310c0": {
          "model_module": "@jupyter-widgets/controls",
          "model_module_version": "1.5.0",
          "model_name": "DescriptionStyleModel",
          "state": {
            "_model_module": "@jupyter-widgets/controls",
            "_model_module_version": "1.5.0",
            "_model_name": "DescriptionStyleModel",
            "_view_count": null,
            "_view_module": "@jupyter-widgets/base",
            "_view_module_version": "1.2.0",
            "_view_name": "StyleView",
            "description_width": ""
          }
        },
        "c85476c6c25e4af6b08d646b6abbe8e6": {
          "model_module": "@jupyter-widgets/controls",
          "model_module_version": "1.5.0",
          "model_name": "DescriptionStyleModel",
          "state": {
            "_model_module": "@jupyter-widgets/controls",
            "_model_module_version": "1.5.0",
            "_model_name": "DescriptionStyleModel",
            "_view_count": null,
            "_view_module": "@jupyter-widgets/base",
            "_view_module_version": "1.2.0",
            "_view_name": "StyleView",
            "description_width": ""
          }
        },
        "ca8b5baaa9c447e2936ed5844d5b5486": {
          "model_module": "@jupyter-widgets/base",
          "model_module_version": "1.2.0",
          "model_name": "LayoutModel",
          "state": {
            "_model_module": "@jupyter-widgets/base",
            "_model_module_version": "1.2.0",
            "_model_name": "LayoutModel",
            "_view_count": null,
            "_view_module": "@jupyter-widgets/base",
            "_view_module_version": "1.2.0",
            "_view_name": "LayoutView",
            "align_content": null,
            "align_items": null,
            "align_self": null,
            "border": null,
            "bottom": null,
            "display": null,
            "flex": null,
            "flex_flow": null,
            "grid_area": null,
            "grid_auto_columns": null,
            "grid_auto_flow": null,
            "grid_auto_rows": null,
            "grid_column": null,
            "grid_gap": null,
            "grid_row": null,
            "grid_template_areas": null,
            "grid_template_columns": null,
            "grid_template_rows": null,
            "height": null,
            "justify_content": null,
            "justify_items": null,
            "left": null,
            "margin": null,
            "max_height": null,
            "max_width": null,
            "min_height": null,
            "min_width": null,
            "object_fit": null,
            "object_position": null,
            "order": null,
            "overflow": null,
            "overflow_x": null,
            "overflow_y": null,
            "padding": null,
            "right": null,
            "top": null,
            "visibility": null,
            "width": null
          }
        },
        "d517ab390aeb4ec5840f512bca295c7a": {
          "model_module": "@jupyter-widgets/controls",
          "model_module_version": "1.5.0",
          "model_name": "DescriptionStyleModel",
          "state": {
            "_model_module": "@jupyter-widgets/controls",
            "_model_module_version": "1.5.0",
            "_model_name": "DescriptionStyleModel",
            "_view_count": null,
            "_view_module": "@jupyter-widgets/base",
            "_view_module_version": "1.2.0",
            "_view_name": "StyleView",
            "description_width": ""
          }
        },
        "d689da3c73a24cbfb9e689210abb7239": {
          "model_module": "@jupyter-widgets/output",
          "model_module_version": "1.0.0",
          "model_name": "OutputModel",
          "state": {
            "_dom_classes": [],
            "_model_module": "@jupyter-widgets/output",
            "_model_module_version": "1.0.0",
            "_model_name": "OutputModel",
            "_view_count": null,
            "_view_module": "@jupyter-widgets/output",
            "_view_module_version": "1.0.0",
            "_view_name": "OutputView",
            "layout": "IPY_MODEL_85d23dee08a54bcb8f46dac25da75ed0",
            "msg_id": "",
            "outputs": [
              {
                "name": "stdout",
                "output_type": "stream",
                "text": [
                  "['Science fiction']\n",
                  "['Science fiction, American']\n",
                  "['Science fiction, French']\n",
                  "['Science fiction.']\n"
                ]
              }
            ]
          }
        },
        "da770116105e438b9c73dc0ff6af8b91": {
          "model_module": "@jupyter-widgets/controls",
          "model_module_version": "1.5.0",
          "model_name": "DescriptionStyleModel",
          "state": {
            "_model_module": "@jupyter-widgets/controls",
            "_model_module_version": "1.5.0",
            "_model_name": "DescriptionStyleModel",
            "_view_count": null,
            "_view_module": "@jupyter-widgets/base",
            "_view_module_version": "1.2.0",
            "_view_name": "StyleView",
            "description_width": ""
          }
        },
        "dc0068a6e27a4100989da88d7edea63f": {
          "model_module": "@jupyter-widgets/controls",
          "model_module_version": "1.5.0",
          "model_name": "DescriptionStyleModel",
          "state": {
            "_model_module": "@jupyter-widgets/controls",
            "_model_module_version": "1.5.0",
            "_model_name": "DescriptionStyleModel",
            "_view_count": null,
            "_view_module": "@jupyter-widgets/base",
            "_view_module_version": "1.2.0",
            "_view_name": "StyleView",
            "description_width": ""
          }
        },
        "e18944d4019441f7acba99b921b68bce": {
          "model_module": "@jupyter-widgets/controls",
          "model_module_version": "1.5.0",
          "model_name": "HTMLModel",
          "state": {
            "_dom_classes": [],
            "_model_module": "@jupyter-widgets/controls",
            "_model_module_version": "1.5.0",
            "_model_name": "HTMLModel",
            "_view_count": null,
            "_view_module": "@jupyter-widgets/controls",
            "_view_module_version": "1.5.0",
            "_view_name": "HTMLView",
            "description": "",
            "description_tooltip": null,
            "layout": "IPY_MODEL_013eb5939d484e5c96b8d7315620c28b",
            "placeholder": "​",
            "style": "IPY_MODEL_eb23594424b24256bb0ab6411b7d0007",
            "value": " 9/6467 [00:05&lt;58:16,  1.85it/s]"
          }
        },
        "e47624d76116493094f30df6aa43b86f": {
          "model_module": "@jupyter-widgets/base",
          "model_module_version": "1.2.0",
          "model_name": "LayoutModel",
          "state": {
            "_model_module": "@jupyter-widgets/base",
            "_model_module_version": "1.2.0",
            "_model_name": "LayoutModel",
            "_view_count": null,
            "_view_module": "@jupyter-widgets/base",
            "_view_module_version": "1.2.0",
            "_view_name": "LayoutView",
            "align_content": null,
            "align_items": null,
            "align_self": null,
            "border": null,
            "bottom": null,
            "display": null,
            "flex": null,
            "flex_flow": null,
            "grid_area": null,
            "grid_auto_columns": null,
            "grid_auto_flow": null,
            "grid_auto_rows": null,
            "grid_column": null,
            "grid_gap": null,
            "grid_row": null,
            "grid_template_areas": null,
            "grid_template_columns": null,
            "grid_template_rows": null,
            "height": null,
            "justify_content": null,
            "justify_items": null,
            "left": null,
            "margin": null,
            "max_height": null,
            "max_width": null,
            "min_height": null,
            "min_width": null,
            "object_fit": null,
            "object_position": null,
            "order": null,
            "overflow": null,
            "overflow_x": null,
            "overflow_y": null,
            "padding": null,
            "right": null,
            "top": null,
            "visibility": null,
            "width": null
          }
        },
        "e4e72cb81c7347599c559eea63d6cc79": {
          "model_module": "@jupyter-widgets/controls",
          "model_module_version": "1.5.0",
          "model_name": "ProgressStyleModel",
          "state": {
            "_model_module": "@jupyter-widgets/controls",
            "_model_module_version": "1.5.0",
            "_model_name": "ProgressStyleModel",
            "_view_count": null,
            "_view_module": "@jupyter-widgets/base",
            "_view_module_version": "1.2.0",
            "_view_name": "StyleView",
            "bar_color": null,
            "description_width": ""
          }
        },
        "e59023ce437146d4b9afb63d25a2c088": {
          "model_module": "@jupyter-widgets/base",
          "model_module_version": "1.2.0",
          "model_name": "LayoutModel",
          "state": {
            "_model_module": "@jupyter-widgets/base",
            "_model_module_version": "1.2.0",
            "_model_name": "LayoutModel",
            "_view_count": null,
            "_view_module": "@jupyter-widgets/base",
            "_view_module_version": "1.2.0",
            "_view_name": "LayoutView",
            "align_content": null,
            "align_items": null,
            "align_self": null,
            "border": null,
            "bottom": null,
            "display": null,
            "flex": null,
            "flex_flow": null,
            "grid_area": null,
            "grid_auto_columns": null,
            "grid_auto_flow": null,
            "grid_auto_rows": null,
            "grid_column": null,
            "grid_gap": null,
            "grid_row": null,
            "grid_template_areas": null,
            "grid_template_columns": null,
            "grid_template_rows": null,
            "height": null,
            "justify_content": null,
            "justify_items": null,
            "left": null,
            "margin": null,
            "max_height": null,
            "max_width": null,
            "min_height": null,
            "min_width": null,
            "object_fit": null,
            "object_position": null,
            "order": null,
            "overflow": null,
            "overflow_x": null,
            "overflow_y": null,
            "padding": null,
            "right": null,
            "top": null,
            "visibility": null,
            "width": null
          }
        },
        "e626c49acb46450f895678350550e04d": {
          "model_module": "@jupyter-widgets/controls",
          "model_module_version": "1.5.0",
          "model_name": "ButtonModel",
          "state": {
            "_dom_classes": [],
            "_model_module": "@jupyter-widgets/controls",
            "_model_module_version": "1.5.0",
            "_model_name": "ButtonModel",
            "_view_count": null,
            "_view_module": "@jupyter-widgets/controls",
            "_view_module_version": "1.5.0",
            "_view_name": "ButtonView",
            "button_style": "",
            "description": "Next",
            "disabled": false,
            "icon": "",
            "layout": "IPY_MODEL_0e62da4a462246a9921fbead637cabd3",
            "style": "IPY_MODEL_2e5b7b585df341bba880eda282392956",
            "tooltip": ""
          }
        },
        "e7ad4b3d9fe44b528bb98f7c33e65a51": {
          "model_module": "@jupyter-widgets/controls",
          "model_module_version": "1.5.0",
          "model_name": "HTMLModel",
          "state": {
            "_dom_classes": [],
            "_model_module": "@jupyter-widgets/controls",
            "_model_module_version": "1.5.0",
            "_model_name": "HTMLModel",
            "_view_count": null,
            "_view_module": "@jupyter-widgets/controls",
            "_view_module_version": "1.5.0",
            "_view_name": "HTMLView",
            "description": "",
            "description_tooltip": null,
            "layout": "IPY_MODEL_8667148937d443349da0a95514c521c7",
            "placeholder": "​",
            "style": "IPY_MODEL_9a1fdfc38b804332958e5ae91b932c2c",
            "value": " 1/1 [02:36&lt;00:00, 156.18s/it]"
          }
        },
        "e996a9bfa55949878f3d3f5ad942d0ec": {
          "model_module": "@jupyter-widgets/base",
          "model_module_version": "1.2.0",
          "model_name": "LayoutModel",
          "state": {
            "_model_module": "@jupyter-widgets/base",
            "_model_module_version": "1.2.0",
            "_model_name": "LayoutModel",
            "_view_count": null,
            "_view_module": "@jupyter-widgets/base",
            "_view_module_version": "1.2.0",
            "_view_name": "LayoutView",
            "align_content": null,
            "align_items": null,
            "align_self": null,
            "border": null,
            "bottom": null,
            "display": null,
            "flex": null,
            "flex_flow": null,
            "grid_area": null,
            "grid_auto_columns": null,
            "grid_auto_flow": null,
            "grid_auto_rows": null,
            "grid_column": null,
            "grid_gap": null,
            "grid_row": null,
            "grid_template_areas": null,
            "grid_template_columns": null,
            "grid_template_rows": null,
            "height": null,
            "justify_content": null,
            "justify_items": null,
            "left": null,
            "margin": null,
            "max_height": null,
            "max_width": null,
            "min_height": null,
            "min_width": null,
            "object_fit": null,
            "object_position": null,
            "order": null,
            "overflow": null,
            "overflow_x": null,
            "overflow_y": null,
            "padding": null,
            "right": null,
            "top": null,
            "visibility": null,
            "width": null
          }
        },
        "eb23594424b24256bb0ab6411b7d0007": {
          "model_module": "@jupyter-widgets/controls",
          "model_module_version": "1.5.0",
          "model_name": "DescriptionStyleModel",
          "state": {
            "_model_module": "@jupyter-widgets/controls",
            "_model_module_version": "1.5.0",
            "_model_name": "DescriptionStyleModel",
            "_view_count": null,
            "_view_module": "@jupyter-widgets/base",
            "_view_module_version": "1.2.0",
            "_view_name": "StyleView",
            "description_width": ""
          }
        },
        "f3bb463bd98e47d894bc4f274acd94c2": {
          "model_module": "@jupyter-widgets/base",
          "model_module_version": "1.2.0",
          "model_name": "LayoutModel",
          "state": {
            "_model_module": "@jupyter-widgets/base",
            "_model_module_version": "1.2.0",
            "_model_name": "LayoutModel",
            "_view_count": null,
            "_view_module": "@jupyter-widgets/base",
            "_view_module_version": "1.2.0",
            "_view_name": "LayoutView",
            "align_content": null,
            "align_items": null,
            "align_self": null,
            "border": null,
            "bottom": null,
            "display": null,
            "flex": null,
            "flex_flow": null,
            "grid_area": null,
            "grid_auto_columns": null,
            "grid_auto_flow": null,
            "grid_auto_rows": null,
            "grid_column": null,
            "grid_gap": null,
            "grid_row": null,
            "grid_template_areas": null,
            "grid_template_columns": null,
            "grid_template_rows": null,
            "height": null,
            "justify_content": null,
            "justify_items": null,
            "left": null,
            "margin": null,
            "max_height": null,
            "max_width": null,
            "min_height": null,
            "min_width": null,
            "object_fit": null,
            "object_position": null,
            "order": null,
            "overflow": null,
            "overflow_x": null,
            "overflow_y": null,
            "padding": null,
            "right": null,
            "top": null,
            "visibility": null,
            "width": null
          }
        },
        "f5f8fbb6597c4c7db0a7ac6b6a217811": {
          "model_module": "@jupyter-widgets/controls",
          "model_module_version": "1.5.0",
          "model_name": "DescriptionStyleModel",
          "state": {
            "_model_module": "@jupyter-widgets/controls",
            "_model_module_version": "1.5.0",
            "_model_name": "DescriptionStyleModel",
            "_view_count": null,
            "_view_module": "@jupyter-widgets/base",
            "_view_module_version": "1.2.0",
            "_view_name": "StyleView",
            "description_width": ""
          }
        },
        "faa335d7526c451f9a4360e7f440d920": {
          "model_module": "@jupyter-widgets/base",
          "model_module_version": "1.2.0",
          "model_name": "LayoutModel",
          "state": {
            "_model_module": "@jupyter-widgets/base",
            "_model_module_version": "1.2.0",
            "_model_name": "LayoutModel",
            "_view_count": null,
            "_view_module": "@jupyter-widgets/base",
            "_view_module_version": "1.2.0",
            "_view_name": "LayoutView",
            "align_content": null,
            "align_items": null,
            "align_self": null,
            "border": null,
            "bottom": null,
            "display": null,
            "flex": null,
            "flex_flow": null,
            "grid_area": null,
            "grid_auto_columns": null,
            "grid_auto_flow": null,
            "grid_auto_rows": null,
            "grid_column": null,
            "grid_gap": null,
            "grid_row": null,
            "grid_template_areas": null,
            "grid_template_columns": null,
            "grid_template_rows": null,
            "height": null,
            "justify_content": null,
            "justify_items": null,
            "left": null,
            "margin": null,
            "max_height": null,
            "max_width": null,
            "min_height": null,
            "min_width": null,
            "object_fit": null,
            "object_position": null,
            "order": null,
            "overflow": null,
            "overflow_x": null,
            "overflow_y": null,
            "padding": null,
            "right": null,
            "top": null,
            "visibility": null,
            "width": null
          }
        },
        "fd74de1df2c549f7beaf5d2efc4589c1": {
          "model_module": "@jupyter-widgets/base",
          "model_module_version": "1.2.0",
          "model_name": "LayoutModel",
          "state": {
            "_model_module": "@jupyter-widgets/base",
            "_model_module_version": "1.2.0",
            "_model_name": "LayoutModel",
            "_view_count": null,
            "_view_module": "@jupyter-widgets/base",
            "_view_module_version": "1.2.0",
            "_view_name": "LayoutView",
            "align_content": null,
            "align_items": null,
            "align_self": null,
            "border": null,
            "bottom": null,
            "display": null,
            "flex": null,
            "flex_flow": null,
            "grid_area": null,
            "grid_auto_columns": null,
            "grid_auto_flow": null,
            "grid_auto_rows": null,
            "grid_column": null,
            "grid_gap": null,
            "grid_row": null,
            "grid_template_areas": null,
            "grid_template_columns": null,
            "grid_template_rows": null,
            "height": null,
            "justify_content": null,
            "justify_items": null,
            "left": null,
            "margin": null,
            "max_height": null,
            "max_width": null,
            "min_height": null,
            "min_width": null,
            "object_fit": null,
            "object_position": null,
            "order": null,
            "overflow": null,
            "overflow_x": null,
            "overflow_y": null,
            "padding": null,
            "right": null,
            "top": null,
            "visibility": null,
            "width": null
          }
        },
        "fe6e93619e814600947f30075379e707": {
          "model_module": "@jupyter-widgets/controls",
          "model_module_version": "1.5.0",
          "model_name": "TextModel",
          "state": {
            "_dom_classes": [],
            "_model_module": "@jupyter-widgets/controls",
            "_model_module_version": "1.5.0",
            "_model_name": "TextModel",
            "_view_count": null,
            "_view_module": "@jupyter-widgets/controls",
            "_view_module_version": "1.5.0",
            "_view_name": "TextView",
            "continuous_update": true,
            "description": "",
            "description_tooltip": null,
            "disabled": false,
            "layout": "IPY_MODEL_18ef241d0849433f85fb72ea6a551c0b",
            "placeholder": "Enter partial category name",
            "style": "IPY_MODEL_7cdb62451fac4a9188a20b4368f74484",
            "value": "Science fiction"
          }
        }
      }
    }
  },
  "nbformat": 4,
  "nbformat_minor": 5
}
